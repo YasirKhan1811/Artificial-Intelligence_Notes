{
  "cells": [
    {
      "cell_type": "markdown",
      "metadata": {
        "id": "view-in-github",
        "colab_type": "text"
      },
      "source": [
        "<a href=\"https://colab.research.google.com/github/YasirKhan1811/YasirKhan1811.github.io/blob/main/Analyzing_Police_Activity_in_Rhode_Island.ipynb\" target=\"_parent\"><img src=\"https://colab.research.google.com/assets/colab-badge.svg\" alt=\"Open In Colab\"/></a>"
      ]
    },
    {
      "cell_type": "markdown",
      "source": [
        "# Data Analysis of Traffic Police Activity in Rhode Island\n",
        "\n",
        "---\n",
        "\n",
        "\n",
        "\n",
        "---\n",
        "\n"
      ],
      "metadata": {
        "id": "SqXh26cwlyV6"
      },
      "id": "SqXh26cwlyV6"
    },
    {
      "cell_type": "markdown",
      "source": [
        "This project is a complete data analysis of the *traffic stops by police officers data* that was collected by **Stanford Open Policing** project.\n",
        "\n",
        "The data analysis process includes:\n",
        "- Data Preparation (Data Cleaning)\n",
        "- Exploratory Data Analysis\n",
        "\n",
        "Specifically, it involves cleaning messy data, creating visualizations, combining and reshaping datasets, and manipulating time series data.\n",
        "\n",
        "The dataset is sourced from the website of [Stanford Open Policing Project](https://openpolicing.stanford.edu/). Primarily, this website hosts traffic stops data of 32 US states. However, I focus my attention on analyzing police behaviour during the traffic stops of Rhode Island."
      ],
      "metadata": {
        "id": "6joW3lbwvHQ1"
      },
      "id": "6joW3lbwvHQ1"
    },
    {
      "cell_type": "markdown",
      "source": [
        "## Data set Import and the First Glances\n",
        "---"
      ],
      "metadata": {
        "id": "eBQyNIZcvMbF"
      },
      "id": "eBQyNIZcvMbF"
    },
    {
      "cell_type": "code",
      "source": [
        "from google.colab import drive\n",
        "drive.mount('/content/drive')"
      ],
      "metadata": {
        "colab": {
          "base_uri": "https://localhost:8080/"
        },
        "id": "vFmiTgiJ5ZZT",
        "outputId": "c947cc6d-b232-471e-e7b6-c484c3d35807"
      },
      "id": "vFmiTgiJ5ZZT",
      "execution_count": 1,
      "outputs": [
        {
          "output_type": "stream",
          "name": "stdout",
          "text": [
            "Drive already mounted at /content/drive; to attempt to forcibly remount, call drive.mount(\"/content/drive\", force_remount=True).\n"
          ]
        }
      ]
    },
    {
      "cell_type": "code",
      "execution_count": 2,
      "metadata": {
        "colab": {
          "base_uri": "https://localhost:8080/",
          "height": 374
        },
        "id": "d0eb4f16-5a99-460d-a5ba-706b7ef0bbe7",
        "outputId": "cbe0508e-df72-4d3e-da7a-fb46cdf75de0"
      },
      "outputs": [
        {
          "output_type": "execute_result",
          "data": {
            "text/plain": [
              "   Unnamed: 0 state   stop_date stop_time  county_name driver_gender  \\\n",
              "0           0    RI  2005-01-04     12:55          NaN             M   \n",
              "1           1    RI  2005-01-23     23:15          NaN             M   \n",
              "2           2    RI  2005-02-17     04:15          NaN             M   \n",
              "3           3    RI  2005-02-20     17:15          NaN             M   \n",
              "4           4    RI  2005-02-24     01:20          NaN             F   \n",
              "\n",
              "  driver_race                   violation_raw  violation  search_conducted  \\\n",
              "0       White  Equipment/Inspection Violation  Equipment             False   \n",
              "1       White                        Speeding   Speeding             False   \n",
              "2       White                        Speeding   Speeding             False   \n",
              "3       White                Call for Service      Other             False   \n",
              "4       White                        Speeding   Speeding             False   \n",
              "\n",
              "  search_type   stop_outcome is_arrested stop_duration  drugs_related_stop  \\\n",
              "0         NaN       Citation       False      0-15 Min               False   \n",
              "1         NaN       Citation       False      0-15 Min               False   \n",
              "2         NaN       Citation       False      0-15 Min               False   \n",
              "3         NaN  Arrest Driver        True     16-30 Min               False   \n",
              "4         NaN       Citation       False      0-15 Min               False   \n",
              "\n",
              "  district  \n",
              "0  Zone X4  \n",
              "1  Zone K3  \n",
              "2  Zone X4  \n",
              "3  Zone X1  \n",
              "4  Zone X3  "
            ],
            "text/html": [
              "\n",
              "  <div id=\"df-fd744a8a-fec5-4752-acde-2857f41fce5c\">\n",
              "    <div class=\"colab-df-container\">\n",
              "      <div>\n",
              "<style scoped>\n",
              "    .dataframe tbody tr th:only-of-type {\n",
              "        vertical-align: middle;\n",
              "    }\n",
              "\n",
              "    .dataframe tbody tr th {\n",
              "        vertical-align: top;\n",
              "    }\n",
              "\n",
              "    .dataframe thead th {\n",
              "        text-align: right;\n",
              "    }\n",
              "</style>\n",
              "<table border=\"1\" class=\"dataframe\">\n",
              "  <thead>\n",
              "    <tr style=\"text-align: right;\">\n",
              "      <th></th>\n",
              "      <th>Unnamed: 0</th>\n",
              "      <th>state</th>\n",
              "      <th>stop_date</th>\n",
              "      <th>stop_time</th>\n",
              "      <th>county_name</th>\n",
              "      <th>driver_gender</th>\n",
              "      <th>driver_race</th>\n",
              "      <th>violation_raw</th>\n",
              "      <th>violation</th>\n",
              "      <th>search_conducted</th>\n",
              "      <th>search_type</th>\n",
              "      <th>stop_outcome</th>\n",
              "      <th>is_arrested</th>\n",
              "      <th>stop_duration</th>\n",
              "      <th>drugs_related_stop</th>\n",
              "      <th>district</th>\n",
              "    </tr>\n",
              "  </thead>\n",
              "  <tbody>\n",
              "    <tr>\n",
              "      <th>0</th>\n",
              "      <td>0</td>\n",
              "      <td>RI</td>\n",
              "      <td>2005-01-04</td>\n",
              "      <td>12:55</td>\n",
              "      <td>NaN</td>\n",
              "      <td>M</td>\n",
              "      <td>White</td>\n",
              "      <td>Equipment/Inspection Violation</td>\n",
              "      <td>Equipment</td>\n",
              "      <td>False</td>\n",
              "      <td>NaN</td>\n",
              "      <td>Citation</td>\n",
              "      <td>False</td>\n",
              "      <td>0-15 Min</td>\n",
              "      <td>False</td>\n",
              "      <td>Zone X4</td>\n",
              "    </tr>\n",
              "    <tr>\n",
              "      <th>1</th>\n",
              "      <td>1</td>\n",
              "      <td>RI</td>\n",
              "      <td>2005-01-23</td>\n",
              "      <td>23:15</td>\n",
              "      <td>NaN</td>\n",
              "      <td>M</td>\n",
              "      <td>White</td>\n",
              "      <td>Speeding</td>\n",
              "      <td>Speeding</td>\n",
              "      <td>False</td>\n",
              "      <td>NaN</td>\n",
              "      <td>Citation</td>\n",
              "      <td>False</td>\n",
              "      <td>0-15 Min</td>\n",
              "      <td>False</td>\n",
              "      <td>Zone K3</td>\n",
              "    </tr>\n",
              "    <tr>\n",
              "      <th>2</th>\n",
              "      <td>2</td>\n",
              "      <td>RI</td>\n",
              "      <td>2005-02-17</td>\n",
              "      <td>04:15</td>\n",
              "      <td>NaN</td>\n",
              "      <td>M</td>\n",
              "      <td>White</td>\n",
              "      <td>Speeding</td>\n",
              "      <td>Speeding</td>\n",
              "      <td>False</td>\n",
              "      <td>NaN</td>\n",
              "      <td>Citation</td>\n",
              "      <td>False</td>\n",
              "      <td>0-15 Min</td>\n",
              "      <td>False</td>\n",
              "      <td>Zone X4</td>\n",
              "    </tr>\n",
              "    <tr>\n",
              "      <th>3</th>\n",
              "      <td>3</td>\n",
              "      <td>RI</td>\n",
              "      <td>2005-02-20</td>\n",
              "      <td>17:15</td>\n",
              "      <td>NaN</td>\n",
              "      <td>M</td>\n",
              "      <td>White</td>\n",
              "      <td>Call for Service</td>\n",
              "      <td>Other</td>\n",
              "      <td>False</td>\n",
              "      <td>NaN</td>\n",
              "      <td>Arrest Driver</td>\n",
              "      <td>True</td>\n",
              "      <td>16-30 Min</td>\n",
              "      <td>False</td>\n",
              "      <td>Zone X1</td>\n",
              "    </tr>\n",
              "    <tr>\n",
              "      <th>4</th>\n",
              "      <td>4</td>\n",
              "      <td>RI</td>\n",
              "      <td>2005-02-24</td>\n",
              "      <td>01:20</td>\n",
              "      <td>NaN</td>\n",
              "      <td>F</td>\n",
              "      <td>White</td>\n",
              "      <td>Speeding</td>\n",
              "      <td>Speeding</td>\n",
              "      <td>False</td>\n",
              "      <td>NaN</td>\n",
              "      <td>Citation</td>\n",
              "      <td>False</td>\n",
              "      <td>0-15 Min</td>\n",
              "      <td>False</td>\n",
              "      <td>Zone X3</td>\n",
              "    </tr>\n",
              "  </tbody>\n",
              "</table>\n",
              "</div>\n",
              "      <button class=\"colab-df-convert\" onclick=\"convertToInteractive('df-fd744a8a-fec5-4752-acde-2857f41fce5c')\"\n",
              "              title=\"Convert this dataframe to an interactive table.\"\n",
              "              style=\"display:none;\">\n",
              "        \n",
              "  <svg xmlns=\"http://www.w3.org/2000/svg\" height=\"24px\"viewBox=\"0 0 24 24\"\n",
              "       width=\"24px\">\n",
              "    <path d=\"M0 0h24v24H0V0z\" fill=\"none\"/>\n",
              "    <path d=\"M18.56 5.44l.94 2.06.94-2.06 2.06-.94-2.06-.94-.94-2.06-.94 2.06-2.06.94zm-11 1L8.5 8.5l.94-2.06 2.06-.94-2.06-.94L8.5 2.5l-.94 2.06-2.06.94zm10 10l.94 2.06.94-2.06 2.06-.94-2.06-.94-.94-2.06-.94 2.06-2.06.94z\"/><path d=\"M17.41 7.96l-1.37-1.37c-.4-.4-.92-.59-1.43-.59-.52 0-1.04.2-1.43.59L10.3 9.45l-7.72 7.72c-.78.78-.78 2.05 0 2.83L4 21.41c.39.39.9.59 1.41.59.51 0 1.02-.2 1.41-.59l7.78-7.78 2.81-2.81c.8-.78.8-2.07 0-2.86zM5.41 20L4 18.59l7.72-7.72 1.47 1.35L5.41 20z\"/>\n",
              "  </svg>\n",
              "      </button>\n",
              "      \n",
              "  <style>\n",
              "    .colab-df-container {\n",
              "      display:flex;\n",
              "      flex-wrap:wrap;\n",
              "      gap: 12px;\n",
              "    }\n",
              "\n",
              "    .colab-df-convert {\n",
              "      background-color: #E8F0FE;\n",
              "      border: none;\n",
              "      border-radius: 50%;\n",
              "      cursor: pointer;\n",
              "      display: none;\n",
              "      fill: #1967D2;\n",
              "      height: 32px;\n",
              "      padding: 0 0 0 0;\n",
              "      width: 32px;\n",
              "    }\n",
              "\n",
              "    .colab-df-convert:hover {\n",
              "      background-color: #E2EBFA;\n",
              "      box-shadow: 0px 1px 2px rgba(60, 64, 67, 0.3), 0px 1px 3px 1px rgba(60, 64, 67, 0.15);\n",
              "      fill: #174EA6;\n",
              "    }\n",
              "\n",
              "    [theme=dark] .colab-df-convert {\n",
              "      background-color: #3B4455;\n",
              "      fill: #D2E3FC;\n",
              "    }\n",
              "\n",
              "    [theme=dark] .colab-df-convert:hover {\n",
              "      background-color: #434B5C;\n",
              "      box-shadow: 0px 1px 3px 1px rgba(0, 0, 0, 0.15);\n",
              "      filter: drop-shadow(0px 1px 2px rgba(0, 0, 0, 0.3));\n",
              "      fill: #FFFFFF;\n",
              "    }\n",
              "  </style>\n",
              "\n",
              "      <script>\n",
              "        const buttonEl =\n",
              "          document.querySelector('#df-fd744a8a-fec5-4752-acde-2857f41fce5c button.colab-df-convert');\n",
              "        buttonEl.style.display =\n",
              "          google.colab.kernel.accessAllowed ? 'block' : 'none';\n",
              "\n",
              "        async function convertToInteractive(key) {\n",
              "          const element = document.querySelector('#df-fd744a8a-fec5-4752-acde-2857f41fce5c');\n",
              "          const dataTable =\n",
              "            await google.colab.kernel.invokeFunction('convertToInteractive',\n",
              "                                                     [key], {});\n",
              "          if (!dataTable) return;\n",
              "\n",
              "          const docLinkHtml = 'Like what you see? Visit the ' +\n",
              "            '<a target=\"_blank\" href=https://colab.research.google.com/notebooks/data_table.ipynb>data table notebook</a>'\n",
              "            + ' to learn more about interactive tables.';\n",
              "          element.innerHTML = '';\n",
              "          dataTable['output_type'] = 'display_data';\n",
              "          await google.colab.output.renderOutput(dataTable, element);\n",
              "          const docLink = document.createElement('div');\n",
              "          docLink.innerHTML = docLinkHtml;\n",
              "          element.appendChild(docLink);\n",
              "        }\n",
              "      </script>\n",
              "    </div>\n",
              "  </div>\n",
              "  "
            ]
          },
          "metadata": {},
          "execution_count": 2
        }
      ],
      "source": [
        "# import data set\n",
        "import pandas as pd\n",
        "\n",
        "# define path to the csv file\n",
        "path = '/content/drive/MyDrive/Colab Notebooks/Projects/traffic_stops.csv'\n",
        "\n",
        "# load the dataset and assign it to ri (stands for Rhode Island)\n",
        "ri = pd.read_csv(path)\n",
        "\n",
        "# show first 5 observations\n",
        "ri.head()"
      ],
      "id": "d0eb4f16-5a99-460d-a5ba-706b7ef0bbe7"
    },
    {
      "cell_type": "code",
      "source": [
        "ri.drop(['Unnamed: 0'], axis = 1, inplace=True)"
      ],
      "metadata": {
        "id": "RXf-2cMdDCV1"
      },
      "id": "RXf-2cMdDCV1",
      "execution_count": 3,
      "outputs": []
    },
    {
      "cell_type": "code",
      "execution_count": 4,
      "metadata": {
        "colab": {
          "base_uri": "https://localhost:8080/"
        },
        "id": "1c08509e-f925-4b5e-972c-0140c62799d6",
        "outputId": "8829fe2d-b5bb-464a-c057-a14a14ef0afe"
      },
      "outputs": [
        {
          "output_type": "stream",
          "name": "stdout",
          "text": [
            "Total no. of observations in the dataset: 91741\n",
            "Total no. of attributes in dataset: 15\n"
          ]
        }
      ],
      "source": [
        "print(\"Total no. of observations in the dataset:\", ri.shape[0])\n",
        "print(\"Total no. of attributes in dataset:\", ri.shape[1])"
      ],
      "id": "1c08509e-f925-4b5e-972c-0140c62799d6"
    },
    {
      "cell_type": "code",
      "execution_count": 5,
      "metadata": {
        "colab": {
          "base_uri": "https://localhost:8080/"
        },
        "id": "c904fcba-dc5d-46a7-8335-59e4e6f7af30",
        "outputId": "7c006b5d-e668-4e16-dd06-794a72104f65"
      },
      "outputs": [
        {
          "output_type": "execute_result",
          "data": {
            "text/plain": [
              "RangeIndex(start=0, stop=91741, step=1)"
            ]
          },
          "metadata": {},
          "execution_count": 5
        }
      ],
      "source": [
        "ri.index"
      ],
      "id": "c904fcba-dc5d-46a7-8335-59e4e6f7af30"
    },
    {
      "cell_type": "code",
      "execution_count": 6,
      "metadata": {
        "colab": {
          "base_uri": "https://localhost:8080/"
        },
        "id": "ea03cd65-b61f-4167-ac15-4f78d0305c7b",
        "outputId": "97214365-92e4-442e-b860-b349b44f2978"
      },
      "outputs": [
        {
          "output_type": "execute_result",
          "data": {
            "text/plain": [
              "Index(['state', 'stop_date', 'stop_time', 'county_name', 'driver_gender',\n",
              "       'driver_race', 'violation_raw', 'violation', 'search_conducted',\n",
              "       'search_type', 'stop_outcome', 'is_arrested', 'stop_duration',\n",
              "       'drugs_related_stop', 'district'],\n",
              "      dtype='object')"
            ]
          },
          "metadata": {},
          "execution_count": 6
        }
      ],
      "source": [
        "ri.columns"
      ],
      "id": "ea03cd65-b61f-4167-ac15-4f78d0305c7b"
    },
    {
      "cell_type": "markdown",
      "metadata": {
        "id": "5afe402d-7645-409a-8d4a-093398cf083b"
      },
      "source": [
        "## 01 - Preparing the Data for Analysis\n",
        "---"
      ],
      "id": "5afe402d-7645-409a-8d4a-093398cf083b"
    },
    {
      "cell_type": "code",
      "execution_count": 7,
      "metadata": {
        "colab": {
          "base_uri": "https://localhost:8080/"
        },
        "id": "bd01e586-434e-49b4-819a-5d226d3633e1",
        "outputId": "7a1d22b7-264f-460d-ba1d-f77e088797b9"
      },
      "outputs": [
        {
          "output_type": "stream",
          "name": "stdout",
          "text": [
            "<class 'pandas.core.frame.DataFrame'>\n",
            "RangeIndex: 91741 entries, 0 to 91740\n",
            "Data columns (total 15 columns):\n",
            " #   Column              Non-Null Count  Dtype  \n",
            "---  ------              --------------  -----  \n",
            " 0   state               91741 non-null  object \n",
            " 1   stop_date           91741 non-null  object \n",
            " 2   stop_time           91741 non-null  object \n",
            " 3   county_name         0 non-null      float64\n",
            " 4   driver_gender       86536 non-null  object \n",
            " 5   driver_race         86539 non-null  object \n",
            " 6   violation_raw       86539 non-null  object \n",
            " 7   violation           86539 non-null  object \n",
            " 8   search_conducted    91741 non-null  bool   \n",
            " 9   search_type         3307 non-null   object \n",
            " 10  stop_outcome        86539 non-null  object \n",
            " 11  is_arrested         86539 non-null  object \n",
            " 12  stop_duration       86539 non-null  object \n",
            " 13  drugs_related_stop  91741 non-null  bool   \n",
            " 14  district            91741 non-null  object \n",
            "dtypes: bool(2), float64(1), object(12)\n",
            "memory usage: 9.3+ MB\n"
          ]
        }
      ],
      "source": [
        "# quick summary of our data set\n",
        "ri.info()"
      ],
      "id": "bd01e586-434e-49b4-819a-5d226d3633e1"
    },
    {
      "cell_type": "code",
      "execution_count": 8,
      "metadata": {
        "colab": {
          "base_uri": "https://localhost:8080/"
        },
        "id": "da6ee070-3dda-4a52-aa01-019859113eb9",
        "outputId": "86798707-f075-41ac-e360-517e660271ff"
      },
      "outputs": [
        {
          "output_type": "stream",
          "name": "stdout",
          "text": [
            "state                   0.0\n",
            "stop_date               0.0\n",
            "stop_time               0.0\n",
            "county_name           100.0\n",
            "driver_gender           6.0\n",
            "driver_race             6.0\n",
            "violation_raw           6.0\n",
            "violation               6.0\n",
            "search_conducted        0.0\n",
            "search_type            96.0\n",
            "stop_outcome            6.0\n",
            "is_arrested             6.0\n",
            "stop_duration           6.0\n",
            "drugs_related_stop      0.0\n",
            "district                0.0\n",
            "dtype: float64\n"
          ]
        }
      ],
      "source": [
        "# number of nan values in each column\n",
        "nulls = ri.isnull().sum()\n",
        "\n",
        "# no. of observations\n",
        "rows = ri.shape[0]\n",
        "\n",
        "# fraction of null/nan values in each column\n",
        "print(((nulls/rows)*100).round(0))"
      ],
      "id": "da6ee070-3dda-4a52-aa01-019859113eb9"
    },
    {
      "cell_type": "markdown",
      "source": [
        "The **country_name** column has 100% of its data consists of NaN entries (missing data)"
      ],
      "metadata": {
        "id": "jNgmoTNDG6t4"
      },
      "id": "jNgmoTNDG6t4"
    },
    {
      "cell_type": "markdown",
      "source": [
        "### 1.1 Removing NaN values"
      ],
      "metadata": {
        "id": "myn5ZyXkohCw"
      },
      "id": "myn5ZyXkohCw"
    },
    {
      "cell_type": "markdown",
      "metadata": {
        "id": "f2f381be-04f7-49f5-85b8-1fb3ddcdc63e"
      },
      "source": [
        "Following 6 columns that have no nan entries:\n",
        "- state\n",
        "- stop_date\n",
        "- stop_time\n",
        "- search_conducted\n",
        "- drugs_related_stop\n",
        "- district\n",
        "\n",
        "The **county_name** column has all of its data missing/nan/null, so this column needs to be dropped.\n",
        "\n",
        "Columns that have small fractions of data missing (6%). It's normal, so either we remove those rows containing **nan** values or they can be imputed accordingly:\n",
        "- driver_gender\n",
        "- driver_race\n",
        "- violation_raw\n",
        "- violation\n",
        "- stop_outcome\n",
        "- is_arrested\n",
        "- stop_duration"
      ],
      "id": "f2f381be-04f7-49f5-85b8-1fb3ddcdc63e"
    },
    {
      "cell_type": "code",
      "execution_count": 9,
      "metadata": {
        "colab": {
          "base_uri": "https://localhost:8080/",
          "height": 357
        },
        "id": "c24bd1ec-218c-46d3-b43e-76e2964705c7",
        "outputId": "22eb03f0-cb93-4a9e-ed01-8a5e89ab5583"
      },
      "outputs": [
        {
          "output_type": "execute_result",
          "data": {
            "text/plain": [
              "  state   stop_date stop_time driver_gender driver_race  \\\n",
              "0    RI  2005-01-04     12:55             M       White   \n",
              "1    RI  2005-01-23     23:15             M       White   \n",
              "2    RI  2005-02-17     04:15             M       White   \n",
              "3    RI  2005-02-20     17:15             M       White   \n",
              "4    RI  2005-02-24     01:20             F       White   \n",
              "\n",
              "                    violation_raw  violation  search_conducted search_type  \\\n",
              "0  Equipment/Inspection Violation  Equipment             False         NaN   \n",
              "1                        Speeding   Speeding             False         NaN   \n",
              "2                        Speeding   Speeding             False         NaN   \n",
              "3                Call for Service      Other             False         NaN   \n",
              "4                        Speeding   Speeding             False         NaN   \n",
              "\n",
              "    stop_outcome is_arrested stop_duration  drugs_related_stop district  \n",
              "0       Citation       False      0-15 Min               False  Zone X4  \n",
              "1       Citation       False      0-15 Min               False  Zone K3  \n",
              "2       Citation       False      0-15 Min               False  Zone X4  \n",
              "3  Arrest Driver        True     16-30 Min               False  Zone X1  \n",
              "4       Citation       False      0-15 Min               False  Zone X3  "
            ],
            "text/html": [
              "\n",
              "  <div id=\"df-3a7ac40c-9db2-46d3-b3bd-0ac9d34092d5\">\n",
              "    <div class=\"colab-df-container\">\n",
              "      <div>\n",
              "<style scoped>\n",
              "    .dataframe tbody tr th:only-of-type {\n",
              "        vertical-align: middle;\n",
              "    }\n",
              "\n",
              "    .dataframe tbody tr th {\n",
              "        vertical-align: top;\n",
              "    }\n",
              "\n",
              "    .dataframe thead th {\n",
              "        text-align: right;\n",
              "    }\n",
              "</style>\n",
              "<table border=\"1\" class=\"dataframe\">\n",
              "  <thead>\n",
              "    <tr style=\"text-align: right;\">\n",
              "      <th></th>\n",
              "      <th>state</th>\n",
              "      <th>stop_date</th>\n",
              "      <th>stop_time</th>\n",
              "      <th>driver_gender</th>\n",
              "      <th>driver_race</th>\n",
              "      <th>violation_raw</th>\n",
              "      <th>violation</th>\n",
              "      <th>search_conducted</th>\n",
              "      <th>search_type</th>\n",
              "      <th>stop_outcome</th>\n",
              "      <th>is_arrested</th>\n",
              "      <th>stop_duration</th>\n",
              "      <th>drugs_related_stop</th>\n",
              "      <th>district</th>\n",
              "    </tr>\n",
              "  </thead>\n",
              "  <tbody>\n",
              "    <tr>\n",
              "      <th>0</th>\n",
              "      <td>RI</td>\n",
              "      <td>2005-01-04</td>\n",
              "      <td>12:55</td>\n",
              "      <td>M</td>\n",
              "      <td>White</td>\n",
              "      <td>Equipment/Inspection Violation</td>\n",
              "      <td>Equipment</td>\n",
              "      <td>False</td>\n",
              "      <td>NaN</td>\n",
              "      <td>Citation</td>\n",
              "      <td>False</td>\n",
              "      <td>0-15 Min</td>\n",
              "      <td>False</td>\n",
              "      <td>Zone X4</td>\n",
              "    </tr>\n",
              "    <tr>\n",
              "      <th>1</th>\n",
              "      <td>RI</td>\n",
              "      <td>2005-01-23</td>\n",
              "      <td>23:15</td>\n",
              "      <td>M</td>\n",
              "      <td>White</td>\n",
              "      <td>Speeding</td>\n",
              "      <td>Speeding</td>\n",
              "      <td>False</td>\n",
              "      <td>NaN</td>\n",
              "      <td>Citation</td>\n",
              "      <td>False</td>\n",
              "      <td>0-15 Min</td>\n",
              "      <td>False</td>\n",
              "      <td>Zone K3</td>\n",
              "    </tr>\n",
              "    <tr>\n",
              "      <th>2</th>\n",
              "      <td>RI</td>\n",
              "      <td>2005-02-17</td>\n",
              "      <td>04:15</td>\n",
              "      <td>M</td>\n",
              "      <td>White</td>\n",
              "      <td>Speeding</td>\n",
              "      <td>Speeding</td>\n",
              "      <td>False</td>\n",
              "      <td>NaN</td>\n",
              "      <td>Citation</td>\n",
              "      <td>False</td>\n",
              "      <td>0-15 Min</td>\n",
              "      <td>False</td>\n",
              "      <td>Zone X4</td>\n",
              "    </tr>\n",
              "    <tr>\n",
              "      <th>3</th>\n",
              "      <td>RI</td>\n",
              "      <td>2005-02-20</td>\n",
              "      <td>17:15</td>\n",
              "      <td>M</td>\n",
              "      <td>White</td>\n",
              "      <td>Call for Service</td>\n",
              "      <td>Other</td>\n",
              "      <td>False</td>\n",
              "      <td>NaN</td>\n",
              "      <td>Arrest Driver</td>\n",
              "      <td>True</td>\n",
              "      <td>16-30 Min</td>\n",
              "      <td>False</td>\n",
              "      <td>Zone X1</td>\n",
              "    </tr>\n",
              "    <tr>\n",
              "      <th>4</th>\n",
              "      <td>RI</td>\n",
              "      <td>2005-02-24</td>\n",
              "      <td>01:20</td>\n",
              "      <td>F</td>\n",
              "      <td>White</td>\n",
              "      <td>Speeding</td>\n",
              "      <td>Speeding</td>\n",
              "      <td>False</td>\n",
              "      <td>NaN</td>\n",
              "      <td>Citation</td>\n",
              "      <td>False</td>\n",
              "      <td>0-15 Min</td>\n",
              "      <td>False</td>\n",
              "      <td>Zone X3</td>\n",
              "    </tr>\n",
              "  </tbody>\n",
              "</table>\n",
              "</div>\n",
              "      <button class=\"colab-df-convert\" onclick=\"convertToInteractive('df-3a7ac40c-9db2-46d3-b3bd-0ac9d34092d5')\"\n",
              "              title=\"Convert this dataframe to an interactive table.\"\n",
              "              style=\"display:none;\">\n",
              "        \n",
              "  <svg xmlns=\"http://www.w3.org/2000/svg\" height=\"24px\"viewBox=\"0 0 24 24\"\n",
              "       width=\"24px\">\n",
              "    <path d=\"M0 0h24v24H0V0z\" fill=\"none\"/>\n",
              "    <path d=\"M18.56 5.44l.94 2.06.94-2.06 2.06-.94-2.06-.94-.94-2.06-.94 2.06-2.06.94zm-11 1L8.5 8.5l.94-2.06 2.06-.94-2.06-.94L8.5 2.5l-.94 2.06-2.06.94zm10 10l.94 2.06.94-2.06 2.06-.94-2.06-.94-.94-2.06-.94 2.06-2.06.94z\"/><path d=\"M17.41 7.96l-1.37-1.37c-.4-.4-.92-.59-1.43-.59-.52 0-1.04.2-1.43.59L10.3 9.45l-7.72 7.72c-.78.78-.78 2.05 0 2.83L4 21.41c.39.39.9.59 1.41.59.51 0 1.02-.2 1.41-.59l7.78-7.78 2.81-2.81c.8-.78.8-2.07 0-2.86zM5.41 20L4 18.59l7.72-7.72 1.47 1.35L5.41 20z\"/>\n",
              "  </svg>\n",
              "      </button>\n",
              "      \n",
              "  <style>\n",
              "    .colab-df-container {\n",
              "      display:flex;\n",
              "      flex-wrap:wrap;\n",
              "      gap: 12px;\n",
              "    }\n",
              "\n",
              "    .colab-df-convert {\n",
              "      background-color: #E8F0FE;\n",
              "      border: none;\n",
              "      border-radius: 50%;\n",
              "      cursor: pointer;\n",
              "      display: none;\n",
              "      fill: #1967D2;\n",
              "      height: 32px;\n",
              "      padding: 0 0 0 0;\n",
              "      width: 32px;\n",
              "    }\n",
              "\n",
              "    .colab-df-convert:hover {\n",
              "      background-color: #E2EBFA;\n",
              "      box-shadow: 0px 1px 2px rgba(60, 64, 67, 0.3), 0px 1px 3px 1px rgba(60, 64, 67, 0.15);\n",
              "      fill: #174EA6;\n",
              "    }\n",
              "\n",
              "    [theme=dark] .colab-df-convert {\n",
              "      background-color: #3B4455;\n",
              "      fill: #D2E3FC;\n",
              "    }\n",
              "\n",
              "    [theme=dark] .colab-df-convert:hover {\n",
              "      background-color: #434B5C;\n",
              "      box-shadow: 0px 1px 3px 1px rgba(0, 0, 0, 0.15);\n",
              "      filter: drop-shadow(0px 1px 2px rgba(0, 0, 0, 0.3));\n",
              "      fill: #FFFFFF;\n",
              "    }\n",
              "  </style>\n",
              "\n",
              "      <script>\n",
              "        const buttonEl =\n",
              "          document.querySelector('#df-3a7ac40c-9db2-46d3-b3bd-0ac9d34092d5 button.colab-df-convert');\n",
              "        buttonEl.style.display =\n",
              "          google.colab.kernel.accessAllowed ? 'block' : 'none';\n",
              "\n",
              "        async function convertToInteractive(key) {\n",
              "          const element = document.querySelector('#df-3a7ac40c-9db2-46d3-b3bd-0ac9d34092d5');\n",
              "          const dataTable =\n",
              "            await google.colab.kernel.invokeFunction('convertToInteractive',\n",
              "                                                     [key], {});\n",
              "          if (!dataTable) return;\n",
              "\n",
              "          const docLinkHtml = 'Like what you see? Visit the ' +\n",
              "            '<a target=\"_blank\" href=https://colab.research.google.com/notebooks/data_table.ipynb>data table notebook</a>'\n",
              "            + ' to learn more about interactive tables.';\n",
              "          element.innerHTML = '';\n",
              "          dataTable['output_type'] = 'display_data';\n",
              "          await google.colab.output.renderOutput(dataTable, element);\n",
              "          const docLink = document.createElement('div');\n",
              "          docLink.innerHTML = docLinkHtml;\n",
              "          element.appendChild(docLink);\n",
              "        }\n",
              "      </script>\n",
              "    </div>\n",
              "  </div>\n",
              "  "
            ]
          },
          "metadata": {},
          "execution_count": 9
        }
      ],
      "source": [
        "# dropping off county_name column from the dataframe, since it has no non-null values\n",
        "ri.drop(['county_name'], axis = 1, inplace=True)\n",
        "ri.head()"
      ],
      "id": "c24bd1ec-218c-46d3-b43e-76e2964705c7"
    },
    {
      "cell_type": "markdown",
      "metadata": {
        "id": "ec58d02a-0c5b-4053-b7e8-5debe94a7e0f"
      },
      "source": [
        "Since we have large data (i.e. total 91741 instances), where the rows having **nan** entries are just **6%**, so those observations can be dropped off. Still there will be enough data left for analysis. Imputing can be done when null entries are between 10%-40%, and where dropping rows would cause losing a lot of data."
      ],
      "id": "ec58d02a-0c5b-4053-b7e8-5debe94a7e0f"
    },
    {
      "cell_type": "code",
      "execution_count": 10,
      "metadata": {
        "colab": {
          "base_uri": "https://localhost:8080/"
        },
        "id": "8a647db0-ccc8-4991-aab3-8428e841eef8",
        "outputId": "02870593-6d36-4d6c-f685-10c5f5565f3f"
      },
      "outputs": [
        {
          "output_type": "stream",
          "name": "stdout",
          "text": [
            "Fraction of data (NaN entries) to be dropped off: 0.06\n"
          ]
        }
      ],
      "source": [
        "# Mathematically\n",
        "print('Fraction of data (NaN entries) to be dropped off:', round((91741 - (1 - 0.06) * 91741)/91741, 2))"
      ],
      "id": "8a647db0-ccc8-4991-aab3-8428e841eef8"
    },
    {
      "cell_type": "code",
      "execution_count": 11,
      "metadata": {
        "colab": {
          "base_uri": "https://localhost:8080/"
        },
        "id": "c46a7b86-0d36-47e2-8c25-fe7c62df4a7a",
        "outputId": "d9f82484-c194-4bb0-bf4b-2425b2ac5e2d"
      },
      "outputs": [
        {
          "output_type": "execute_result",
          "data": {
            "text/plain": [
              "state                     0\n",
              "stop_date                 0\n",
              "stop_time                 0\n",
              "driver_gender             0\n",
              "driver_race               0\n",
              "violation_raw             0\n",
              "violation                 0\n",
              "search_conducted          0\n",
              "search_type           83229\n",
              "stop_outcome              0\n",
              "is_arrested               0\n",
              "stop_duration             0\n",
              "drugs_related_stop        0\n",
              "district                  0\n",
              "dtype: int64"
            ]
          },
          "metadata": {},
          "execution_count": 11
        }
      ],
      "source": [
        "# drop rows that contain NaN entries\n",
        "ri.dropna(subset=['driver_gender', 'driver_race', 'violation_raw', 'violation', 'stop_outcome', 'is_arrested', 'stop_duration'], inplace=True)\n",
        "\n",
        "# view the no. of null entries by column\n",
        "ri.isnull().sum()"
      ],
      "id": "c46a7b86-0d36-47e2-8c25-fe7c62df4a7a"
    },
    {
      "cell_type": "code",
      "execution_count": 12,
      "metadata": {
        "colab": {
          "base_uri": "https://localhost:8080/"
        },
        "id": "7c7731b8-f4e1-47a3-aad1-495ad182a297",
        "outputId": "ced555ca-b32e-48eb-a39c-0528d6a73c8a"
      },
      "outputs": [
        {
          "output_type": "stream",
          "name": "stdout",
          "text": [
            "Shape of the data: (86536, 14)\n"
          ]
        }
      ],
      "source": [
        "print('Shape of the data:', ri.shape)"
      ],
      "id": "7c7731b8-f4e1-47a3-aad1-495ad182a297"
    },
    {
      "cell_type": "code",
      "source": [
        "ri.search_type.unique()"
      ],
      "metadata": {
        "colab": {
          "base_uri": "https://localhost:8080/"
        },
        "id": "4pdeuKS2rjfk",
        "outputId": "95a87d63-769c-46c3-a0e3-7224b5f4409a"
      },
      "id": "4pdeuKS2rjfk",
      "execution_count": 13,
      "outputs": [
        {
          "output_type": "execute_result",
          "data": {
            "text/plain": [
              "array([nan, 'Probable Cause', 'Incident to Arrest',\n",
              "       'Incident to Arrest,Probable Cause', 'Protective Frisk',\n",
              "       'Probable Cause,Protective Frisk,Reasonable Suspicion',\n",
              "       'Reasonable Suspicion', 'Incident to Arrest,Protective Frisk',\n",
              "       'Inventory,Protective Frisk', 'Inventory',\n",
              "       'Incident to Arrest,Inventory', 'Inventory,Probable Cause',\n",
              "       'Protective Frisk,Reasonable Suspicion',\n",
              "       'Probable Cause,Reasonable Suspicion',\n",
              "       'Incident to Arrest,Inventory,Protective Frisk',\n",
              "       'Probable Cause,Protective Frisk',\n",
              "       'Incident to Arrest,Probable Cause,Protective Frisk',\n",
              "       'Incident to Arrest,Inventory,Probable Cause',\n",
              "       'Incident to Arrest,Inventory,Reasonable Suspicion',\n",
              "       'Incident to Arrest,Reasonable Suspicion',\n",
              "       'Incident to Arrest,Protective Frisk,Reasonable Suspicion',\n",
              "       'Inventory,Protective Frisk,Reasonable Suspicion',\n",
              "       'Incident to Arrest,Probable Cause,Reasonable Suspicion',\n",
              "       'Inventory,Probable Cause,Reasonable Suspicion',\n",
              "       'Inventory,Probable Cause,Protective Frisk',\n",
              "       'Inventory,Reasonable Suspicion'], dtype=object)"
            ]
          },
          "metadata": {},
          "execution_count": 13
        }
      ]
    },
    {
      "cell_type": "markdown",
      "source": [
        "The **search_type** column contains values of the kind of search conducted during a stop, and it has values only when the search was conducted. When the search was not conducted (i.e. False), the **search_type** column bears NaN entries. Therefore, we cannot drop this column, neither can we remove its NaN entries. So lets leave it as this for now."
      ],
      "metadata": {
        "id": "m_qBEKavrgvK"
      },
      "id": "m_qBEKavrgvK"
    },
    {
      "cell_type": "markdown",
      "metadata": {
        "id": "a3e71694-9b83-4832-9245-fcb4387dfb56"
      },
      "source": [
        "### 1.2 Converting the data types (using proper data types)"
      ],
      "id": "a3e71694-9b83-4832-9245-fcb4387dfb56"
    },
    {
      "cell_type": "code",
      "execution_count": 14,
      "metadata": {
        "colab": {
          "base_uri": "https://localhost:8080/"
        },
        "id": "243ea5c3-8580-4a4b-b065-5dab1f0005de",
        "outputId": "aab67b13-8152-46ab-b2b1-c37770644bd3"
      },
      "outputs": [
        {
          "output_type": "execute_result",
          "data": {
            "text/plain": [
              "state                 object\n",
              "stop_date             object\n",
              "stop_time             object\n",
              "driver_gender         object\n",
              "driver_race           object\n",
              "violation_raw         object\n",
              "violation             object\n",
              "search_conducted        bool\n",
              "search_type           object\n",
              "stop_outcome          object\n",
              "is_arrested           object\n",
              "stop_duration         object\n",
              "drugs_related_stop      bool\n",
              "district              object\n",
              "dtype: object"
            ]
          },
          "metadata": {},
          "execution_count": 14
        }
      ],
      "source": [
        "# data types of the corresponding attributes\n",
        "ri.dtypes"
      ],
      "id": "243ea5c3-8580-4a4b-b065-5dab1f0005de"
    },
    {
      "cell_type": "code",
      "execution_count": 15,
      "metadata": {
        "colab": {
          "base_uri": "https://localhost:8080/"
        },
        "id": "49b4ce1c-6d4b-41d8-b985-79de6dd5bdf8",
        "outputId": "d6bff131-d1b1-46dd-b903-ac3df4e005db"
      },
      "outputs": [
        {
          "output_type": "stream",
          "name": "stdout",
          "text": [
            "<class 'pandas.core.frame.DataFrame'>\n",
            "Int64Index: 86536 entries, 0 to 91740\n",
            "Data columns (total 3 columns):\n",
            " #   Column              Non-Null Count  Dtype \n",
            "---  ------              --------------  ----- \n",
            " 0   search_conducted    86536 non-null  bool  \n",
            " 1   is_arrested         86536 non-null  object\n",
            " 2   drugs_related_stop  86536 non-null  bool  \n",
            "dtypes: bool(2), object(1)\n",
            "memory usage: 1.5+ MB\n"
          ]
        }
      ],
      "source": [
        "# following list of columns need to be in boolean\n",
        "bool_cols = ['search_conducted', 'is_arrested', 'drugs_related_stop']\n",
        "\n",
        "for i in bool_cols:\n",
        "  ri[i].astype('bool')\n",
        "\n",
        "\n",
        "ri[bool_cols].info()"
      ],
      "id": "49b4ce1c-6d4b-41d8-b985-79de6dd5bdf8"
    },
    {
      "cell_type": "markdown",
      "source": [
        "The **is_arrested** column did not convert to bool data type."
      ],
      "metadata": {
        "id": "vx1UtIfSujhF"
      },
      "id": "vx1UtIfSujhF"
    },
    {
      "cell_type": "markdown",
      "source": [
        "### 1.3 Working with Time Series Data"
      ],
      "metadata": {
        "id": "ieAce69-WgCM"
      },
      "id": "ieAce69-WgCM"
    },
    {
      "cell_type": "code",
      "execution_count": 16,
      "metadata": {
        "colab": {
          "base_uri": "https://localhost:8080/",
          "height": 143
        },
        "id": "8b7a242c-ab4a-4c91-b561-9fe8e318f509",
        "outputId": "659d0160-f307-40c1-dde5-b114e0a61e2f"
      },
      "outputs": [
        {
          "output_type": "execute_result",
          "data": {
            "text/plain": [
              "    stop_date stop_time\n",
              "0  2005-01-04     12:55\n",
              "1  2005-01-23     23:15\n",
              "2  2005-02-17     04:15"
            ],
            "text/html": [
              "\n",
              "  <div id=\"df-19ce805e-0a9a-4681-a871-c9bbc748b1bc\">\n",
              "    <div class=\"colab-df-container\">\n",
              "      <div>\n",
              "<style scoped>\n",
              "    .dataframe tbody tr th:only-of-type {\n",
              "        vertical-align: middle;\n",
              "    }\n",
              "\n",
              "    .dataframe tbody tr th {\n",
              "        vertical-align: top;\n",
              "    }\n",
              "\n",
              "    .dataframe thead th {\n",
              "        text-align: right;\n",
              "    }\n",
              "</style>\n",
              "<table border=\"1\" class=\"dataframe\">\n",
              "  <thead>\n",
              "    <tr style=\"text-align: right;\">\n",
              "      <th></th>\n",
              "      <th>stop_date</th>\n",
              "      <th>stop_time</th>\n",
              "    </tr>\n",
              "  </thead>\n",
              "  <tbody>\n",
              "    <tr>\n",
              "      <th>0</th>\n",
              "      <td>2005-01-04</td>\n",
              "      <td>12:55</td>\n",
              "    </tr>\n",
              "    <tr>\n",
              "      <th>1</th>\n",
              "      <td>2005-01-23</td>\n",
              "      <td>23:15</td>\n",
              "    </tr>\n",
              "    <tr>\n",
              "      <th>2</th>\n",
              "      <td>2005-02-17</td>\n",
              "      <td>04:15</td>\n",
              "    </tr>\n",
              "  </tbody>\n",
              "</table>\n",
              "</div>\n",
              "      <button class=\"colab-df-convert\" onclick=\"convertToInteractive('df-19ce805e-0a9a-4681-a871-c9bbc748b1bc')\"\n",
              "              title=\"Convert this dataframe to an interactive table.\"\n",
              "              style=\"display:none;\">\n",
              "        \n",
              "  <svg xmlns=\"http://www.w3.org/2000/svg\" height=\"24px\"viewBox=\"0 0 24 24\"\n",
              "       width=\"24px\">\n",
              "    <path d=\"M0 0h24v24H0V0z\" fill=\"none\"/>\n",
              "    <path d=\"M18.56 5.44l.94 2.06.94-2.06 2.06-.94-2.06-.94-.94-2.06-.94 2.06-2.06.94zm-11 1L8.5 8.5l.94-2.06 2.06-.94-2.06-.94L8.5 2.5l-.94 2.06-2.06.94zm10 10l.94 2.06.94-2.06 2.06-.94-2.06-.94-.94-2.06-.94 2.06-2.06.94z\"/><path d=\"M17.41 7.96l-1.37-1.37c-.4-.4-.92-.59-1.43-.59-.52 0-1.04.2-1.43.59L10.3 9.45l-7.72 7.72c-.78.78-.78 2.05 0 2.83L4 21.41c.39.39.9.59 1.41.59.51 0 1.02-.2 1.41-.59l7.78-7.78 2.81-2.81c.8-.78.8-2.07 0-2.86zM5.41 20L4 18.59l7.72-7.72 1.47 1.35L5.41 20z\"/>\n",
              "  </svg>\n",
              "      </button>\n",
              "      \n",
              "  <style>\n",
              "    .colab-df-container {\n",
              "      display:flex;\n",
              "      flex-wrap:wrap;\n",
              "      gap: 12px;\n",
              "    }\n",
              "\n",
              "    .colab-df-convert {\n",
              "      background-color: #E8F0FE;\n",
              "      border: none;\n",
              "      border-radius: 50%;\n",
              "      cursor: pointer;\n",
              "      display: none;\n",
              "      fill: #1967D2;\n",
              "      height: 32px;\n",
              "      padding: 0 0 0 0;\n",
              "      width: 32px;\n",
              "    }\n",
              "\n",
              "    .colab-df-convert:hover {\n",
              "      background-color: #E2EBFA;\n",
              "      box-shadow: 0px 1px 2px rgba(60, 64, 67, 0.3), 0px 1px 3px 1px rgba(60, 64, 67, 0.15);\n",
              "      fill: #174EA6;\n",
              "    }\n",
              "\n",
              "    [theme=dark] .colab-df-convert {\n",
              "      background-color: #3B4455;\n",
              "      fill: #D2E3FC;\n",
              "    }\n",
              "\n",
              "    [theme=dark] .colab-df-convert:hover {\n",
              "      background-color: #434B5C;\n",
              "      box-shadow: 0px 1px 3px 1px rgba(0, 0, 0, 0.15);\n",
              "      filter: drop-shadow(0px 1px 2px rgba(0, 0, 0, 0.3));\n",
              "      fill: #FFFFFF;\n",
              "    }\n",
              "  </style>\n",
              "\n",
              "      <script>\n",
              "        const buttonEl =\n",
              "          document.querySelector('#df-19ce805e-0a9a-4681-a871-c9bbc748b1bc button.colab-df-convert');\n",
              "        buttonEl.style.display =\n",
              "          google.colab.kernel.accessAllowed ? 'block' : 'none';\n",
              "\n",
              "        async function convertToInteractive(key) {\n",
              "          const element = document.querySelector('#df-19ce805e-0a9a-4681-a871-c9bbc748b1bc');\n",
              "          const dataTable =\n",
              "            await google.colab.kernel.invokeFunction('convertToInteractive',\n",
              "                                                     [key], {});\n",
              "          if (!dataTable) return;\n",
              "\n",
              "          const docLinkHtml = 'Like what you see? Visit the ' +\n",
              "            '<a target=\"_blank\" href=https://colab.research.google.com/notebooks/data_table.ipynb>data table notebook</a>'\n",
              "            + ' to learn more about interactive tables.';\n",
              "          element.innerHTML = '';\n",
              "          dataTable['output_type'] = 'display_data';\n",
              "          await google.colab.output.renderOutput(dataTable, element);\n",
              "          const docLink = document.createElement('div');\n",
              "          docLink.innerHTML = docLinkHtml;\n",
              "          element.appendChild(docLink);\n",
              "        }\n",
              "      </script>\n",
              "    </div>\n",
              "  </div>\n",
              "  "
            ]
          },
          "metadata": {},
          "execution_count": 16
        }
      ],
      "source": [
        "# viewing stop_date and stop_time columns of the dataframe\n",
        "ri[['stop_date', 'stop_time']].head(3)"
      ],
      "id": "8b7a242c-ab4a-4c91-b561-9fe8e318f509"
    },
    {
      "cell_type": "code",
      "execution_count": 17,
      "metadata": {
        "colab": {
          "base_uri": "https://localhost:8080/"
        },
        "id": "5803d212-3bd7-491f-9203-0e111170eae5",
        "outputId": "6af9d57c-ab8a-4af5-816d-c67099caea67"
      },
      "outputs": [
        {
          "output_type": "execute_result",
          "data": {
            "text/plain": [
              "stop_date    object\n",
              "stop_time    object\n",
              "dtype: object"
            ]
          },
          "metadata": {},
          "execution_count": 17
        }
      ],
      "source": [
        "# checking data types\n",
        "ri[['stop_date', 'stop_time']].dtypes"
      ],
      "id": "5803d212-3bd7-491f-9203-0e111170eae5"
    },
    {
      "cell_type": "markdown",
      "source": [
        "Combine the **stop_date** and **stop_time** columns into one, and then change its data type to datetime format"
      ],
      "metadata": {
        "id": "4dCqFpQlGcM0"
      },
      "id": "4dCqFpQlGcM0"
    },
    {
      "cell_type": "code",
      "execution_count": 18,
      "metadata": {
        "id": "c13744ed-4572-4fa6-8f16-1462212bdfb5"
      },
      "outputs": [],
      "source": [
        "# combine the two columns into one, and then add that combined column in the dataframe\n",
        "combined = ri['stop_date'].str.cat(ri['stop_time'], sep=' ')\n",
        "\n",
        "# change data type of the combined column and add it to the dataframe as a new column (date_and_time)\n",
        "ri['date_and_time'] = pd.to_datetime(combined)"
      ],
      "id": "c13744ed-4572-4fa6-8f16-1462212bdfb5"
    },
    {
      "cell_type": "code",
      "execution_count": 19,
      "metadata": {
        "colab": {
          "base_uri": "https://localhost:8080/"
        },
        "id": "46080974-d574-4358-befd-08749c1ac567",
        "outputId": "29eae26c-e657-47a0-ff26-6b666b58120f"
      },
      "outputs": [
        {
          "output_type": "stream",
          "name": "stdout",
          "text": [
            "<class 'pandas.core.frame.DataFrame'>\n",
            "Int64Index: 86536 entries, 0 to 91740\n",
            "Data columns (total 15 columns):\n",
            " #   Column              Non-Null Count  Dtype         \n",
            "---  ------              --------------  -----         \n",
            " 0   state               86536 non-null  object        \n",
            " 1   stop_date           86536 non-null  object        \n",
            " 2   stop_time           86536 non-null  object        \n",
            " 3   driver_gender       86536 non-null  object        \n",
            " 4   driver_race         86536 non-null  object        \n",
            " 5   violation_raw       86536 non-null  object        \n",
            " 6   violation           86536 non-null  object        \n",
            " 7   search_conducted    86536 non-null  bool          \n",
            " 8   search_type         3307 non-null   object        \n",
            " 9   stop_outcome        86536 non-null  object        \n",
            " 10  is_arrested         86536 non-null  object        \n",
            " 11  stop_duration       86536 non-null  object        \n",
            " 12  drugs_related_stop  86536 non-null  bool          \n",
            " 13  district            86536 non-null  object        \n",
            " 14  date_and_time       86536 non-null  datetime64[ns]\n",
            "dtypes: bool(2), datetime64[ns](1), object(12)\n",
            "memory usage: 9.4+ MB\n"
          ]
        }
      ],
      "source": [
        "# now check the final data types\n",
        "ri.info()"
      ],
      "id": "46080974-d574-4358-befd-08749c1ac567"
    },
    {
      "cell_type": "code",
      "execution_count": 20,
      "metadata": {
        "id": "6e7c09c3-f5e9-4043-868c-a32bef118b19",
        "colab": {
          "base_uri": "https://localhost:8080/",
          "height": 291
        },
        "outputId": "73d80669-b0f0-4f5e-f671-9b83223562d5"
      },
      "outputs": [
        {
          "output_type": "execute_result",
          "data": {
            "text/plain": [
              "                    state   stop_date stop_time driver_gender driver_race  \\\n",
              "date_and_time                                                               \n",
              "2005-01-04 12:55:00    RI  2005-01-04     12:55             M       White   \n",
              "2005-01-23 23:15:00    RI  2005-01-23     23:15             M       White   \n",
              "2005-02-17 04:15:00    RI  2005-02-17     04:15             M       White   \n",
              "\n",
              "                                      violation_raw  violation  \\\n",
              "date_and_time                                                    \n",
              "2005-01-04 12:55:00  Equipment/Inspection Violation  Equipment   \n",
              "2005-01-23 23:15:00                        Speeding   Speeding   \n",
              "2005-02-17 04:15:00                        Speeding   Speeding   \n",
              "\n",
              "                     search_conducted search_type stop_outcome is_arrested  \\\n",
              "date_and_time                                                                \n",
              "2005-01-04 12:55:00             False         NaN     Citation       False   \n",
              "2005-01-23 23:15:00             False         NaN     Citation       False   \n",
              "2005-02-17 04:15:00             False         NaN     Citation       False   \n",
              "\n",
              "                    stop_duration  drugs_related_stop district  \n",
              "date_and_time                                                   \n",
              "2005-01-04 12:55:00      0-15 Min               False  Zone X4  \n",
              "2005-01-23 23:15:00      0-15 Min               False  Zone K3  \n",
              "2005-02-17 04:15:00      0-15 Min               False  Zone X4  "
            ],
            "text/html": [
              "\n",
              "  <div id=\"df-d33c7da0-138a-4583-b6b2-e26579b06084\">\n",
              "    <div class=\"colab-df-container\">\n",
              "      <div>\n",
              "<style scoped>\n",
              "    .dataframe tbody tr th:only-of-type {\n",
              "        vertical-align: middle;\n",
              "    }\n",
              "\n",
              "    .dataframe tbody tr th {\n",
              "        vertical-align: top;\n",
              "    }\n",
              "\n",
              "    .dataframe thead th {\n",
              "        text-align: right;\n",
              "    }\n",
              "</style>\n",
              "<table border=\"1\" class=\"dataframe\">\n",
              "  <thead>\n",
              "    <tr style=\"text-align: right;\">\n",
              "      <th></th>\n",
              "      <th>state</th>\n",
              "      <th>stop_date</th>\n",
              "      <th>stop_time</th>\n",
              "      <th>driver_gender</th>\n",
              "      <th>driver_race</th>\n",
              "      <th>violation_raw</th>\n",
              "      <th>violation</th>\n",
              "      <th>search_conducted</th>\n",
              "      <th>search_type</th>\n",
              "      <th>stop_outcome</th>\n",
              "      <th>is_arrested</th>\n",
              "      <th>stop_duration</th>\n",
              "      <th>drugs_related_stop</th>\n",
              "      <th>district</th>\n",
              "    </tr>\n",
              "    <tr>\n",
              "      <th>date_and_time</th>\n",
              "      <th></th>\n",
              "      <th></th>\n",
              "      <th></th>\n",
              "      <th></th>\n",
              "      <th></th>\n",
              "      <th></th>\n",
              "      <th></th>\n",
              "      <th></th>\n",
              "      <th></th>\n",
              "      <th></th>\n",
              "      <th></th>\n",
              "      <th></th>\n",
              "      <th></th>\n",
              "      <th></th>\n",
              "    </tr>\n",
              "  </thead>\n",
              "  <tbody>\n",
              "    <tr>\n",
              "      <th>2005-01-04 12:55:00</th>\n",
              "      <td>RI</td>\n",
              "      <td>2005-01-04</td>\n",
              "      <td>12:55</td>\n",
              "      <td>M</td>\n",
              "      <td>White</td>\n",
              "      <td>Equipment/Inspection Violation</td>\n",
              "      <td>Equipment</td>\n",
              "      <td>False</td>\n",
              "      <td>NaN</td>\n",
              "      <td>Citation</td>\n",
              "      <td>False</td>\n",
              "      <td>0-15 Min</td>\n",
              "      <td>False</td>\n",
              "      <td>Zone X4</td>\n",
              "    </tr>\n",
              "    <tr>\n",
              "      <th>2005-01-23 23:15:00</th>\n",
              "      <td>RI</td>\n",
              "      <td>2005-01-23</td>\n",
              "      <td>23:15</td>\n",
              "      <td>M</td>\n",
              "      <td>White</td>\n",
              "      <td>Speeding</td>\n",
              "      <td>Speeding</td>\n",
              "      <td>False</td>\n",
              "      <td>NaN</td>\n",
              "      <td>Citation</td>\n",
              "      <td>False</td>\n",
              "      <td>0-15 Min</td>\n",
              "      <td>False</td>\n",
              "      <td>Zone K3</td>\n",
              "    </tr>\n",
              "    <tr>\n",
              "      <th>2005-02-17 04:15:00</th>\n",
              "      <td>RI</td>\n",
              "      <td>2005-02-17</td>\n",
              "      <td>04:15</td>\n",
              "      <td>M</td>\n",
              "      <td>White</td>\n",
              "      <td>Speeding</td>\n",
              "      <td>Speeding</td>\n",
              "      <td>False</td>\n",
              "      <td>NaN</td>\n",
              "      <td>Citation</td>\n",
              "      <td>False</td>\n",
              "      <td>0-15 Min</td>\n",
              "      <td>False</td>\n",
              "      <td>Zone X4</td>\n",
              "    </tr>\n",
              "  </tbody>\n",
              "</table>\n",
              "</div>\n",
              "      <button class=\"colab-df-convert\" onclick=\"convertToInteractive('df-d33c7da0-138a-4583-b6b2-e26579b06084')\"\n",
              "              title=\"Convert this dataframe to an interactive table.\"\n",
              "              style=\"display:none;\">\n",
              "        \n",
              "  <svg xmlns=\"http://www.w3.org/2000/svg\" height=\"24px\"viewBox=\"0 0 24 24\"\n",
              "       width=\"24px\">\n",
              "    <path d=\"M0 0h24v24H0V0z\" fill=\"none\"/>\n",
              "    <path d=\"M18.56 5.44l.94 2.06.94-2.06 2.06-.94-2.06-.94-.94-2.06-.94 2.06-2.06.94zm-11 1L8.5 8.5l.94-2.06 2.06-.94-2.06-.94L8.5 2.5l-.94 2.06-2.06.94zm10 10l.94 2.06.94-2.06 2.06-.94-2.06-.94-.94-2.06-.94 2.06-2.06.94z\"/><path d=\"M17.41 7.96l-1.37-1.37c-.4-.4-.92-.59-1.43-.59-.52 0-1.04.2-1.43.59L10.3 9.45l-7.72 7.72c-.78.78-.78 2.05 0 2.83L4 21.41c.39.39.9.59 1.41.59.51 0 1.02-.2 1.41-.59l7.78-7.78 2.81-2.81c.8-.78.8-2.07 0-2.86zM5.41 20L4 18.59l7.72-7.72 1.47 1.35L5.41 20z\"/>\n",
              "  </svg>\n",
              "      </button>\n",
              "      \n",
              "  <style>\n",
              "    .colab-df-container {\n",
              "      display:flex;\n",
              "      flex-wrap:wrap;\n",
              "      gap: 12px;\n",
              "    }\n",
              "\n",
              "    .colab-df-convert {\n",
              "      background-color: #E8F0FE;\n",
              "      border: none;\n",
              "      border-radius: 50%;\n",
              "      cursor: pointer;\n",
              "      display: none;\n",
              "      fill: #1967D2;\n",
              "      height: 32px;\n",
              "      padding: 0 0 0 0;\n",
              "      width: 32px;\n",
              "    }\n",
              "\n",
              "    .colab-df-convert:hover {\n",
              "      background-color: #E2EBFA;\n",
              "      box-shadow: 0px 1px 2px rgba(60, 64, 67, 0.3), 0px 1px 3px 1px rgba(60, 64, 67, 0.15);\n",
              "      fill: #174EA6;\n",
              "    }\n",
              "\n",
              "    [theme=dark] .colab-df-convert {\n",
              "      background-color: #3B4455;\n",
              "      fill: #D2E3FC;\n",
              "    }\n",
              "\n",
              "    [theme=dark] .colab-df-convert:hover {\n",
              "      background-color: #434B5C;\n",
              "      box-shadow: 0px 1px 3px 1px rgba(0, 0, 0, 0.15);\n",
              "      filter: drop-shadow(0px 1px 2px rgba(0, 0, 0, 0.3));\n",
              "      fill: #FFFFFF;\n",
              "    }\n",
              "  </style>\n",
              "\n",
              "      <script>\n",
              "        const buttonEl =\n",
              "          document.querySelector('#df-d33c7da0-138a-4583-b6b2-e26579b06084 button.colab-df-convert');\n",
              "        buttonEl.style.display =\n",
              "          google.colab.kernel.accessAllowed ? 'block' : 'none';\n",
              "\n",
              "        async function convertToInteractive(key) {\n",
              "          const element = document.querySelector('#df-d33c7da0-138a-4583-b6b2-e26579b06084');\n",
              "          const dataTable =\n",
              "            await google.colab.kernel.invokeFunction('convertToInteractive',\n",
              "                                                     [key], {});\n",
              "          if (!dataTable) return;\n",
              "\n",
              "          const docLinkHtml = 'Like what you see? Visit the ' +\n",
              "            '<a target=\"_blank\" href=https://colab.research.google.com/notebooks/data_table.ipynb>data table notebook</a>'\n",
              "            + ' to learn more about interactive tables.';\n",
              "          element.innerHTML = '';\n",
              "          dataTable['output_type'] = 'display_data';\n",
              "          await google.colab.output.renderOutput(dataTable, element);\n",
              "          const docLink = document.createElement('div');\n",
              "          docLink.innerHTML = docLinkHtml;\n",
              "          element.appendChild(docLink);\n",
              "        }\n",
              "      </script>\n",
              "    </div>\n",
              "  </div>\n",
              "  "
            ]
          },
          "metadata": {},
          "execution_count": 20
        }
      ],
      "source": [
        "# Set the date_and_time column as the index to make it easy for data filteration and data visualization w.r.t time\n",
        "ri.set_index('date_and_time', inplace = True)\n",
        "ri.head(3)"
      ],
      "id": "6e7c09c3-f5e9-4043-868c-a32bef118b19"
    },
    {
      "cell_type": "markdown",
      "metadata": {
        "id": "a7645b1f-6070-4546-95ba-ef8abadf16e9"
      },
      "source": [
        "All the missing data removed and the data types correctly formatted. Now, it's time for data analysis."
      ],
      "id": "a7645b1f-6070-4546-95ba-ef8abadf16e9"
    },
    {
      "cell_type": "markdown",
      "metadata": {
        "id": "6a458fc0-ff39-4e49-a8fd-a46f1680001a"
      },
      "source": [
        "## 02 - Exploring the Data (analyzing the relationship between gender and policing)\n",
        "\n",
        "---\n",
        "\n",
        "\n",
        "\n",
        "We may answer the following question:\n",
        "- Does the gender of a driver have an impact on police behavior during a traffic stop?"
      ],
      "id": "6a458fc0-ff39-4e49-a8fd-a46f1680001a"
    },
    {
      "cell_type": "markdown",
      "metadata": {
        "id": "osz9tMaidAWB"
      },
      "source": [
        "### 2.1 Examining traffic violations"
      ],
      "id": "osz9tMaidAWB"
    },
    {
      "cell_type": "code",
      "execution_count": 21,
      "metadata": {
        "colab": {
          "base_uri": "https://localhost:8080/"
        },
        "id": "BrlSdj_mc_bt",
        "outputId": "ea559544-0cf3-4f3b-d9b1-a0607043c1bd"
      },
      "outputs": [
        {
          "output_type": "execute_result",
          "data": {
            "text/plain": [
              "Speeding               56.0\n",
              "Moving violation       19.0\n",
              "Equipment              13.0\n",
              "Other                   5.0\n",
              "Registration/plates     4.0\n",
              "Seat belt               3.0\n",
              "Name: violation, dtype: float64"
            ]
          },
          "metadata": {},
          "execution_count": 21
        }
      ],
      "source": [
        "# percent violations by type\n",
        "round(ri.violation.value_counts(normalize=True)*100)"
      ],
      "id": "BrlSdj_mc_bt"
    },
    {
      "cell_type": "markdown",
      "metadata": {
        "id": "OPN25fG7eFDc"
      },
      "source": [
        "56% of the violations are due to Speeding, followed by Moving violation (19%) and then by Equipment (13%)."
      ],
      "id": "OPN25fG7eFDc"
    },
    {
      "cell_type": "markdown",
      "metadata": {
        "id": "yh2CbrEl2o-R"
      },
      "source": [
        "### 2.2 Comparing violations by gender"
      ],
      "id": "yh2CbrEl2o-R"
    },
    {
      "cell_type": "markdown",
      "source": [
        "How each gender commit violations?"
      ],
      "metadata": {
        "id": "ZWhBv5QMLcwl"
      },
      "id": "ZWhBv5QMLcwl"
    },
    {
      "cell_type": "code",
      "execution_count": 22,
      "metadata": {
        "id": "CXiHqyKK2qyR"
      },
      "outputs": [],
      "source": [
        "# Create a DataFrame of female drivers\n",
        "female = ri[ri['driver_gender'] == 'F']\n",
        "\n",
        "# Create a DataFrame of male drivers\n",
        "male = ri[ri['driver_gender'] == 'M']"
      ],
      "id": "CXiHqyKK2qyR"
    },
    {
      "cell_type": "code",
      "execution_count": 23,
      "metadata": {
        "colab": {
          "base_uri": "https://localhost:8080/"
        },
        "id": "NYJMiPkzUQ7c",
        "outputId": "383056f3-babd-4013-bb3b-77bb16994b52"
      },
      "outputs": [
        {
          "output_type": "stream",
          "name": "stdout",
          "text": [
            "Speeding               66.0\n",
            "Moving violation       14.0\n",
            "Equipment              11.0\n",
            "Registration/plates     4.0\n",
            "Other                   3.0\n",
            "Seat belt               2.0\n",
            "Name: violation, dtype: float64\n"
          ]
        }
      ],
      "source": [
        "# Compute the violations by female drivers (as proportions)\n",
        "violations_by_females = round(female.violation.value_counts(normalize=True)*100, ndigits=0)\n",
        "\n",
        "print(violations_by_females)"
      ],
      "id": "NYJMiPkzUQ7c"
    },
    {
      "cell_type": "code",
      "execution_count": 24,
      "metadata": {
        "colab": {
          "base_uri": "https://localhost:8080/"
        },
        "id": "x6V4etq2VI10",
        "outputId": "d624b37d-b010-4c45-9e54-a131b7929f92"
      },
      "outputs": [
        {
          "output_type": "stream",
          "name": "stdout",
          "text": [
            "Speeding               52.0\n",
            "Moving violation       21.0\n",
            "Equipment              13.0\n",
            "Other                   6.0\n",
            "Registration/plates     4.0\n",
            "Seat belt               4.0\n",
            "Name: violation, dtype: float64\n"
          ]
        }
      ],
      "source": [
        "# Compute the violations by male drivers (as proportions)\n",
        "violations_by_males = round(male.violation.value_counts(normalize=True)*100, ndigits=0)\n",
        "\n",
        "print(violations_by_males)"
      ],
      "id": "x6V4etq2VI10"
    },
    {
      "cell_type": "code",
      "execution_count": 25,
      "metadata": {
        "colab": {
          "base_uri": "https://localhost:8080/"
        },
        "id": "N8EzWjNMt6bN",
        "outputId": "72ca3d86-62ed-4f06-af34-a1c40541729e"
      },
      "outputs": [
        {
          "output_type": "execute_result",
          "data": {
            "text/plain": [
              "Citation            94.459530\n",
              "Warning              3.618391\n",
              "Arrest Driver        1.589529\n",
              "Arrest Passenger     0.128139\n",
              "No Action            0.106782\n",
              "N/D                  0.097629\n",
              "Name: stop_outcome, dtype: float64"
            ]
          },
          "metadata": {},
          "execution_count": 25
        }
      ],
      "source": [
        "# stop outcome as a result of speeding for male drivers\n",
        "male[male['violation']=='Speeding'].stop_outcome.value_counts(normalize=True)*100"
      ],
      "id": "N8EzWjNMt6bN"
    },
    {
      "cell_type": "code",
      "execution_count": 26,
      "metadata": {
        "colab": {
          "base_uri": "https://localhost:8080/"
        },
        "id": "1XJS2sRIuwZO",
        "outputId": "ac95d7f5-b983-446d-c7b0-bc6484258227"
      },
      "outputs": [
        {
          "output_type": "execute_result",
          "data": {
            "text/plain": [
              "Citation            95.219225\n",
              "Warning              4.007414\n",
              "Arrest Driver        0.575227\n",
              "N/D                  0.095871\n",
              "Arrest Passenger     0.063914\n",
              "No Action            0.038348\n",
              "Name: stop_outcome, dtype: float64"
            ]
          },
          "metadata": {},
          "execution_count": 26
        }
      ],
      "source": [
        "# stop outcome as a result of speeding for female drivers\n",
        "female[female['violation']=='Speeding'].stop_outcome.value_counts(normalize=True)*100"
      ],
      "id": "1XJS2sRIuwZO"
    },
    {
      "cell_type": "markdown",
      "metadata": {
        "id": "BvhArxZ1wbDb"
      },
      "source": [
        "The outcomes because of Speeding violations for both Male and Female drivers are in the same proportions. We can conclude that police behaviour is neutral in case of speeding violation."
      ],
      "id": "BvhArxZ1wbDb"
    },
    {
      "cell_type": "markdown",
      "metadata": {
        "id": "n1PFCjhM3oWe"
      },
      "source": [
        "### 2.3 How does the gender affect whose vehicle is searched?"
      ],
      "id": "n1PFCjhM3oWe"
    },
    {
      "cell_type": "code",
      "execution_count": 27,
      "metadata": {
        "id": "0t2Gg-0rwExh",
        "colab": {
          "base_uri": "https://localhost:8080/"
        },
        "outputId": "3235a0dc-2d06-47d9-a6b3-611dd2aa7419"
      },
      "outputs": [
        {
          "output_type": "execute_result",
          "data": {
            "text/plain": [
              "driver_gender\n",
              "F    0.019181\n",
              "M    0.045426\n",
              "Name: search_conducted, dtype: float64"
            ]
          },
          "metadata": {},
          "execution_count": 27
        }
      ],
      "source": [
        "ri.groupby('driver_gender').search_conducted.mean()"
      ],
      "id": "0t2Gg-0rwExh"
    },
    {
      "cell_type": "markdown",
      "source": [
        "Out of total searches conducted, male drivers were searched 4.5%, whereas female drivers were searched only about 2%."
      ],
      "metadata": {
        "id": "1YoJKlkV1TcB"
      },
      "id": "1YoJKlkV1TcB"
    },
    {
      "cell_type": "markdown",
      "metadata": {
        "id": "K1NR6RmW8SzM"
      },
      "source": [
        "### 2.4 Does the gender affect who is frisked during a search?"
      ],
      "id": "K1NR6RmW8SzM"
    },
    {
      "cell_type": "code",
      "execution_count": 28,
      "metadata": {
        "id": "ytz2g7PEEuvC",
        "colab": {
          "base_uri": "https://localhost:8080/"
        },
        "outputId": "e2252d6d-8f0a-41e1-9b94-024b05eed33f"
      },
      "outputs": [
        {
          "output_type": "execute_result",
          "data": {
            "text/plain": [
              "False    83229\n",
              "True      3307\n",
              "Name: search_conducted, dtype: int64"
            ]
          },
          "metadata": {},
          "execution_count": 28
        }
      ],
      "source": [
        "# how many times search was conducted?\n",
        "searches = ri.search_conducted.value_counts()\n",
        "searches"
      ],
      "id": "ytz2g7PEEuvC"
    },
    {
      "cell_type": "markdown",
      "metadata": {
        "id": "lYT4LIHnE5CK"
      },
      "source": [
        "Out of total traffic stops, only 3307 searches were conducted. Therefore, the 83229 no. of NaN entries in the **search_type** column mean that the search was not conducted, hence these entries correspond to missing data."
      ],
      "id": "lYT4LIHnE5CK"
    },
    {
      "cell_type": "code",
      "execution_count": 29,
      "metadata": {
        "id": "48kMxgry8UnD",
        "colab": {
          "base_uri": "https://localhost:8080/"
        },
        "outputId": "1595d036-056c-4837-9cb7-8c6e417f3be6"
      },
      "outputs": [
        {
          "output_type": "execute_result",
          "data": {
            "text/plain": [
              "NaN                                                         83229\n",
              "Incident to Arrest                                           1290\n",
              "Probable Cause                                                924\n",
              "Inventory                                                     219\n",
              "Reasonable Suspicion                                          214\n",
              "Protective Frisk                                              164\n",
              "Incident to Arrest,Inventory                                  123\n",
              "Incident to Arrest,Probable Cause                             100\n",
              "Probable Cause,Reasonable Suspicion                            54\n",
              "Incident to Arrest,Inventory,Probable Cause                    35\n",
              "Probable Cause,Protective Frisk                                35\n",
              "Incident to Arrest,Protective Frisk                            33\n",
              "Inventory,Probable Cause                                       25\n",
              "Protective Frisk,Reasonable Suspicion                          19\n",
              "Incident to Arrest,Inventory,Protective Frisk                  18\n",
              "Incident to Arrest,Probable Cause,Protective Frisk             13\n",
              "Inventory,Protective Frisk                                     12\n",
              "Incident to Arrest,Reasonable Suspicion                         8\n",
              "Probable Cause,Protective Frisk,Reasonable Suspicion            5\n",
              "Incident to Arrest,Probable Cause,Reasonable Suspicion          5\n",
              "Incident to Arrest,Inventory,Reasonable Suspicion               4\n",
              "Incident to Arrest,Protective Frisk,Reasonable Suspicion        2\n",
              "Inventory,Reasonable Suspicion                                  2\n",
              "Inventory,Protective Frisk,Reasonable Suspicion                 1\n",
              "Inventory,Probable Cause,Reasonable Suspicion                   1\n",
              "Inventory,Probable Cause,Protective Frisk                       1\n",
              "Name: search_type, dtype: int64"
            ]
          },
          "metadata": {},
          "execution_count": 29
        }
      ],
      "source": [
        "# what kind of searches were conducted? \n",
        "ri.search_type.value_counts(dropna=False)"
      ],
      "id": "48kMxgry8UnD"
    },
    {
      "cell_type": "code",
      "execution_count": 30,
      "metadata": {
        "id": "MkXt1OWAHeEC",
        "colab": {
          "base_uri": "https://localhost:8080/"
        },
        "outputId": "5fd2c0e7-a456-4824-dc08-b08873cf853c"
      },
      "outputs": [
        {
          "output_type": "execute_result",
          "data": {
            "text/plain": [
              "Incident to Arrest      1290\n",
              "Probable Cause           924\n",
              "Inventory                219\n",
              "Reasonable Suspicion     214\n",
              "Protective Frisk         164\n",
              "Name: search_type, dtype: int64"
            ]
          },
          "metadata": {},
          "execution_count": 30
        }
      ],
      "source": [
        "# instances when one type of search was conducted during a traffic stop\n",
        "ri.search_type.value_counts().iloc[0:5]"
      ],
      "id": "MkXt1OWAHeEC"
    },
    {
      "cell_type": "markdown",
      "metadata": {
        "id": "QsZNKPQDHyuQ"
      },
      "source": [
        "The above result shows unique search types. The rest of the searches included more than one search types."
      ],
      "id": "QsZNKPQDHyuQ"
    },
    {
      "cell_type": "markdown",
      "metadata": {
        "id": "CEaiYaZpKiLj"
      },
      "source": [
        "Let's analyze the **search_type**, during which inventory was taken by the police."
      ],
      "id": "CEaiYaZpKiLj"
    },
    {
      "cell_type": "code",
      "execution_count": 31,
      "metadata": {
        "id": "4FOFfvONK4nH"
      },
      "outputs": [],
      "source": [
        "ri['inventory'] = ri.search_type.str.contains('Inventory', na=False) "
      ],
      "id": "4FOFfvONK4nH"
    },
    {
      "cell_type": "markdown",
      "source": [
        "This will bring out all the search types in which inventory was the only search type as well as the search types, where inventory was one of other search types."
      ],
      "metadata": {
        "id": "zKwWrwcPZXrL"
      },
      "id": "zKwWrwcPZXrL"
    },
    {
      "cell_type": "code",
      "execution_count": 32,
      "metadata": {
        "id": "TWlyUZryMFZ1",
        "colab": {
          "base_uri": "https://localhost:8080/"
        },
        "outputId": "36a319e6-a7b1-4301-c4d5-9c14c94190af"
      },
      "outputs": [
        {
          "output_type": "execute_result",
          "data": {
            "text/plain": [
              "dtype('bool')"
            ]
          },
          "metadata": {},
          "execution_count": 32
        }
      ],
      "source": [
        "# check the data type\n",
        "ri['inventory'].dtype"
      ],
      "id": "TWlyUZryMFZ1"
    },
    {
      "cell_type": "markdown",
      "metadata": {
        "id": "XtMMoWUFMJwd"
      },
      "source": [
        "The data type is boolean, so we can determine the percentage of searches that had inventory as a search type."
      ],
      "id": "XtMMoWUFMJwd"
    },
    {
      "cell_type": "code",
      "execution_count": 33,
      "metadata": {
        "id": "KQzIOGD9MJIP",
        "colab": {
          "base_uri": "https://localhost:8080/"
        },
        "outputId": "ec66c7fd-d881-432b-ae6d-7539e201491e"
      },
      "outputs": [
        {
          "output_type": "stream",
          "name": "stdout",
          "text": [
            "13.3 % of the searches conducted included inventory\n"
          ]
        }
      ],
      "source": [
        "print(\"{} % of the searches conducted included inventory\".format(round(ri[ri['search_conducted'] == True].inventory.mean(), ndigits=3)*100))"
      ],
      "id": "KQzIOGD9MJIP"
    },
    {
      "cell_type": "markdown",
      "metadata": {
        "id": "vBJ-eQh4PFJY"
      },
      "source": [
        "### 2.5 Counting protective frisks\n",
        "\n",
        "During a vehicle search, the police officer may pat down the driver to check if they have a weapon. This is known as a \"protective frisk.\"\n",
        "\n",
        "So, lets determine the frisk rate."
      ],
      "id": "vBJ-eQh4PFJY"
    },
    {
      "cell_type": "code",
      "execution_count": 34,
      "metadata": {
        "id": "otrINupUyKEI",
        "colab": {
          "base_uri": "https://localhost:8080/"
        },
        "outputId": "e92d2698-c9d2-47cd-8481-58621b3f2c38"
      },
      "outputs": [
        {
          "output_type": "execute_result",
          "data": {
            "text/plain": [
              "array([nan, 'Probable Cause', 'Incident to Arrest',\n",
              "       'Incident to Arrest,Probable Cause', 'Protective Frisk',\n",
              "       'Probable Cause,Protective Frisk,Reasonable Suspicion',\n",
              "       'Reasonable Suspicion', 'Incident to Arrest,Protective Frisk',\n",
              "       'Inventory,Protective Frisk', 'Inventory',\n",
              "       'Incident to Arrest,Inventory', 'Inventory,Probable Cause',\n",
              "       'Protective Frisk,Reasonable Suspicion',\n",
              "       'Probable Cause,Reasonable Suspicion',\n",
              "       'Incident to Arrest,Inventory,Protective Frisk',\n",
              "       'Probable Cause,Protective Frisk',\n",
              "       'Incident to Arrest,Probable Cause,Protective Frisk',\n",
              "       'Incident to Arrest,Inventory,Probable Cause',\n",
              "       'Incident to Arrest,Inventory,Reasonable Suspicion',\n",
              "       'Incident to Arrest,Reasonable Suspicion',\n",
              "       'Incident to Arrest,Protective Frisk,Reasonable Suspicion',\n",
              "       'Inventory,Protective Frisk,Reasonable Suspicion',\n",
              "       'Incident to Arrest,Probable Cause,Reasonable Suspicion',\n",
              "       'Inventory,Probable Cause,Reasonable Suspicion',\n",
              "       'Inventory,Probable Cause,Protective Frisk',\n",
              "       'Inventory,Reasonable Suspicion'], dtype=object)"
            ]
          },
          "metadata": {},
          "execution_count": 34
        }
      ],
      "source": [
        "# kinds of search types\n",
        "ri.search_type.unique()"
      ],
      "id": "otrINupUyKEI"
    },
    {
      "cell_type": "code",
      "execution_count": 35,
      "metadata": {
        "id": "0OV-tvdEPLxc",
        "colab": {
          "base_uri": "https://localhost:8080/"
        },
        "outputId": "025ee605-b9d2-4e54-9714-c48950da05d1"
      },
      "outputs": [
        {
          "output_type": "stream",
          "name": "stdout",
          "text": [
            "9.2 % of the searches included Protective Frisk\n"
          ]
        }
      ],
      "source": [
        "# make a new column \"frisk\", which contains only the entries when driver was frisked\n",
        "ri['frisk'] = ri.search_type.str.contains('Protective Frisk', na=False)\n",
        "\n",
        "print(\"{} % of the searches included Protective Frisk\".format(round(ri[ri.search_conducted == True].frisk.mean(), ndigits=3)*100))"
      ],
      "id": "0OV-tvdEPLxc"
    },
    {
      "cell_type": "markdown",
      "metadata": {
        "id": "5zg7fVImQ2w7"
      },
      "source": [
        "### 2.6 Comparing frisk rates by gender\n",
        "\n",
        "**Are male drivers frisked more often than female drivers?** \n",
        "Perhaps because police officers consider male drivers to be higher risk."
      ],
      "id": "5zg7fVImQ2w7"
    },
    {
      "cell_type": "code",
      "execution_count": 36,
      "metadata": {
        "id": "h-bwrNM-RDUw",
        "colab": {
          "base_uri": "https://localhost:8080/"
        },
        "outputId": "7a838dc5-048f-46aa-c242-e2a7940fa81a"
      },
      "outputs": [
        {
          "output_type": "stream",
          "name": "stdout",
          "text": [
            "driver_gender\n",
            "F    0.813777\n",
            "M    1.029785\n",
            "Name: frisk, dtype: float64\n"
          ]
        }
      ],
      "source": [
        "# Create a DataFrame of stops in which a search was conducted\n",
        "searched = ri[ri.search_conducted == True]\n",
        "\n",
        "# Calculate the overall frisk rate by taking the mean of 'frisk'\n",
        "overall_frisk = searched.frisk.mean()\n",
        "\n",
        "# Calculate the frisk rate for each gender\n",
        "frisk_rate = searched.groupby('driver_gender')['frisk'].mean()/overall_frisk\n",
        "print(frisk_rate)"
      ],
      "id": "h-bwrNM-RDUw"
    },
    {
      "cell_type": "markdown",
      "source": [
        "Male drivers were frisked at a slightly higher rate than the female drivers."
      ],
      "metadata": {
        "id": "Ry6I6fWwE2BI"
      },
      "id": "Ry6I6fWwE2BI"
    },
    {
      "cell_type": "markdown",
      "source": [
        "## 03 - Visual Data Exploration\n",
        "---"
      ],
      "metadata": {
        "id": "mQ5bt2NWFVNh"
      },
      "id": "mQ5bt2NWFVNh"
    },
    {
      "cell_type": "markdown",
      "metadata": {
        "id": "6fc543c4-159a-4387-a574-8ba710cf8dd2"
      },
      "source": [
        "### 3.1 Does time of day affect arrest rate?"
      ],
      "id": "6fc543c4-159a-4387-a574-8ba710cf8dd2"
    },
    {
      "cell_type": "code",
      "execution_count": 37,
      "metadata": {
        "id": "2161fe9c-c7c8-48db-80b1-f768691d6571"
      },
      "outputs": [],
      "source": [
        "# over_all arrests\n",
        "overall_arrests = ri.is_arrested.mean()\n",
        "\n",
        "# hourly arrest rate\n",
        "hourly_arrest_rate = ri.groupby(ri.index.hour).is_arrested.mean()/overall_arrests"
      ],
      "id": "2161fe9c-c7c8-48db-80b1-f768691d6571"
    },
    {
      "cell_type": "markdown",
      "source": [
        "Plotting hourly arrest rate"
      ],
      "metadata": {
        "id": "mvuQH_6Cjvp9"
      },
      "id": "mvuQH_6Cjvp9"
    },
    {
      "cell_type": "code",
      "execution_count": 38,
      "metadata": {
        "id": "3df1a658-69cf-49b3-808e-8cbb206dd6a9",
        "colab": {
          "base_uri": "https://localhost:8080/",
          "height": 410
        },
        "outputId": "c2413b7e-438f-4028-e72b-8f2a144c2287"
      },
      "outputs": [
        {
          "output_type": "display_data",
          "data": {
            "text/plain": [
              "<Figure size 576x432 with 1 Axes>"
            ],
            "image/png": "[encoded data removed]"
          },
          "metadata": {}
        }
      ],
      "source": [
        "# Import matplotlib.pyplot as plt\n",
        "import matplotlib.pyplot as plt\n",
        "import seaborn as sns\n",
        "\n",
        "# use seaborn style\n",
        "sns.set_theme()\n",
        "\n",
        "# Create a line plot of 'hourly_arrest_rate'\n",
        "hourly_arrest_rate.plot(color='orange', figsize=(8,6))\n",
        "\n",
        "# Add the xlabel, ylabel, and title\n",
        "plt.xlabel('Hour of the Day')\n",
        "plt.ylabel('Arrest Rate')\n",
        "plt.title('Arrest Rate by Time of Day')\n",
        "\n",
        "# Display the plot\n",
        "plt.show()"
      ],
      "id": "3df1a658-69cf-49b3-808e-8cbb206dd6a9"
    },
    {
      "cell_type": "markdown",
      "metadata": {
        "id": "9d5421d9-650b-4d27-ae0b-dba164e39096"
      },
      "source": [
        "The arrest rate is significantly on hike during the night time, lowest in the early morning, while it's moderate from noon to evening."
      ],
      "id": "9d5421d9-650b-4d27-ae0b-dba164e39096"
    },
    {
      "cell_type": "markdown",
      "metadata": {
        "id": "859de188-73b5-4528-a2d0-b9215a1ad7df"
      },
      "source": [
        "### 3.2 Are drug related stops on the rise?"
      ],
      "id": "859de188-73b5-4528-a2d0-b9215a1ad7df"
    },
    {
      "cell_type": "code",
      "execution_count": 39,
      "metadata": {
        "id": "bf28f3dc-1c70-41c2-bb06-b51b28e9469c",
        "colab": {
          "base_uri": "https://localhost:8080/",
          "height": 393
        },
        "outputId": "6ee795d6-0762-4811-dd47-a9324ab576d7"
      },
      "outputs": [
        {
          "output_type": "display_data",
          "data": {
            "text/plain": [
              "<Figure size 576x432 with 1 Axes>"
            ],
            "image/png": "[encoded data removed]"
          },
          "metadata": {}
        }
      ],
      "source": [
        "# annual drugs related stops\n",
        "annual_drug_related_stops = ri.drugs_related_stop.resample('A').mean()/ri.drugs_related_stop.mean()\n",
        "\n",
        "# use seaborn style\n",
        "sns.set_style('darkgrid')\n",
        "\n",
        "# plot the annual rate of drugs found\n",
        "annual_drug_related_stops.plot(color='red', figsize=(8,6))\n",
        "\n",
        "# Add the xlabel, ylabel, and title\n",
        "plt.xlabel(None)\n",
        "plt.ylabel('Drugs Related Stops')\n",
        "plt.title('Annual Rate')\n",
        "\n",
        "# Display the plot\n",
        "plt.show()"
      ],
      "id": "bf28f3dc-1c70-41c2-bb06-b51b28e9469c"
    },
    {
      "cell_type": "markdown",
      "metadata": {
        "id": "334f6f30-8473-46be-9164-c298304f0f19"
      },
      "source": [
        "This implies that the rate of drugs related stops is increasing annually.\n",
        "\n",
        "However, this may also be true that the number of searches being conducted also increased from 2005 to 2015, which would have led to an increase in drug-related stops even if more drivers were not carrying drugs. To check whether this hypothesis holds true, let us plot annual search rate and compare rate of drug-related stops with annual search rate."
      ],
      "id": "334f6f30-8473-46be-9164-c298304f0f19"
    },
    {
      "cell_type": "code",
      "execution_count": 40,
      "metadata": {
        "id": "be93295e-142e-4dea-b493-210d1f4c6de3",
        "colab": {
          "base_uri": "https://localhost:8080/",
          "height": 502
        },
        "outputId": "8324b8da-3061-45fc-a339-114f0c7ec302"
      },
      "outputs": [
        {
          "output_type": "display_data",
          "data": {
            "text/plain": [
              "<Figure size 576x576 with 2 Axes>"
            ],
            "image/png": "[encoded data removed]"
          },
          "metadata": {}
        }
      ],
      "source": [
        "# annual search rate\n",
        "annual_search_rate = ri.search_conducted.resample('A').mean()/ri.search_conducted.mean()\n",
        "\n",
        "# set style\n",
        "sns.set_style('darkgrid')\n",
        "\n",
        "# concatenate annual_search_rate and annual drug_related stops\n",
        "comparison = pd.concat([annual_search_rate, annual_drug_related_stops], axis='columns')\n",
        "\n",
        "# plot annual rate of drugs found in comparison with rate of searches conducted\n",
        "comparison.plot(subplots=True, color=['green', 'magenta'], figsize=(8,8))\n",
        "\n",
        "plt.xlabel('Time (year)')\n",
        "\n",
        "# Display the plot\n",
        "plt.show()"
      ],
      "id": "be93295e-142e-4dea-b493-210d1f4c6de3"
    },
    {
      "cell_type": "markdown",
      "metadata": {
        "id": "7396a498-6cd8-4ddd-861a-b9093db1602c"
      },
      "source": [
        "From the above visual, it is evident that drugs related stops are increasing annually with a decrease in annual search rate. "
      ],
      "id": "7396a498-6cd8-4ddd-861a-b9093db1602c"
    },
    {
      "cell_type": "markdown",
      "metadata": {
        "id": "9515bd40-995e-48d6-917b-6b47c08bbd4f"
      },
      "source": [
        "### 3.3 How many violations are caught in each district?"
      ],
      "id": "9515bd40-995e-48d6-917b-6b47c08bbd4f"
    },
    {
      "cell_type": "code",
      "execution_count": 41,
      "metadata": {
        "id": "dddb2342-efdc-4de0-9e7b-8969ad1b8b1b",
        "colab": {
          "base_uri": "https://localhost:8080/",
          "height": 269
        },
        "outputId": "d48250d5-ed6f-44b2-8055-903a1b784c1e"
      },
      "outputs": [
        {
          "output_type": "execute_result",
          "data": {
            "text/plain": [
              "violation  Equipment  Moving violation  Other  Registration/plates  Seat belt  \\\n",
              "district                                                                        \n",
              "Zone K1          672              1254    290                  120          0   \n",
              "Zone K2         2061              2962    942                  768        481   \n",
              "Zone K3         2302              2898    705                  695        638   \n",
              "Zone X1          296               671    143                   38         74   \n",
              "Zone X3         2049              3086    769                  671        820   \n",
              "Zone X4         3541              5353   1560                 1411        843   \n",
              "\n",
              "violation  Speeding  \n",
              "district             \n",
              "Zone K1        5960  \n",
              "Zone K2       10448  \n",
              "Zone K3       12322  \n",
              "Zone X1        1119  \n",
              "Zone X3        8779  \n",
              "Zone X4        9795  "
            ],
            "text/html": [
              "\n",
              "  <div id=\"df-3351555d-05e9-42ba-83e2-96b10e3f6cf7\">\n",
              "    <div class=\"colab-df-container\">\n",
              "      <div>\n",
              "<style scoped>\n",
              "    .dataframe tbody tr th:only-of-type {\n",
              "        vertical-align: middle;\n",
              "    }\n",
              "\n",
              "    .dataframe tbody tr th {\n",
              "        vertical-align: top;\n",
              "    }\n",
              "\n",
              "    .dataframe thead th {\n",
              "        text-align: right;\n",
              "    }\n",
              "</style>\n",
              "<table border=\"1\" class=\"dataframe\">\n",
              "  <thead>\n",
              "    <tr style=\"text-align: right;\">\n",
              "      <th>violation</th>\n",
              "      <th>Equipment</th>\n",
              "      <th>Moving violation</th>\n",
              "      <th>Other</th>\n",
              "      <th>Registration/plates</th>\n",
              "      <th>Seat belt</th>\n",
              "      <th>Speeding</th>\n",
              "    </tr>\n",
              "    <tr>\n",
              "      <th>district</th>\n",
              "      <th></th>\n",
              "      <th></th>\n",
              "      <th></th>\n",
              "      <th></th>\n",
              "      <th></th>\n",
              "      <th></th>\n",
              "    </tr>\n",
              "  </thead>\n",
              "  <tbody>\n",
              "    <tr>\n",
              "      <th>Zone K1</th>\n",
              "      <td>672</td>\n",
              "      <td>1254</td>\n",
              "      <td>290</td>\n",
              "      <td>120</td>\n",
              "      <td>0</td>\n",
              "      <td>5960</td>\n",
              "    </tr>\n",
              "    <tr>\n",
              "      <th>Zone K2</th>\n",
              "      <td>2061</td>\n",
              "      <td>2962</td>\n",
              "      <td>942</td>\n",
              "      <td>768</td>\n",
              "      <td>481</td>\n",
              "      <td>10448</td>\n",
              "    </tr>\n",
              "    <tr>\n",
              "      <th>Zone K3</th>\n",
              "      <td>2302</td>\n",
              "      <td>2898</td>\n",
              "      <td>705</td>\n",
              "      <td>695</td>\n",
              "      <td>638</td>\n",
              "      <td>12322</td>\n",
              "    </tr>\n",
              "    <tr>\n",
              "      <th>Zone X1</th>\n",
              "      <td>296</td>\n",
              "      <td>671</td>\n",
              "      <td>143</td>\n",
              "      <td>38</td>\n",
              "      <td>74</td>\n",
              "      <td>1119</td>\n",
              "    </tr>\n",
              "    <tr>\n",
              "      <th>Zone X3</th>\n",
              "      <td>2049</td>\n",
              "      <td>3086</td>\n",
              "      <td>769</td>\n",
              "      <td>671</td>\n",
              "      <td>820</td>\n",
              "      <td>8779</td>\n",
              "    </tr>\n",
              "    <tr>\n",
              "      <th>Zone X4</th>\n",
              "      <td>3541</td>\n",
              "      <td>5353</td>\n",
              "      <td>1560</td>\n",
              "      <td>1411</td>\n",
              "      <td>843</td>\n",
              "      <td>9795</td>\n",
              "    </tr>\n",
              "  </tbody>\n",
              "</table>\n",
              "</div>\n",
              "      <button class=\"colab-df-convert\" onclick=\"convertToInteractive('df-3351555d-05e9-42ba-83e2-96b10e3f6cf7')\"\n",
              "              title=\"Convert this dataframe to an interactive table.\"\n",
              "              style=\"display:none;\">\n",
              "        \n",
              "  <svg xmlns=\"http://www.w3.org/2000/svg\" height=\"24px\"viewBox=\"0 0 24 24\"\n",
              "       width=\"24px\">\n",
              "    <path d=\"M0 0h24v24H0V0z\" fill=\"none\"/>\n",
              "    <path d=\"M18.56 5.44l.94 2.06.94-2.06 2.06-.94-2.06-.94-.94-2.06-.94 2.06-2.06.94zm-11 1L8.5 8.5l.94-2.06 2.06-.94-2.06-.94L8.5 2.5l-.94 2.06-2.06.94zm10 10l.94 2.06.94-2.06 2.06-.94-2.06-.94-.94-2.06-.94 2.06-2.06.94z\"/><path d=\"M17.41 7.96l-1.37-1.37c-.4-.4-.92-.59-1.43-.59-.52 0-1.04.2-1.43.59L10.3 9.45l-7.72 7.72c-.78.78-.78 2.05 0 2.83L4 21.41c.39.39.9.59 1.41.59.51 0 1.02-.2 1.41-.59l7.78-7.78 2.81-2.81c.8-.78.8-2.07 0-2.86zM5.41 20L4 18.59l7.72-7.72 1.47 1.35L5.41 20z\"/>\n",
              "  </svg>\n",
              "      </button>\n",
              "      \n",
              "  <style>\n",
              "    .colab-df-container {\n",
              "      display:flex;\n",
              "      flex-wrap:wrap;\n",
              "      gap: 12px;\n",
              "    }\n",
              "\n",
              "    .colab-df-convert {\n",
              "      background-color: #E8F0FE;\n",
              "      border: none;\n",
              "      border-radius: 50%;\n",
              "      cursor: pointer;\n",
              "      display: none;\n",
              "      fill: #1967D2;\n",
              "      height: 32px;\n",
              "      padding: 0 0 0 0;\n",
              "      width: 32px;\n",
              "    }\n",
              "\n",
              "    .colab-df-convert:hover {\n",
              "      background-color: #E2EBFA;\n",
              "      box-shadow: 0px 1px 2px rgba(60, 64, 67, 0.3), 0px 1px 3px 1px rgba(60, 64, 67, 0.15);\n",
              "      fill: #174EA6;\n",
              "    }\n",
              "\n",
              "    [theme=dark] .colab-df-convert {\n",
              "      background-color: #3B4455;\n",
              "      fill: #D2E3FC;\n",
              "    }\n",
              "\n",
              "    [theme=dark] .colab-df-convert:hover {\n",
              "      background-color: #434B5C;\n",
              "      box-shadow: 0px 1px 3px 1px rgba(0, 0, 0, 0.15);\n",
              "      filter: drop-shadow(0px 1px 2px rgba(0, 0, 0, 0.3));\n",
              "      fill: #FFFFFF;\n",
              "    }\n",
              "  </style>\n",
              "\n",
              "      <script>\n",
              "        const buttonEl =\n",
              "          document.querySelector('#df-3351555d-05e9-42ba-83e2-96b10e3f6cf7 button.colab-df-convert');\n",
              "        buttonEl.style.display =\n",
              "          google.colab.kernel.accessAllowed ? 'block' : 'none';\n",
              "\n",
              "        async function convertToInteractive(key) {\n",
              "          const element = document.querySelector('#df-3351555d-05e9-42ba-83e2-96b10e3f6cf7');\n",
              "          const dataTable =\n",
              "            await google.colab.kernel.invokeFunction('convertToInteractive',\n",
              "                                                     [key], {});\n",
              "          if (!dataTable) return;\n",
              "\n",
              "          const docLinkHtml = 'Like what you see? Visit the ' +\n",
              "            '<a target=\"_blank\" href=https://colab.research.google.com/notebooks/data_table.ipynb>data table notebook</a>'\n",
              "            + ' to learn more about interactive tables.';\n",
              "          element.innerHTML = '';\n",
              "          dataTable['output_type'] = 'display_data';\n",
              "          await google.colab.output.renderOutput(dataTable, element);\n",
              "          const docLink = document.createElement('div');\n",
              "          docLink.innerHTML = docLinkHtml;\n",
              "          element.appendChild(docLink);\n",
              "        }\n",
              "      </script>\n",
              "    </div>\n",
              "  </div>\n",
              "  "
            ]
          },
          "metadata": {},
          "execution_count": 41
        }
      ],
      "source": [
        "# frequency table\n",
        "freq_table = pd.crosstab(ri.district, ri.violation)\n",
        "\n",
        "# frequency of violation type in each district\n",
        "freq_table"
      ],
      "id": "dddb2342-efdc-4de0-9e7b-8969ad1b8b1b"
    },
    {
      "cell_type": "code",
      "execution_count": 42,
      "metadata": {
        "id": "Pn0ZNZ9CwhOO",
        "colab": {
          "base_uri": "https://localhost:8080/",
          "height": 322
        },
        "outputId": "0ef0c207-3cb6-4a49-c240-a239f14fca57"
      },
      "outputs": [
        {
          "output_type": "display_data",
          "data": {
            "text/plain": [
              "<Figure size 720x360 with 1 Axes>"
            ],
            "image/png": "[encoded data removed]"
          },
          "metadata": {}
        }
      ],
      "source": [
        "# bar chart of how often a violation was committed in each district\n",
        "# set seaborn style\n",
        "sns.set_style('darkgrid')\n",
        "\n",
        "# code for bar plot\n",
        "freq_table.plot(kind='bar', figsize=(10,5), rot=0)\n",
        "\n",
        "# remove unnecessary labels\n",
        "plt.xlabel(None)\n",
        "\n",
        "# show\n",
        "plt.show()"
      ],
      "id": "Pn0ZNZ9CwhOO"
    },
    {
      "cell_type": "markdown",
      "metadata": {
        "id": "b83820ca-bc60-4cdc-a1b9-296dc35397dd"
      },
      "source": [
        "Most of the violations are due to speeding. Whereas, violations of seat belt are rare in all districts."
      ],
      "id": "b83820ca-bc60-4cdc-a1b9-296dc35397dd"
    },
    {
      "cell_type": "markdown",
      "metadata": {
        "id": "b690ffe6-cef4-4993-8a20-ea52ccf074f2"
      },
      "source": [
        "### 3.4 How many searches were conducted by violation?"
      ],
      "id": "b690ffe6-cef4-4993-8a20-ea52ccf074f2"
    },
    {
      "cell_type": "code",
      "execution_count": 43,
      "metadata": {
        "id": "2fa85baa-1ea3-4623-a3d0-2f74cbe3f5f7",
        "colab": {
          "base_uri": "https://localhost:8080/",
          "height": 322
        },
        "outputId": "8184bc3b-c70b-4088-ba84-68201a304e85"
      },
      "outputs": [
        {
          "output_type": "display_data",
          "data": {
            "text/plain": [
              "<Figure size 360x360 with 1 Axes>"
            ],
            "image/png": "[encoded data removed]"
          },
          "metadata": {}
        }
      ],
      "source": [
        "# code\n",
        "search_rate_by_violation = (ri.groupby('violation').search_conducted.mean()/ri.search_conducted.mean()).sort_values(ascending=False)\n",
        "\n",
        "# plot\n",
        "search_rate_by_violation.plot(kind='barh', figsize=(5,5))\n",
        "\n",
        "# remove unnecessary labels\n",
        "plt.ylabel(None)\n",
        "\n",
        "# show\n",
        "plt.show()"
      ],
      "id": "2fa85baa-1ea3-4623-a3d0-2f74cbe3f5f7"
    },
    {
      "cell_type": "markdown",
      "metadata": {
        "id": "8242835d-ce7b-4fec-8443-d57594f716da"
      },
      "source": [
        "Search rate is the highest in case of **Registration/plates** violation."
      ],
      "id": "8242835d-ce7b-4fec-8443-d57594f716da"
    },
    {
      "cell_type": "markdown",
      "source": [
        "### 3.5 Average stop duration by violation type"
      ],
      "metadata": {
        "id": "UKQ9I8nW5K0n"
      },
      "id": "UKQ9I8nW5K0n"
    },
    {
      "cell_type": "code",
      "execution_count": 44,
      "metadata": {
        "id": "bfb7f75d-b22f-4bc3-ae99-57815752b4a4",
        "colab": {
          "base_uri": "https://localhost:8080/"
        },
        "outputId": "528e9cd8-c702-4809-f006-26f69cb19d6e"
      },
      "outputs": [
        {
          "output_type": "execute_result",
          "data": {
            "text/plain": [
              "array(['0-15 Min', '16-30 Min', '30+ Min'], dtype=object)"
            ]
          },
          "metadata": {},
          "execution_count": 44
        }
      ],
      "source": [
        "# data types of the stop_duration column\n",
        "ri.stop_duration.unique()"
      ],
      "id": "bfb7f75d-b22f-4bc3-ae99-57815752b4a4"
    },
    {
      "cell_type": "markdown",
      "metadata": {
        "id": "56b3016c-0fc8-4ffd-b462-0be2935fa3fb"
      },
      "source": [
        "These values are hard to analyze and illustrate. Therefore, for making meaningful and easy to understand visuals, we need to convert these values into corresponding integers."
      ],
      "id": "56b3016c-0fc8-4ffd-b462-0be2935fa3fb"
    },
    {
      "cell_type": "code",
      "execution_count": 45,
      "metadata": {
        "id": "2ff3c4cf-59b8-4ece-ae4c-dd860d8cddbd",
        "colab": {
          "base_uri": "https://localhost:8080/"
        },
        "outputId": "59d01b0e-276b-4f44-a1e9-38f29bf59f4b"
      },
      "outputs": [
        {
          "output_type": "execute_result",
          "data": {
            "text/plain": [
              "array([ 8, 23, 45])"
            ]
          },
          "metadata": {},
          "execution_count": 45
        }
      ],
      "source": [
        "# make a dictionary for mapping the stop_duration values\n",
        "mapping = {'0-15 Min': 8, '16-30 Min': 23, '30+ Min': 45}\n",
        "\n",
        "# now replace the stop_duration column values by the above assigned values in the dictionary\n",
        "ri['stop_mins'] = ri.stop_duration.map(mapping)\n",
        "\n",
        "# view the stop duration values in terms of integers\n",
        "ri['stop_mins'].unique()"
      ],
      "id": "2ff3c4cf-59b8-4ece-ae4c-dd860d8cddbd"
    },
    {
      "cell_type": "code",
      "execution_count": 46,
      "metadata": {
        "id": "8408c780-be86-4a3b-b9d5-cf1a2f82d655",
        "colab": {
          "base_uri": "https://localhost:8080/",
          "height": 377
        },
        "outputId": "0e44e39e-2188-4d8f-f62d-5e0d69dafbe2"
      },
      "outputs": [
        {
          "output_type": "display_data",
          "data": {
            "text/plain": [
              "<Figure size 576x432 with 1 Axes>"
            ],
            "image/png": "[encoded data removed]"
          },
          "metadata": {}
        }
      ],
      "source": [
        "# Calculate the mean 'stop_minutes' for each value in 'violation_raw'\n",
        "stop_length = ri.groupby('violation')['stop_mins'].mean().sort_values()\n",
        "\n",
        "# Sort 'stop_length' by its values and create a horizontal bar plot\n",
        "stop_length.plot(kind='barh', figsize=(8,6))\n",
        "\n",
        "# remove unnecessary labels\n",
        "plt.ylabel(None)\n",
        "\n",
        "# Display the plot\n",
        "plt.show()"
      ],
      "id": "8408c780-be86-4a3b-b9d5-cf1a2f82d655"
    },
    {
      "cell_type": "markdown",
      "metadata": {
        "id": "3QY4hJH9_Mgv"
      },
      "source": [
        "## 4 - Effect of Weather Condition on Police Activity in Rhode Island\n",
        "---"
      ],
      "id": "3QY4hJH9_Mgv"
    },
    {
      "cell_type": "code",
      "source": [
        "# first import the weather dataset\n",
        "\n",
        "# set path to the dataset location\n",
        "path_to_weather = '/content/drive/MyDrive/Colab Notebooks/Projects/weather.csv'\n",
        "\n",
        "# read the data in csv\n",
        "weather = pd.read_csv(path_to_weather)\n",
        "\n",
        "# View the first few observations\n",
        "weather.head(3)"
      ],
      "metadata": {
        "colab": {
          "base_uri": "https://localhost:8080/",
          "height": 306
        },
        "id": "OLhrTMEuzIik",
        "outputId": "e4102c90-1470-4dd2-c357-e14e61771b7a"
      },
      "id": "OLhrTMEuzIik",
      "execution_count": 47,
      "outputs": [
        {
          "output_type": "execute_result",
          "data": {
            "text/plain": [
              "   Unnamed: 0      STATION        DATE  TAVG  TMIN  TMAX  AWND  WSF2  WT01  \\\n",
              "0           0  USW00014765  2005-01-01  44.0    35    53  8.95  25.1   1.0   \n",
              "1           1  USW00014765  2005-01-02  36.0    28    44  9.40  14.1   NaN   \n",
              "2           2  USW00014765  2005-01-03  49.0    44    53  6.93  17.0   1.0   \n",
              "\n",
              "   WT02  ...  WT15  WT16  WT17  WT18  WT19  WT21  WT22  TDIFF  bad_conditions  \\\n",
              "0   NaN  ...   NaN   NaN   NaN   NaN   NaN   NaN   NaN     18               2   \n",
              "1   NaN  ...   NaN   1.0   NaN   1.0   NaN   NaN   NaN     16               2   \n",
              "2   NaN  ...   NaN   1.0   NaN   NaN   NaN   NaN   NaN      9               3   \n",
              "\n",
              "   rating  \n",
              "0     bad  \n",
              "1     bad  \n",
              "2     bad  \n",
              "\n",
              "[3 rows x 31 columns]"
            ],
            "text/html": [
              "\n",
              "  <div id=\"df-e4468b0f-c515-4564-8bf2-67deeb595004\">\n",
              "    <div class=\"colab-df-container\">\n",
              "      <div>\n",
              "<style scoped>\n",
              "    .dataframe tbody tr th:only-of-type {\n",
              "        vertical-align: middle;\n",
              "    }\n",
              "\n",
              "    .dataframe tbody tr th {\n",
              "        vertical-align: top;\n",
              "    }\n",
              "\n",
              "    .dataframe thead th {\n",
              "        text-align: right;\n",
              "    }\n",
              "</style>\n",
              "<table border=\"1\" class=\"dataframe\">\n",
              "  <thead>\n",
              "    <tr style=\"text-align: right;\">\n",
              "      <th></th>\n",
              "      <th>Unnamed: 0</th>\n",
              "      <th>STATION</th>\n",
              "      <th>DATE</th>\n",
              "      <th>TAVG</th>\n",
              "      <th>TMIN</th>\n",
              "      <th>TMAX</th>\n",
              "      <th>AWND</th>\n",
              "      <th>WSF2</th>\n",
              "      <th>WT01</th>\n",
              "      <th>WT02</th>\n",
              "      <th>...</th>\n",
              "      <th>WT15</th>\n",
              "      <th>WT16</th>\n",
              "      <th>WT17</th>\n",
              "      <th>WT18</th>\n",
              "      <th>WT19</th>\n",
              "      <th>WT21</th>\n",
              "      <th>WT22</th>\n",
              "      <th>TDIFF</th>\n",
              "      <th>bad_conditions</th>\n",
              "      <th>rating</th>\n",
              "    </tr>\n",
              "  </thead>\n",
              "  <tbody>\n",
              "    <tr>\n",
              "      <th>0</th>\n",
              "      <td>0</td>\n",
              "      <td>USW00014765</td>\n",
              "      <td>2005-01-01</td>\n",
              "      <td>44.0</td>\n",
              "      <td>35</td>\n",
              "      <td>53</td>\n",
              "      <td>8.95</td>\n",
              "      <td>25.1</td>\n",
              "      <td>1.0</td>\n",
              "      <td>NaN</td>\n",
              "      <td>...</td>\n",
              "      <td>NaN</td>\n",
              "      <td>NaN</td>\n",
              "      <td>NaN</td>\n",
              "      <td>NaN</td>\n",
              "      <td>NaN</td>\n",
              "      <td>NaN</td>\n",
              "      <td>NaN</td>\n",
              "      <td>18</td>\n",
              "      <td>2</td>\n",
              "      <td>bad</td>\n",
              "    </tr>\n",
              "    <tr>\n",
              "      <th>1</th>\n",
              "      <td>1</td>\n",
              "      <td>USW00014765</td>\n",
              "      <td>2005-01-02</td>\n",
              "      <td>36.0</td>\n",
              "      <td>28</td>\n",
              "      <td>44</td>\n",
              "      <td>9.40</td>\n",
              "      <td>14.1</td>\n",
              "      <td>NaN</td>\n",
              "      <td>NaN</td>\n",
              "      <td>...</td>\n",
              "      <td>NaN</td>\n",
              "      <td>1.0</td>\n",
              "      <td>NaN</td>\n",
              "      <td>1.0</td>\n",
              "      <td>NaN</td>\n",
              "      <td>NaN</td>\n",
              "      <td>NaN</td>\n",
              "      <td>16</td>\n",
              "      <td>2</td>\n",
              "      <td>bad</td>\n",
              "    </tr>\n",
              "    <tr>\n",
              "      <th>2</th>\n",
              "      <td>2</td>\n",
              "      <td>USW00014765</td>\n",
              "      <td>2005-01-03</td>\n",
              "      <td>49.0</td>\n",
              "      <td>44</td>\n",
              "      <td>53</td>\n",
              "      <td>6.93</td>\n",
              "      <td>17.0</td>\n",
              "      <td>1.0</td>\n",
              "      <td>NaN</td>\n",
              "      <td>...</td>\n",
              "      <td>NaN</td>\n",
              "      <td>1.0</td>\n",
              "      <td>NaN</td>\n",
              "      <td>NaN</td>\n",
              "      <td>NaN</td>\n",
              "      <td>NaN</td>\n",
              "      <td>NaN</td>\n",
              "      <td>9</td>\n",
              "      <td>3</td>\n",
              "      <td>bad</td>\n",
              "    </tr>\n",
              "  </tbody>\n",
              "</table>\n",
              "<p>3 rows × 31 columns</p>\n",
              "</div>\n",
              "      <button class=\"colab-df-convert\" onclick=\"convertToInteractive('df-e4468b0f-c515-4564-8bf2-67deeb595004')\"\n",
              "              title=\"Convert this dataframe to an interactive table.\"\n",
              "              style=\"display:none;\">\n",
              "        \n",
              "  <svg xmlns=\"http://www.w3.org/2000/svg\" height=\"24px\"viewBox=\"0 0 24 24\"\n",
              "       width=\"24px\">\n",
              "    <path d=\"M0 0h24v24H0V0z\" fill=\"none\"/>\n",
              "    <path d=\"M18.56 5.44l.94 2.06.94-2.06 2.06-.94-2.06-.94-.94-2.06-.94 2.06-2.06.94zm-11 1L8.5 8.5l.94-2.06 2.06-.94-2.06-.94L8.5 2.5l-.94 2.06-2.06.94zm10 10l.94 2.06.94-2.06 2.06-.94-2.06-.94-.94-2.06-.94 2.06-2.06.94z\"/><path d=\"M17.41 7.96l-1.37-1.37c-.4-.4-.92-.59-1.43-.59-.52 0-1.04.2-1.43.59L10.3 9.45l-7.72 7.72c-.78.78-.78 2.05 0 2.83L4 21.41c.39.39.9.59 1.41.59.51 0 1.02-.2 1.41-.59l7.78-7.78 2.81-2.81c.8-.78.8-2.07 0-2.86zM5.41 20L4 18.59l7.72-7.72 1.47 1.35L5.41 20z\"/>\n",
              "  </svg>\n",
              "      </button>\n",
              "      \n",
              "  <style>\n",
              "    .colab-df-container {\n",
              "      display:flex;\n",
              "      flex-wrap:wrap;\n",
              "      gap: 12px;\n",
              "    }\n",
              "\n",
              "    .colab-df-convert {\n",
              "      background-color: #E8F0FE;\n",
              "      border: none;\n",
              "      border-radius: 50%;\n",
              "      cursor: pointer;\n",
              "      display: none;\n",
              "      fill: #1967D2;\n",
              "      height: 32px;\n",
              "      padding: 0 0 0 0;\n",
              "      width: 32px;\n",
              "    }\n",
              "\n",
              "    .colab-df-convert:hover {\n",
              "      background-color: #E2EBFA;\n",
              "      box-shadow: 0px 1px 2px rgba(60, 64, 67, 0.3), 0px 1px 3px 1px rgba(60, 64, 67, 0.15);\n",
              "      fill: #174EA6;\n",
              "    }\n",
              "\n",
              "    [theme=dark] .colab-df-convert {\n",
              "      background-color: #3B4455;\n",
              "      fill: #D2E3FC;\n",
              "    }\n",
              "\n",
              "    [theme=dark] .colab-df-convert:hover {\n",
              "      background-color: #434B5C;\n",
              "      box-shadow: 0px 1px 3px 1px rgba(0, 0, 0, 0.15);\n",
              "      filter: drop-shadow(0px 1px 2px rgba(0, 0, 0, 0.3));\n",
              "      fill: #FFFFFF;\n",
              "    }\n",
              "  </style>\n",
              "\n",
              "      <script>\n",
              "        const buttonEl =\n",
              "          document.querySelector('#df-e4468b0f-c515-4564-8bf2-67deeb595004 button.colab-df-convert');\n",
              "        buttonEl.style.display =\n",
              "          google.colab.kernel.accessAllowed ? 'block' : 'none';\n",
              "\n",
              "        async function convertToInteractive(key) {\n",
              "          const element = document.querySelector('#df-e4468b0f-c515-4564-8bf2-67deeb595004');\n",
              "          const dataTable =\n",
              "            await google.colab.kernel.invokeFunction('convertToInteractive',\n",
              "                                                     [key], {});\n",
              "          if (!dataTable) return;\n",
              "\n",
              "          const docLinkHtml = 'Like what you see? Visit the ' +\n",
              "            '<a target=\"_blank\" href=https://colab.research.google.com/notebooks/data_table.ipynb>data table notebook</a>'\n",
              "            + ' to learn more about interactive tables.';\n",
              "          element.innerHTML = '';\n",
              "          dataTable['output_type'] = 'display_data';\n",
              "          await google.colab.output.renderOutput(dataTable, element);\n",
              "          const docLink = document.createElement('div');\n",
              "          docLink.innerHTML = docLinkHtml;\n",
              "          element.appendChild(docLink);\n",
              "        }\n",
              "      </script>\n",
              "    </div>\n",
              "  </div>\n",
              "  "
            ]
          },
          "metadata": {},
          "execution_count": 47
        }
      ]
    },
    {
      "cell_type": "code",
      "source": [
        "weather.drop(['Unnamed: 0'], axis=1,inplace=True)"
      ],
      "metadata": {
        "id": "tKE74d3j_KpW"
      },
      "id": "tKE74d3j_KpW",
      "execution_count": 48,
      "outputs": []
    },
    {
      "cell_type": "code",
      "source": [
        "weather.head(3)"
      ],
      "metadata": {
        "colab": {
          "base_uri": "https://localhost:8080/",
          "height": 289
        },
        "id": "CYf6T5Cb_rpC",
        "outputId": "c91d3d7f-413a-4c34-e05f-e85fee9f85b7"
      },
      "id": "CYf6T5Cb_rpC",
      "execution_count": 49,
      "outputs": [
        {
          "output_type": "execute_result",
          "data": {
            "text/plain": [
              "       STATION        DATE  TAVG  TMIN  TMAX  AWND  WSF2  WT01  WT02  WT03  \\\n",
              "0  USW00014765  2005-01-01  44.0    35    53  8.95  25.1   1.0   NaN   NaN   \n",
              "1  USW00014765  2005-01-02  36.0    28    44  9.40  14.1   NaN   NaN   NaN   \n",
              "2  USW00014765  2005-01-03  49.0    44    53  6.93  17.0   1.0   NaN   NaN   \n",
              "\n",
              "   ...  WT15  WT16  WT17  WT18  WT19  WT21  WT22  TDIFF  bad_conditions  \\\n",
              "0  ...   NaN   NaN   NaN   NaN   NaN   NaN   NaN     18               2   \n",
              "1  ...   NaN   1.0   NaN   1.0   NaN   NaN   NaN     16               2   \n",
              "2  ...   NaN   1.0   NaN   NaN   NaN   NaN   NaN      9               3   \n",
              "\n",
              "   rating  \n",
              "0     bad  \n",
              "1     bad  \n",
              "2     bad  \n",
              "\n",
              "[3 rows x 30 columns]"
            ],
            "text/html": [
              "\n",
              "  <div id=\"df-ab5d9341-28e4-4f61-a1a2-b6f50e22f499\">\n",
              "    <div class=\"colab-df-container\">\n",
              "      <div>\n",
              "<style scoped>\n",
              "    .dataframe tbody tr th:only-of-type {\n",
              "        vertical-align: middle;\n",
              "    }\n",
              "\n",
              "    .dataframe tbody tr th {\n",
              "        vertical-align: top;\n",
              "    }\n",
              "\n",
              "    .dataframe thead th {\n",
              "        text-align: right;\n",
              "    }\n",
              "</style>\n",
              "<table border=\"1\" class=\"dataframe\">\n",
              "  <thead>\n",
              "    <tr style=\"text-align: right;\">\n",
              "      <th></th>\n",
              "      <th>STATION</th>\n",
              "      <th>DATE</th>\n",
              "      <th>TAVG</th>\n",
              "      <th>TMIN</th>\n",
              "      <th>TMAX</th>\n",
              "      <th>AWND</th>\n",
              "      <th>WSF2</th>\n",
              "      <th>WT01</th>\n",
              "      <th>WT02</th>\n",
              "      <th>WT03</th>\n",
              "      <th>...</th>\n",
              "      <th>WT15</th>\n",
              "      <th>WT16</th>\n",
              "      <th>WT17</th>\n",
              "      <th>WT18</th>\n",
              "      <th>WT19</th>\n",
              "      <th>WT21</th>\n",
              "      <th>WT22</th>\n",
              "      <th>TDIFF</th>\n",
              "      <th>bad_conditions</th>\n",
              "      <th>rating</th>\n",
              "    </tr>\n",
              "  </thead>\n",
              "  <tbody>\n",
              "    <tr>\n",
              "      <th>0</th>\n",
              "      <td>USW00014765</td>\n",
              "      <td>2005-01-01</td>\n",
              "      <td>44.0</td>\n",
              "      <td>35</td>\n",
              "      <td>53</td>\n",
              "      <td>8.95</td>\n",
              "      <td>25.1</td>\n",
              "      <td>1.0</td>\n",
              "      <td>NaN</td>\n",
              "      <td>NaN</td>\n",
              "      <td>...</td>\n",
              "      <td>NaN</td>\n",
              "      <td>NaN</td>\n",
              "      <td>NaN</td>\n",
              "      <td>NaN</td>\n",
              "      <td>NaN</td>\n",
              "      <td>NaN</td>\n",
              "      <td>NaN</td>\n",
              "      <td>18</td>\n",
              "      <td>2</td>\n",
              "      <td>bad</td>\n",
              "    </tr>\n",
              "    <tr>\n",
              "      <th>1</th>\n",
              "      <td>USW00014765</td>\n",
              "      <td>2005-01-02</td>\n",
              "      <td>36.0</td>\n",
              "      <td>28</td>\n",
              "      <td>44</td>\n",
              "      <td>9.40</td>\n",
              "      <td>14.1</td>\n",
              "      <td>NaN</td>\n",
              "      <td>NaN</td>\n",
              "      <td>NaN</td>\n",
              "      <td>...</td>\n",
              "      <td>NaN</td>\n",
              "      <td>1.0</td>\n",
              "      <td>NaN</td>\n",
              "      <td>1.0</td>\n",
              "      <td>NaN</td>\n",
              "      <td>NaN</td>\n",
              "      <td>NaN</td>\n",
              "      <td>16</td>\n",
              "      <td>2</td>\n",
              "      <td>bad</td>\n",
              "    </tr>\n",
              "    <tr>\n",
              "      <th>2</th>\n",
              "      <td>USW00014765</td>\n",
              "      <td>2005-01-03</td>\n",
              "      <td>49.0</td>\n",
              "      <td>44</td>\n",
              "      <td>53</td>\n",
              "      <td>6.93</td>\n",
              "      <td>17.0</td>\n",
              "      <td>1.0</td>\n",
              "      <td>NaN</td>\n",
              "      <td>NaN</td>\n",
              "      <td>...</td>\n",
              "      <td>NaN</td>\n",
              "      <td>1.0</td>\n",
              "      <td>NaN</td>\n",
              "      <td>NaN</td>\n",
              "      <td>NaN</td>\n",
              "      <td>NaN</td>\n",
              "      <td>NaN</td>\n",
              "      <td>9</td>\n",
              "      <td>3</td>\n",
              "      <td>bad</td>\n",
              "    </tr>\n",
              "  </tbody>\n",
              "</table>\n",
              "<p>3 rows × 30 columns</p>\n",
              "</div>\n",
              "      <button class=\"colab-df-convert\" onclick=\"convertToInteractive('df-ab5d9341-28e4-4f61-a1a2-b6f50e22f499')\"\n",
              "              title=\"Convert this dataframe to an interactive table.\"\n",
              "              style=\"display:none;\">\n",
              "        \n",
              "  <svg xmlns=\"http://www.w3.org/2000/svg\" height=\"24px\"viewBox=\"0 0 24 24\"\n",
              "       width=\"24px\">\n",
              "    <path d=\"M0 0h24v24H0V0z\" fill=\"none\"/>\n",
              "    <path d=\"M18.56 5.44l.94 2.06.94-2.06 2.06-.94-2.06-.94-.94-2.06-.94 2.06-2.06.94zm-11 1L8.5 8.5l.94-2.06 2.06-.94-2.06-.94L8.5 2.5l-.94 2.06-2.06.94zm10 10l.94 2.06.94-2.06 2.06-.94-2.06-.94-.94-2.06-.94 2.06-2.06.94z\"/><path d=\"M17.41 7.96l-1.37-1.37c-.4-.4-.92-.59-1.43-.59-.52 0-1.04.2-1.43.59L10.3 9.45l-7.72 7.72c-.78.78-.78 2.05 0 2.83L4 21.41c.39.39.9.59 1.41.59.51 0 1.02-.2 1.41-.59l7.78-7.78 2.81-2.81c.8-.78.8-2.07 0-2.86zM5.41 20L4 18.59l7.72-7.72 1.47 1.35L5.41 20z\"/>\n",
              "  </svg>\n",
              "      </button>\n",
              "      \n",
              "  <style>\n",
              "    .colab-df-container {\n",
              "      display:flex;\n",
              "      flex-wrap:wrap;\n",
              "      gap: 12px;\n",
              "    }\n",
              "\n",
              "    .colab-df-convert {\n",
              "      background-color: #E8F0FE;\n",
              "      border: none;\n",
              "      border-radius: 50%;\n",
              "      cursor: pointer;\n",
              "      display: none;\n",
              "      fill: #1967D2;\n",
              "      height: 32px;\n",
              "      padding: 0 0 0 0;\n",
              "      width: 32px;\n",
              "    }\n",
              "\n",
              "    .colab-df-convert:hover {\n",
              "      background-color: #E2EBFA;\n",
              "      box-shadow: 0px 1px 2px rgba(60, 64, 67, 0.3), 0px 1px 3px 1px rgba(60, 64, 67, 0.15);\n",
              "      fill: #174EA6;\n",
              "    }\n",
              "\n",
              "    [theme=dark] .colab-df-convert {\n",
              "      background-color: #3B4455;\n",
              "      fill: #D2E3FC;\n",
              "    }\n",
              "\n",
              "    [theme=dark] .colab-df-convert:hover {\n",
              "      background-color: #434B5C;\n",
              "      box-shadow: 0px 1px 3px 1px rgba(0, 0, 0, 0.15);\n",
              "      filter: drop-shadow(0px 1px 2px rgba(0, 0, 0, 0.3));\n",
              "      fill: #FFFFFF;\n",
              "    }\n",
              "  </style>\n",
              "\n",
              "      <script>\n",
              "        const buttonEl =\n",
              "          document.querySelector('#df-ab5d9341-28e4-4f61-a1a2-b6f50e22f499 button.colab-df-convert');\n",
              "        buttonEl.style.display =\n",
              "          google.colab.kernel.accessAllowed ? 'block' : 'none';\n",
              "\n",
              "        async function convertToInteractive(key) {\n",
              "          const element = document.querySelector('#df-ab5d9341-28e4-4f61-a1a2-b6f50e22f499');\n",
              "          const dataTable =\n",
              "            await google.colab.kernel.invokeFunction('convertToInteractive',\n",
              "                                                     [key], {});\n",
              "          if (!dataTable) return;\n",
              "\n",
              "          const docLinkHtml = 'Like what you see? Visit the ' +\n",
              "            '<a target=\"_blank\" href=https://colab.research.google.com/notebooks/data_table.ipynb>data table notebook</a>'\n",
              "            + ' to learn more about interactive tables.';\n",
              "          element.innerHTML = '';\n",
              "          dataTable['output_type'] = 'display_data';\n",
              "          await google.colab.output.renderOutput(dataTable, element);\n",
              "          const docLink = document.createElement('div');\n",
              "          docLink.innerHTML = docLinkHtml;\n",
              "          element.appendChild(docLink);\n",
              "        }\n",
              "      </script>\n",
              "    </div>\n",
              "  </div>\n",
              "  "
            ]
          },
          "metadata": {},
          "execution_count": 49
        }
      ]
    },
    {
      "cell_type": "markdown",
      "source": [
        "This historical weather data (2005 - 2015) of Rhode Island was imported from [National Centers for Environmental Information](https://www.ncei.noaa.gov/). Since the traffic stops data does not provide the coordinates of stops, therefore, we will use the weather data of central station in Rhode Island, which is in close approximation to the stop locations data because Rhode Island is the smallest US State. "
      ],
      "metadata": {
        "id": "3fXyEof8z75l"
      },
      "id": "3fXyEof8z75l"
    },
    {
      "cell_type": "markdown",
      "source": [
        "This data will help us analyze the effect of different weather conditions on police behaviour during traffic stops."
      ],
      "metadata": {
        "id": "_uJgdbvV7Sb2"
      },
      "id": "_uJgdbvV7Sb2"
    },
    {
      "cell_type": "markdown",
      "metadata": {
        "id": "20Fmq3yu_e34"
      },
      "source": [
        "First, let's check whether the data is trustworthy. For that we will follow the following steps:\n",
        "- Check summary statistics\n",
        "- Visualize the spread of the variables (wind speed and temperature values) through Boxplots and Histograms"
      ],
      "id": "20Fmq3yu_e34"
    },
    {
      "cell_type": "markdown",
      "metadata": {
        "id": "MxZPRR_UAiLm"
      },
      "source": [
        "### 4.1 Examining the wind speed"
      ],
      "id": "MxZPRR_UAiLm"
    },
    {
      "cell_type": "markdown",
      "source": [
        "AWND: Average wind speed\\\n",
        "WSF2: Fastest wind speed in a day for 2 minutes\n"
      ],
      "metadata": {
        "id": "BUa41Xsi8oL1"
      },
      "id": "BUa41Xsi8oL1"
    },
    {
      "cell_type": "code",
      "execution_count": 50,
      "metadata": {
        "id": "VEvFUSiWAmIK",
        "colab": {
          "base_uri": "https://localhost:8080/",
          "height": 300
        },
        "outputId": "5ad66dec-c77c-47fb-c35e-fa1c9cf2f12b"
      },
      "outputs": [
        {
          "output_type": "execute_result",
          "data": {
            "text/plain": [
              "              AWND         WSF2\n",
              "count  4017.000000  4017.000000\n",
              "mean      8.593707    19.274782\n",
              "std       3.364601     5.623866\n",
              "min       0.220000     4.900000\n",
              "25%       6.260000    15.000000\n",
              "50%       8.050000    17.900000\n",
              "75%      10.290000    21.900000\n",
              "max      26.840000    48.100000"
            ],
            "text/html": [
              "\n",
              "  <div id=\"df-b7ebb768-09a6-49f6-9c03-b8d9a27002f6\">\n",
              "    <div class=\"colab-df-container\">\n",
              "      <div>\n",
              "<style scoped>\n",
              "    .dataframe tbody tr th:only-of-type {\n",
              "        vertical-align: middle;\n",
              "    }\n",
              "\n",
              "    .dataframe tbody tr th {\n",
              "        vertical-align: top;\n",
              "    }\n",
              "\n",
              "    .dataframe thead th {\n",
              "        text-align: right;\n",
              "    }\n",
              "</style>\n",
              "<table border=\"1\" class=\"dataframe\">\n",
              "  <thead>\n",
              "    <tr style=\"text-align: right;\">\n",
              "      <th></th>\n",
              "      <th>AWND</th>\n",
              "      <th>WSF2</th>\n",
              "    </tr>\n",
              "  </thead>\n",
              "  <tbody>\n",
              "    <tr>\n",
              "      <th>count</th>\n",
              "      <td>4017.000000</td>\n",
              "      <td>4017.000000</td>\n",
              "    </tr>\n",
              "    <tr>\n",
              "      <th>mean</th>\n",
              "      <td>8.593707</td>\n",
              "      <td>19.274782</td>\n",
              "    </tr>\n",
              "    <tr>\n",
              "      <th>std</th>\n",
              "      <td>3.364601</td>\n",
              "      <td>5.623866</td>\n",
              "    </tr>\n",
              "    <tr>\n",
              "      <th>min</th>\n",
              "      <td>0.220000</td>\n",
              "      <td>4.900000</td>\n",
              "    </tr>\n",
              "    <tr>\n",
              "      <th>25%</th>\n",
              "      <td>6.260000</td>\n",
              "      <td>15.000000</td>\n",
              "    </tr>\n",
              "    <tr>\n",
              "      <th>50%</th>\n",
              "      <td>8.050000</td>\n",
              "      <td>17.900000</td>\n",
              "    </tr>\n",
              "    <tr>\n",
              "      <th>75%</th>\n",
              "      <td>10.290000</td>\n",
              "      <td>21.900000</td>\n",
              "    </tr>\n",
              "    <tr>\n",
              "      <th>max</th>\n",
              "      <td>26.840000</td>\n",
              "      <td>48.100000</td>\n",
              "    </tr>\n",
              "  </tbody>\n",
              "</table>\n",
              "</div>\n",
              "      <button class=\"colab-df-convert\" onclick=\"convertToInteractive('df-b7ebb768-09a6-49f6-9c03-b8d9a27002f6')\"\n",
              "              title=\"Convert this dataframe to an interactive table.\"\n",
              "              style=\"display:none;\">\n",
              "        \n",
              "  <svg xmlns=\"http://www.w3.org/2000/svg\" height=\"24px\"viewBox=\"0 0 24 24\"\n",
              "       width=\"24px\">\n",
              "    <path d=\"M0 0h24v24H0V0z\" fill=\"none\"/>\n",
              "    <path d=\"M18.56 5.44l.94 2.06.94-2.06 2.06-.94-2.06-.94-.94-2.06-.94 2.06-2.06.94zm-11 1L8.5 8.5l.94-2.06 2.06-.94-2.06-.94L8.5 2.5l-.94 2.06-2.06.94zm10 10l.94 2.06.94-2.06 2.06-.94-2.06-.94-.94-2.06-.94 2.06-2.06.94z\"/><path d=\"M17.41 7.96l-1.37-1.37c-.4-.4-.92-.59-1.43-.59-.52 0-1.04.2-1.43.59L10.3 9.45l-7.72 7.72c-.78.78-.78 2.05 0 2.83L4 21.41c.39.39.9.59 1.41.59.51 0 1.02-.2 1.41-.59l7.78-7.78 2.81-2.81c.8-.78.8-2.07 0-2.86zM5.41 20L4 18.59l7.72-7.72 1.47 1.35L5.41 20z\"/>\n",
              "  </svg>\n",
              "      </button>\n",
              "      \n",
              "  <style>\n",
              "    .colab-df-container {\n",
              "      display:flex;\n",
              "      flex-wrap:wrap;\n",
              "      gap: 12px;\n",
              "    }\n",
              "\n",
              "    .colab-df-convert {\n",
              "      background-color: #E8F0FE;\n",
              "      border: none;\n",
              "      border-radius: 50%;\n",
              "      cursor: pointer;\n",
              "      display: none;\n",
              "      fill: #1967D2;\n",
              "      height: 32px;\n",
              "      padding: 0 0 0 0;\n",
              "      width: 32px;\n",
              "    }\n",
              "\n",
              "    .colab-df-convert:hover {\n",
              "      background-color: #E2EBFA;\n",
              "      box-shadow: 0px 1px 2px rgba(60, 64, 67, 0.3), 0px 1px 3px 1px rgba(60, 64, 67, 0.15);\n",
              "      fill: #174EA6;\n",
              "    }\n",
              "\n",
              "    [theme=dark] .colab-df-convert {\n",
              "      background-color: #3B4455;\n",
              "      fill: #D2E3FC;\n",
              "    }\n",
              "\n",
              "    [theme=dark] .colab-df-convert:hover {\n",
              "      background-color: #434B5C;\n",
              "      box-shadow: 0px 1px 3px 1px rgba(0, 0, 0, 0.15);\n",
              "      filter: drop-shadow(0px 1px 2px rgba(0, 0, 0, 0.3));\n",
              "      fill: #FFFFFF;\n",
              "    }\n",
              "  </style>\n",
              "\n",
              "      <script>\n",
              "        const buttonEl =\n",
              "          document.querySelector('#df-b7ebb768-09a6-49f6-9c03-b8d9a27002f6 button.colab-df-convert');\n",
              "        buttonEl.style.display =\n",
              "          google.colab.kernel.accessAllowed ? 'block' : 'none';\n",
              "\n",
              "        async function convertToInteractive(key) {\n",
              "          const element = document.querySelector('#df-b7ebb768-09a6-49f6-9c03-b8d9a27002f6');\n",
              "          const dataTable =\n",
              "            await google.colab.kernel.invokeFunction('convertToInteractive',\n",
              "                                                     [key], {});\n",
              "          if (!dataTable) return;\n",
              "\n",
              "          const docLinkHtml = 'Like what you see? Visit the ' +\n",
              "            '<a target=\"_blank\" href=https://colab.research.google.com/notebooks/data_table.ipynb>data table notebook</a>'\n",
              "            + ' to learn more about interactive tables.';\n",
              "          element.innerHTML = '';\n",
              "          dataTable['output_type'] = 'display_data';\n",
              "          await google.colab.output.renderOutput(dataTable, element);\n",
              "          const docLink = document.createElement('div');\n",
              "          docLink.innerHTML = docLinkHtml;\n",
              "          element.appendChild(docLink);\n",
              "        }\n",
              "      </script>\n",
              "    </div>\n",
              "  </div>\n",
              "  "
            ]
          },
          "metadata": {},
          "execution_count": 50
        }
      ],
      "source": [
        "weather[['AWND', 'WSF2']].describe()"
      ],
      "id": "VEvFUSiWAmIK"
    },
    {
      "cell_type": "code",
      "execution_count": 51,
      "metadata": {
        "id": "_AMFDUoYBjTW",
        "colab": {
          "base_uri": "https://localhost:8080/",
          "height": 287
        },
        "outputId": "a7311fab-4e06-41d3-b283-0c61e3e0004b"
      },
      "outputs": [
        {
          "output_type": "execute_result",
          "data": {
            "text/plain": [
              "<matplotlib.axes._subplots.AxesSubplot at 0x7fc1d3e6da10>"
            ]
          },
          "metadata": {},
          "execution_count": 51
        },
        {
          "output_type": "display_data",
          "data": {
            "text/plain": [
              "<Figure size 432x288 with 1 Axes>"
            ],
            "image/png": "[encoded data removed]"
          },
          "metadata": {}
        }
      ],
      "source": [
        "# boxplots\n",
        "weather[['AWND', 'WSF2']].plot(kind='box')"
      ],
      "id": "_AMFDUoYBjTW"
    },
    {
      "cell_type": "code",
      "execution_count": 52,
      "metadata": {
        "id": "xtVPCgqpB_SM",
        "colab": {
          "base_uri": "https://localhost:8080/",
          "height": 537
        },
        "outputId": "178a8e7a-8134-41bc-f288-4b2dc3ce8c0c"
      },
      "outputs": [
        {
          "output_type": "execute_result",
          "data": {
            "text/plain": [
              "array([<matplotlib.axes._subplots.AxesSubplot object at 0x7fc1d3de1a50>,\n",
              "       <matplotlib.axes._subplots.AxesSubplot object at 0x7fc1d3d8ee90>],\n",
              "      dtype=object)"
            ]
          },
          "metadata": {},
          "execution_count": 52
        },
        {
          "output_type": "display_data",
          "data": {
            "text/plain": [
              "<Figure size 360x576 with 2 Axes>"
            ],
            "image/png": "[encoded data removed]"
          },
          "metadata": {}
        }
      ],
      "source": [
        "# histograms\n",
        "weather[['AWND', 'WSF2']].plot(kind='hist', subplots=True, figsize=(5,8))"
      ],
      "id": "xtVPCgqpB_SM"
    },
    {
      "cell_type": "markdown",
      "metadata": {
        "id": "SqGL0VJkCuFX"
      },
      "source": [
        "Wind speed data are normally distributed."
      ],
      "id": "SqGL0VJkCuFX"
    },
    {
      "cell_type": "markdown",
      "metadata": {
        "id": "V6c_NhCTAoIk"
      },
      "source": [
        "### 4.2 Examining Temperatures\n",
        "TAVG: Average temperature\\\n",
        "TMIN: Minimum temperature\\\n",
        "TMAX: Maximum temperature"
      ],
      "id": "V6c_NhCTAoIk"
    },
    {
      "cell_type": "code",
      "execution_count": 53,
      "metadata": {
        "id": "l-y8RFDvWUo9",
        "colab": {
          "base_uri": "https://localhost:8080/",
          "height": 300
        },
        "outputId": "56a039f7-b926-4407-f78a-c8d2632cfd4b"
      },
      "outputs": [
        {
          "output_type": "execute_result",
          "data": {
            "text/plain": [
              "              TAVG         TMIN         TMAX\n",
              "count  1217.000000  4017.000000  4017.000000\n",
              "mean     52.493016    43.484441    61.268608\n",
              "std      17.830714    17.020298    18.199517\n",
              "min       6.000000    -5.000000    15.000000\n",
              "25%      39.000000    30.000000    47.000000\n",
              "50%      54.000000    44.000000    62.000000\n",
              "75%      68.000000    58.000000    77.000000\n",
              "max      86.000000    77.000000   102.000000"
            ],
            "text/html": [
              "\n",
              "  <div id=\"df-ab9e54db-ad13-4bfe-9e51-dfd9d6155d89\">\n",
              "    <div class=\"colab-df-container\">\n",
              "      <div>\n",
              "<style scoped>\n",
              "    .dataframe tbody tr th:only-of-type {\n",
              "        vertical-align: middle;\n",
              "    }\n",
              "\n",
              "    .dataframe tbody tr th {\n",
              "        vertical-align: top;\n",
              "    }\n",
              "\n",
              "    .dataframe thead th {\n",
              "        text-align: right;\n",
              "    }\n",
              "</style>\n",
              "<table border=\"1\" class=\"dataframe\">\n",
              "  <thead>\n",
              "    <tr style=\"text-align: right;\">\n",
              "      <th></th>\n",
              "      <th>TAVG</th>\n",
              "      <th>TMIN</th>\n",
              "      <th>TMAX</th>\n",
              "    </tr>\n",
              "  </thead>\n",
              "  <tbody>\n",
              "    <tr>\n",
              "      <th>count</th>\n",
              "      <td>1217.000000</td>\n",
              "      <td>4017.000000</td>\n",
              "      <td>4017.000000</td>\n",
              "    </tr>\n",
              "    <tr>\n",
              "      <th>mean</th>\n",
              "      <td>52.493016</td>\n",
              "      <td>43.484441</td>\n",
              "      <td>61.268608</td>\n",
              "    </tr>\n",
              "    <tr>\n",
              "      <th>std</th>\n",
              "      <td>17.830714</td>\n",
              "      <td>17.020298</td>\n",
              "      <td>18.199517</td>\n",
              "    </tr>\n",
              "    <tr>\n",
              "      <th>min</th>\n",
              "      <td>6.000000</td>\n",
              "      <td>-5.000000</td>\n",
              "      <td>15.000000</td>\n",
              "    </tr>\n",
              "    <tr>\n",
              "      <th>25%</th>\n",
              "      <td>39.000000</td>\n",
              "      <td>30.000000</td>\n",
              "      <td>47.000000</td>\n",
              "    </tr>\n",
              "    <tr>\n",
              "      <th>50%</th>\n",
              "      <td>54.000000</td>\n",
              "      <td>44.000000</td>\n",
              "      <td>62.000000</td>\n",
              "    </tr>\n",
              "    <tr>\n",
              "      <th>75%</th>\n",
              "      <td>68.000000</td>\n",
              "      <td>58.000000</td>\n",
              "      <td>77.000000</td>\n",
              "    </tr>\n",
              "    <tr>\n",
              "      <th>max</th>\n",
              "      <td>86.000000</td>\n",
              "      <td>77.000000</td>\n",
              "      <td>102.000000</td>\n",
              "    </tr>\n",
              "  </tbody>\n",
              "</table>\n",
              "</div>\n",
              "      <button class=\"colab-df-convert\" onclick=\"convertToInteractive('df-ab9e54db-ad13-4bfe-9e51-dfd9d6155d89')\"\n",
              "              title=\"Convert this dataframe to an interactive table.\"\n",
              "              style=\"display:none;\">\n",
              "        \n",
              "  <svg xmlns=\"http://www.w3.org/2000/svg\" height=\"24px\"viewBox=\"0 0 24 24\"\n",
              "       width=\"24px\">\n",
              "    <path d=\"M0 0h24v24H0V0z\" fill=\"none\"/>\n",
              "    <path d=\"M18.56 5.44l.94 2.06.94-2.06 2.06-.94-2.06-.94-.94-2.06-.94 2.06-2.06.94zm-11 1L8.5 8.5l.94-2.06 2.06-.94-2.06-.94L8.5 2.5l-.94 2.06-2.06.94zm10 10l.94 2.06.94-2.06 2.06-.94-2.06-.94-.94-2.06-.94 2.06-2.06.94z\"/><path d=\"M17.41 7.96l-1.37-1.37c-.4-.4-.92-.59-1.43-.59-.52 0-1.04.2-1.43.59L10.3 9.45l-7.72 7.72c-.78.78-.78 2.05 0 2.83L4 21.41c.39.39.9.59 1.41.59.51 0 1.02-.2 1.41-.59l7.78-7.78 2.81-2.81c.8-.78.8-2.07 0-2.86zM5.41 20L4 18.59l7.72-7.72 1.47 1.35L5.41 20z\"/>\n",
              "  </svg>\n",
              "      </button>\n",
              "      \n",
              "  <style>\n",
              "    .colab-df-container {\n",
              "      display:flex;\n",
              "      flex-wrap:wrap;\n",
              "      gap: 12px;\n",
              "    }\n",
              "\n",
              "    .colab-df-convert {\n",
              "      background-color: #E8F0FE;\n",
              "      border: none;\n",
              "      border-radius: 50%;\n",
              "      cursor: pointer;\n",
              "      display: none;\n",
              "      fill: #1967D2;\n",
              "      height: 32px;\n",
              "      padding: 0 0 0 0;\n",
              "      width: 32px;\n",
              "    }\n",
              "\n",
              "    .colab-df-convert:hover {\n",
              "      background-color: #E2EBFA;\n",
              "      box-shadow: 0px 1px 2px rgba(60, 64, 67, 0.3), 0px 1px 3px 1px rgba(60, 64, 67, 0.15);\n",
              "      fill: #174EA6;\n",
              "    }\n",
              "\n",
              "    [theme=dark] .colab-df-convert {\n",
              "      background-color: #3B4455;\n",
              "      fill: #D2E3FC;\n",
              "    }\n",
              "\n",
              "    [theme=dark] .colab-df-convert:hover {\n",
              "      background-color: #434B5C;\n",
              "      box-shadow: 0px 1px 3px 1px rgba(0, 0, 0, 0.15);\n",
              "      filter: drop-shadow(0px 1px 2px rgba(0, 0, 0, 0.3));\n",
              "      fill: #FFFFFF;\n",
              "    }\n",
              "  </style>\n",
              "\n",
              "      <script>\n",
              "        const buttonEl =\n",
              "          document.querySelector('#df-ab9e54db-ad13-4bfe-9e51-dfd9d6155d89 button.colab-df-convert');\n",
              "        buttonEl.style.display =\n",
              "          google.colab.kernel.accessAllowed ? 'block' : 'none';\n",
              "\n",
              "        async function convertToInteractive(key) {\n",
              "          const element = document.querySelector('#df-ab9e54db-ad13-4bfe-9e51-dfd9d6155d89');\n",
              "          const dataTable =\n",
              "            await google.colab.kernel.invokeFunction('convertToInteractive',\n",
              "                                                     [key], {});\n",
              "          if (!dataTable) return;\n",
              "\n",
              "          const docLinkHtml = 'Like what you see? Visit the ' +\n",
              "            '<a target=\"_blank\" href=https://colab.research.google.com/notebooks/data_table.ipynb>data table notebook</a>'\n",
              "            + ' to learn more about interactive tables.';\n",
              "          element.innerHTML = '';\n",
              "          dataTable['output_type'] = 'display_data';\n",
              "          await google.colab.output.renderOutput(dataTable, element);\n",
              "          const docLink = document.createElement('div');\n",
              "          docLink.innerHTML = docLinkHtml;\n",
              "          element.appendChild(docLink);\n",
              "        }\n",
              "      </script>\n",
              "    </div>\n",
              "  </div>\n",
              "  "
            ]
          },
          "metadata": {},
          "execution_count": 53
        }
      ],
      "source": [
        "# Describe the temperature columns\n",
        "weather[['TAVG', 'TMIN', 'TMAX']].describe()"
      ],
      "id": "l-y8RFDvWUo9"
    },
    {
      "cell_type": "code",
      "execution_count": 54,
      "metadata": {
        "id": "fd9R2kUU_Tbh",
        "colab": {
          "base_uri": "https://localhost:8080/",
          "height": 340
        },
        "outputId": "c3ab1179-9c68-461e-a871-381ede40f195"
      },
      "outputs": [
        {
          "output_type": "stream",
          "name": "stderr",
          "text": [
            "/usr/local/lib/python3.7/dist-packages/matplotlib/cbook/__init__.py:1376: VisibleDeprecationWarning: Creating an ndarray from ragged nested sequences (which is a list-or-tuple of lists-or-tuples-or ndarrays with different lengths or shapes) is deprecated. If you meant to do this, you must specify 'dtype=object' when creating the ndarray.\n",
            "  X = np.atleast_1d(X.T if isinstance(X, np.ndarray) else np.asarray(X))\n"
          ]
        },
        {
          "output_type": "execute_result",
          "data": {
            "text/plain": [
              "<matplotlib.axes._subplots.AxesSubplot at 0x7fc1d3cf5690>"
            ]
          },
          "metadata": {},
          "execution_count": 54
        },
        {
          "output_type": "display_data",
          "data": {
            "text/plain": [
              "<Figure size 432x288 with 1 Axes>"
            ],
            "image/png": "[encoded data removed]"
          },
          "metadata": {}
        }
      ],
      "source": [
        "# Create a box plot of the temperature columns\n",
        "weather[['TAVG', 'TMIN', 'TMAX']].plot(kind='box')"
      ],
      "id": "fd9R2kUU_Tbh"
    },
    {
      "cell_type": "code",
      "execution_count": 55,
      "metadata": {
        "id": "Wbe13LMyC_Bs",
        "colab": {
          "base_uri": "https://localhost:8080/"
        },
        "outputId": "57278c01-c199-42c0-dfd9-794cea78f8aa"
      },
      "outputs": [
        {
          "output_type": "execute_result",
          "data": {
            "text/plain": [
              "count    4017.000000\n",
              "mean       17.784167\n",
              "std         6.350720\n",
              "min         2.000000\n",
              "25%        14.000000\n",
              "50%        18.000000\n",
              "75%        22.000000\n",
              "max        43.000000\n",
              "Name: TDIFF, dtype: float64"
            ]
          },
          "metadata": {},
          "execution_count": 55
        }
      ],
      "source": [
        "# histogram of temperature difference column\n",
        "# first create TDIFF column (temperature difference between max. temperature and min. temperature)\n",
        "weather['TDIFF'] = weather['TMAX'] - weather['TMIN']\n",
        "\n",
        "weather['TDIFF'].describe()"
      ],
      "id": "Wbe13LMyC_Bs"
    },
    {
      "cell_type": "markdown",
      "metadata": {
        "id": "1wROoxH9bOUC"
      },
      "source": [
        "To visualize the summary statistics, let's build a boxplot."
      ],
      "id": "1wROoxH9bOUC"
    },
    {
      "cell_type": "code",
      "execution_count": 56,
      "metadata": {
        "id": "8jVO2Km_bXjO",
        "colab": {
          "base_uri": "https://localhost:8080/",
          "height": 285
        },
        "outputId": "785b53e6-9812-4bde-8087-9e6b0f24ede9"
      },
      "outputs": [
        {
          "output_type": "execute_result",
          "data": {
            "text/plain": [
              "<matplotlib.axes._subplots.AxesSubplot at 0x7fc1d3bca750>"
            ]
          },
          "metadata": {},
          "execution_count": 56
        },
        {
          "output_type": "display_data",
          "data": {
            "text/plain": [
              "<Figure size 432x288 with 1 Axes>"
            ],
            "image/png": "[encoded data removed]"
          },
          "metadata": {}
        }
      ],
      "source": [
        "weather['TDIFF'].plot(kind='box')"
      ],
      "id": "8jVO2Km_bXjO"
    },
    {
      "cell_type": "code",
      "execution_count": 57,
      "metadata": {
        "id": "G91yCqBYakf0",
        "colab": {
          "base_uri": "https://localhost:8080/",
          "height": 285
        },
        "outputId": "9a14b36c-cc65-4a57-853c-80da9a640752"
      },
      "outputs": [
        {
          "output_type": "execute_result",
          "data": {
            "text/plain": [
              "<matplotlib.axes._subplots.AxesSubplot at 0x7fc1d3bac8d0>"
            ]
          },
          "metadata": {},
          "execution_count": 57
        },
        {
          "output_type": "display_data",
          "data": {
            "text/plain": [
              "<Figure size 432x288 with 1 Axes>"
            ],
            "image/png": "[encoded data removed]"
          },
          "metadata": {}
        }
      ],
      "source": [
        "weather['TDIFF'].plot(kind='hist', bins=20)"
      ],
      "id": "G91yCqBYakf0"
    },
    {
      "cell_type": "markdown",
      "metadata": {
        "id": "kHoPJZ2hagda"
      },
      "source": [
        "The TDIFF column has no negative values and its distribution is approximately normal, both of which are signs that the data is trustworthy."
      ],
      "id": "kHoPJZ2hagda"
    },
    {
      "cell_type": "markdown",
      "metadata": {
        "id": "V_ccKdx9cMGc"
      },
      "source": [
        "### 4.3 Categorizing the weather"
      ],
      "id": "V_ccKdx9cMGc"
    },
    {
      "cell_type": "code",
      "execution_count": 58,
      "metadata": {
        "id": "C40BzSEMZtog",
        "colab": {
          "base_uri": "https://localhost:8080/",
          "height": 143
        },
        "outputId": "28a86836-403d-4b25-bfcb-9f2265c909f1"
      },
      "outputs": [
        {
          "output_type": "execute_result",
          "data": {
            "text/plain": [
              "   TAVG  TMIN  TMAX\n",
              "0  44.0    35    53\n",
              "1  36.0    28    44\n",
              "2  49.0    44    53"
            ],
            "text/html": [
              "\n",
              "  <div id=\"df-3ba02bff-93b3-4f59-ac38-c89513d42998\">\n",
              "    <div class=\"colab-df-container\">\n",
              "      <div>\n",
              "<style scoped>\n",
              "    .dataframe tbody tr th:only-of-type {\n",
              "        vertical-align: middle;\n",
              "    }\n",
              "\n",
              "    .dataframe tbody tr th {\n",
              "        vertical-align: top;\n",
              "    }\n",
              "\n",
              "    .dataframe thead th {\n",
              "        text-align: right;\n",
              "    }\n",
              "</style>\n",
              "<table border=\"1\" class=\"dataframe\">\n",
              "  <thead>\n",
              "    <tr style=\"text-align: right;\">\n",
              "      <th></th>\n",
              "      <th>TAVG</th>\n",
              "      <th>TMIN</th>\n",
              "      <th>TMAX</th>\n",
              "    </tr>\n",
              "  </thead>\n",
              "  <tbody>\n",
              "    <tr>\n",
              "      <th>0</th>\n",
              "      <td>44.0</td>\n",
              "      <td>35</td>\n",
              "      <td>53</td>\n",
              "    </tr>\n",
              "    <tr>\n",
              "      <th>1</th>\n",
              "      <td>36.0</td>\n",
              "      <td>28</td>\n",
              "      <td>44</td>\n",
              "    </tr>\n",
              "    <tr>\n",
              "      <th>2</th>\n",
              "      <td>49.0</td>\n",
              "      <td>44</td>\n",
              "      <td>53</td>\n",
              "    </tr>\n",
              "  </tbody>\n",
              "</table>\n",
              "</div>\n",
              "      <button class=\"colab-df-convert\" onclick=\"convertToInteractive('df-3ba02bff-93b3-4f59-ac38-c89513d42998')\"\n",
              "              title=\"Convert this dataframe to an interactive table.\"\n",
              "              style=\"display:none;\">\n",
              "        \n",
              "  <svg xmlns=\"http://www.w3.org/2000/svg\" height=\"24px\"viewBox=\"0 0 24 24\"\n",
              "       width=\"24px\">\n",
              "    <path d=\"M0 0h24v24H0V0z\" fill=\"none\"/>\n",
              "    <path d=\"M18.56 5.44l.94 2.06.94-2.06 2.06-.94-2.06-.94-.94-2.06-.94 2.06-2.06.94zm-11 1L8.5 8.5l.94-2.06 2.06-.94-2.06-.94L8.5 2.5l-.94 2.06-2.06.94zm10 10l.94 2.06.94-2.06 2.06-.94-2.06-.94-.94-2.06-.94 2.06-2.06.94z\"/><path d=\"M17.41 7.96l-1.37-1.37c-.4-.4-.92-.59-1.43-.59-.52 0-1.04.2-1.43.59L10.3 9.45l-7.72 7.72c-.78.78-.78 2.05 0 2.83L4 21.41c.39.39.9.59 1.41.59.51 0 1.02-.2 1.41-.59l7.78-7.78 2.81-2.81c.8-.78.8-2.07 0-2.86zM5.41 20L4 18.59l7.72-7.72 1.47 1.35L5.41 20z\"/>\n",
              "  </svg>\n",
              "      </button>\n",
              "      \n",
              "  <style>\n",
              "    .colab-df-container {\n",
              "      display:flex;\n",
              "      flex-wrap:wrap;\n",
              "      gap: 12px;\n",
              "    }\n",
              "\n",
              "    .colab-df-convert {\n",
              "      background-color: #E8F0FE;\n",
              "      border: none;\n",
              "      border-radius: 50%;\n",
              "      cursor: pointer;\n",
              "      display: none;\n",
              "      fill: #1967D2;\n",
              "      height: 32px;\n",
              "      padding: 0 0 0 0;\n",
              "      width: 32px;\n",
              "    }\n",
              "\n",
              "    .colab-df-convert:hover {\n",
              "      background-color: #E2EBFA;\n",
              "      box-shadow: 0px 1px 2px rgba(60, 64, 67, 0.3), 0px 1px 3px 1px rgba(60, 64, 67, 0.15);\n",
              "      fill: #174EA6;\n",
              "    }\n",
              "\n",
              "    [theme=dark] .colab-df-convert {\n",
              "      background-color: #3B4455;\n",
              "      fill: #D2E3FC;\n",
              "    }\n",
              "\n",
              "    [theme=dark] .colab-df-convert:hover {\n",
              "      background-color: #434B5C;\n",
              "      box-shadow: 0px 1px 3px 1px rgba(0, 0, 0, 0.15);\n",
              "      filter: drop-shadow(0px 1px 2px rgba(0, 0, 0, 0.3));\n",
              "      fill: #FFFFFF;\n",
              "    }\n",
              "  </style>\n",
              "\n",
              "      <script>\n",
              "        const buttonEl =\n",
              "          document.querySelector('#df-3ba02bff-93b3-4f59-ac38-c89513d42998 button.colab-df-convert');\n",
              "        buttonEl.style.display =\n",
              "          google.colab.kernel.accessAllowed ? 'block' : 'none';\n",
              "\n",
              "        async function convertToInteractive(key) {\n",
              "          const element = document.querySelector('#df-3ba02bff-93b3-4f59-ac38-c89513d42998');\n",
              "          const dataTable =\n",
              "            await google.colab.kernel.invokeFunction('convertToInteractive',\n",
              "                                                     [key], {});\n",
              "          if (!dataTable) return;\n",
              "\n",
              "          const docLinkHtml = 'Like what you see? Visit the ' +\n",
              "            '<a target=\"_blank\" href=https://colab.research.google.com/notebooks/data_table.ipynb>data table notebook</a>'\n",
              "            + ' to learn more about interactive tables.';\n",
              "          element.innerHTML = '';\n",
              "          dataTable['output_type'] = 'display_data';\n",
              "          await google.colab.output.renderOutput(dataTable, element);\n",
              "          const docLink = document.createElement('div');\n",
              "          docLink.innerHTML = docLinkHtml;\n",
              "          element.appendChild(docLink);\n",
              "        }\n",
              "      </script>\n",
              "    </div>\n",
              "  </div>\n",
              "  "
            ]
          },
          "metadata": {},
          "execution_count": 58
        }
      ],
      "source": [
        "# selecting a dataframe slice\n",
        "temp = weather.loc[:, 'TAVG':'TMAX']\n",
        "temp.head(3)"
      ],
      "id": "C40BzSEMZtog"
    },
    {
      "cell_type": "markdown",
      "metadata": {
        "id": "yK5s_8ESfenE"
      },
      "source": [
        "First we map the stop_duration values in categrical order, so the logical operations can be applied for comparison"
      ],
      "id": "yK5s_8ESfenE"
    },
    {
      "cell_type": "code",
      "execution_count": 59,
      "metadata": {
        "id": "LcMc9rrOfBfQ",
        "colab": {
          "base_uri": "https://localhost:8080/"
        },
        "outputId": "b8e8b2bb-ad1f-416f-8822-62c5a8e51078"
      },
      "outputs": [
        {
          "output_type": "execute_result",
          "data": {
            "text/plain": [
              "array(['0-15 Min', '16-30 Min', '30+ Min'], dtype=object)"
            ]
          },
          "metadata": {},
          "execution_count": 59
        }
      ],
      "source": [
        "ri['stop_duration'].unique()"
      ],
      "id": "LcMc9rrOfBfQ"
    },
    {
      "cell_type": "code",
      "execution_count": 60,
      "metadata": {
        "id": "7eosg-cBfyus",
        "colab": {
          "base_uri": "https://localhost:8080/"
        },
        "outputId": "9fb9071a-d2c7-4222-9131-37bbf488b2c8"
      },
      "outputs": [
        {
          "output_type": "execute_result",
          "data": {
            "text/plain": [
              "array(['short', 'medium', 'long'], dtype=object)"
            ]
          },
          "metadata": {},
          "execution_count": 60
        }
      ],
      "source": [
        "# mapping\n",
        "mapping = {'0-15 Min':'short', '16-30 Min': 'medium', '30+ Min': 'long'}\n",
        "\n",
        "ri['stop_length'] = ri.stop_duration.map(mapping)\n",
        "\n",
        "ri['stop_length'].unique()"
      ],
      "id": "7eosg-cBfyus"
    },
    {
      "cell_type": "markdown",
      "metadata": {
        "id": "jbJMTjLEgZ2a"
      },
      "source": [
        "Now lets convert this object data type into **ordered categories**. There are two benefits for this:\n",
        "1. Category type stores the data more efficiently\n",
        "2. Allows to apply logical operations on ordered categories"
      ],
      "id": "jbJMTjLEgZ2a"
    },
    {
      "cell_type": "code",
      "execution_count": 61,
      "metadata": {
        "id": "69U5uL9Zg4lP",
        "colab": {
          "base_uri": "https://localhost:8080/"
        },
        "outputId": "99141964-96a1-482e-a3a5-c18d561f7063"
      },
      "outputs": [
        {
          "output_type": "execute_result",
          "data": {
            "text/plain": [
              "6068041"
            ]
          },
          "metadata": {},
          "execution_count": 61
        }
      ],
      "source": [
        "# check memory usage of object dtype \n",
        "ri.stop_length.memory_usage(deep=True)"
      ],
      "id": "69U5uL9Zg4lP"
    },
    {
      "cell_type": "markdown",
      "metadata": {
        "id": "jcpjPp1ThcQ8"
      },
      "source": [
        "The stop_length column data occupies **6 MB space** as shown above"
      ],
      "id": "jcpjPp1ThcQ8"
    },
    {
      "cell_type": "code",
      "execution_count": 62,
      "metadata": {
        "id": "Gqk0XI1DhhBq",
        "colab": {
          "base_uri": "https://localhost:8080/"
        },
        "outputId": "80bc2332-5b0a-4239-f0c1-baa387dfb433"
      },
      "outputs": [
        {
          "output_type": "execute_result",
          "data": {
            "text/plain": [
              "779118"
            ]
          },
          "metadata": {},
          "execution_count": 62
        }
      ],
      "source": [
        "# convert to category dtype\n",
        "cats = pd.CategoricalDtype(['short', 'medium', 'long'], ordered=True)\n",
        "\n",
        "ri['stop_length'] = ri['stop_length'].astype(cats)\n",
        "\n",
        "# now check the memory usage of categorical dtype \n",
        "ri.stop_length.memory_usage(deep=True)"
      ],
      "id": "Gqk0XI1DhhBq"
    },
    {
      "cell_type": "markdown",
      "metadata": {
        "id": "fEohm56zjicF"
      },
      "source": [
        "The memory space reduced to less than **1 MB** (0.78 MB) for the **stope_length** column data."
      ],
      "id": "fEohm56zjicF"
    },
    {
      "cell_type": "code",
      "execution_count": 63,
      "metadata": {
        "id": "FkSKwjwOxLMf",
        "colab": {
          "base_uri": "https://localhost:8080/"
        },
        "outputId": "e252532c-d6b1-470c-bc51-0389e421c7a7"
      },
      "outputs": [
        {
          "output_type": "execute_result",
          "data": {
            "text/plain": [
              "date_and_time\n",
              "2005-01-04 12:55:00     short\n",
              "2005-01-23 23:15:00     short\n",
              "2005-02-17 04:15:00     short\n",
              "2005-02-20 17:15:00    medium\n",
              "2005-02-24 01:20:00     short\n",
              "Name: stop_length, dtype: category\n",
              "Categories (3, object): ['short' < 'medium' < 'long']"
            ]
          },
          "metadata": {},
          "execution_count": 63
        }
      ],
      "source": [
        "# using ordered categories\n",
        "ri.stop_length.head(5)"
      ],
      "id": "FkSKwjwOxLMf"
    },
    {
      "cell_type": "code",
      "execution_count": 64,
      "metadata": {
        "id": "ZQg2hUVMxzBG",
        "colab": {
          "base_uri": "https://localhost:8080/"
        },
        "outputId": "125824b1-c568-4eac-8cce-9ce4a73c86eb"
      },
      "outputs": [
        {
          "output_type": "execute_result",
          "data": {
            "text/plain": [
              "date_and_time\n",
              "2005-02-20 17:15:00    medium\n",
              "2005-09-11 00:10:00      long\n",
              "2005-10-01 22:00:00      long\n",
              "2005-10-01 22:40:00    medium\n",
              "2005-10-01 22:40:00    medium\n",
              "Name: stop_length, dtype: category\n",
              "Categories (3, object): ['short' < 'medium' < 'long']"
            ]
          },
          "metadata": {},
          "execution_count": 64
        }
      ],
      "source": [
        "# apply logical operation\n",
        "ri[ri.stop_length > 'short']['stop_length'].head(5) # only contains medium and long stop lengths"
      ],
      "id": "ZQg2hUVMxzBG"
    },
    {
      "cell_type": "markdown",
      "source": [
        "### 4.4 Which stop duration corresponds to higher arrest rate? "
      ],
      "metadata": {
        "id": "fj0caVy8asJl"
      },
      "id": "fj0caVy8asJl"
    },
    {
      "cell_type": "code",
      "execution_count": 65,
      "metadata": {
        "id": "YwPPEIoIygw6",
        "colab": {
          "base_uri": "https://localhost:8080/",
          "height": 372
        },
        "outputId": "b339c75b-fad5-4d45-b549-907da5143cd1"
      },
      "outputs": [
        {
          "output_type": "execute_result",
          "data": {
            "text/plain": [
              "Text(0.5, 1.0, 'Arrest Rate By Stop Duration')"
            ]
          },
          "metadata": {},
          "execution_count": 65
        },
        {
          "output_type": "display_data",
          "data": {
            "text/plain": [
              "<Figure size 360x360 with 1 Axes>"
            ],
            "image/png": "[encoded data removed]"
          },
          "metadata": {}
        }
      ],
      "source": [
        "# set seaborn style\n",
        "sns.set_style('darkgrid')\n",
        "\n",
        "# plot\n",
        "ri.groupby('stop_length').is_arrested.mean().plot(kind='barh', figsize=(5,5))\n",
        "\n",
        "# labeling the axis\n",
        "plt.xlabel('Arrest Rate')\n",
        "plt.ylabel(None)\n",
        "plt.title('Arrest Rate By Stop Duration')"
      ],
      "id": "YwPPEIoIygw6"
    },
    {
      "cell_type": "markdown",
      "metadata": {
        "id": "_bDGv5Wu6kCk"
      },
      "source": [
        "Chances that driver will be arrested are higher in the longest stop duration."
      ],
      "id": "_bDGv5Wu6kCk"
    },
    {
      "cell_type": "markdown",
      "source": [
        "### 4.5 Counting bad weather conditions"
      ],
      "metadata": {
        "id": "t9WK7OhpeNwZ"
      },
      "id": "t9WK7OhpeNwZ"
    },
    {
      "cell_type": "markdown",
      "metadata": {
        "id": "DTHmUwUF47tH"
      },
      "source": [
        "The weather DataFrame contains 20 columns that start with 'WT', each of which represents a bad weather condition. For example:\n",
        "\n",
        "- WT05 indicates \"Hail\"\n",
        "- WT11 indicates \"High or damaging winds\"\n",
        "- WT17 indicates \"Freezing rain\"\n",
        "\n",
        "For every row in the dataset, each WT column contains either a 1 (meaning the condition was present that day) or NaN (meaning the condition was not present).\n",
        "\n",
        "We can add a new column, **bad_conditions**, that sums up all the bad weather conditions through that day. Basically, summing up all the bad weather values (i.e. 1) in each row. "
      ],
      "id": "DTHmUwUF47tH"
    },
    {
      "cell_type": "code",
      "execution_count": 66,
      "metadata": {
        "id": "Y1afIBdv0jta",
        "colab": {
          "base_uri": "https://localhost:8080/",
          "height": 394
        },
        "outputId": "c3552191-8679-4f83-ed3a-2dcec836d1f9"
      },
      "outputs": [
        {
          "output_type": "display_data",
          "data": {
            "text/plain": [
              "<Figure size 576x432 with 1 Axes>"
            ],
            "image/png": "[encoded data removed]"
          },
          "metadata": {}
        }
      ],
      "source": [
        "# Copy 'WT01' through 'WT22' from weather to from a new DataFrame \"WT\"\n",
        "WT = weather.loc[:, 'WT01':'WT22']\n",
        "\n",
        "# Replace NaN values in WT dataframe with '0'\n",
        "WT = WT.fillna(0).astype('int')\n",
        "\n",
        "# Calculate the sum of each row in 'WT'\n",
        "weather['bad_conditions'] = WT.sum(axis='columns')\n",
        "\n",
        "# Create a count plot to count the number of 'bad_conditions'\n",
        "weather['bad_conditions'].value_counts().plot(kind='bar', rot=0, figsize=(8,6))\n",
        "\n",
        "# set the labels\n",
        "plt.xlabel('No. of Bad Weathers in a Day')\n",
        "plt.ylabel('Frequency')\n",
        "\n",
        "# Display the plot\n",
        "plt.show()"
      ],
      "id": "Y1afIBdv0jta"
    },
    {
      "cell_type": "markdown",
      "source": [
        "0 means no bad weather, and it counts for 1750 no. of days from 2005 to 2015."
      ],
      "metadata": {
        "id": "KfoKYM2hiAzd"
      },
      "id": "KfoKYM2hiAzd"
    },
    {
      "cell_type": "markdown",
      "source": [
        "### 4.6 Rating the weather conditions"
      ],
      "metadata": {
        "id": "1vO-oldWkCxM"
      },
      "id": "1vO-oldWkCxM"
    },
    {
      "cell_type": "markdown",
      "metadata": {
        "id": "nSumLRzw6KoG"
      },
      "source": [
        "Above, we counted the number of bad weather conditions each day. Now lets use the counts to create a rating system for the weather.\n",
        "\n",
        "The counts range from 0 to 9, and should be converted to ratings as follows:\n",
        "\n",
        "- 0 to 'good'\n",
        "- 1 through 4 to 'bad'\n",
        "- 5 through 9 to 'worse'"
      ],
      "id": "nSumLRzw6KoG"
    },
    {
      "cell_type": "code",
      "execution_count": 67,
      "metadata": {
        "id": "6aD7cXkjs3GO",
        "colab": {
          "base_uri": "https://localhost:8080/"
        },
        "outputId": "f99478da-4b32-4bb1-8ab5-f4634747eef4"
      },
      "outputs": [
        {
          "output_type": "execute_result",
          "data": {
            "text/plain": [
              "0    1749\n",
              "1     613\n",
              "2     367\n",
              "3     380\n",
              "4     476\n",
              "5     282\n",
              "6     101\n",
              "7      41\n",
              "8       4\n",
              "9       4\n",
              "Name: bad_conditions, dtype: int64"
            ]
          },
          "metadata": {},
          "execution_count": 67
        }
      ],
      "source": [
        "# Count the unique values in 'bad_conditions' column and sort by index\n",
        "weather.bad_conditions.value_counts().sort_index()"
      ],
      "id": "6aD7cXkjs3GO"
    },
    {
      "cell_type": "code",
      "execution_count": 68,
      "metadata": {
        "id": "bZGZCISf0kAZ",
        "colab": {
          "base_uri": "https://localhost:8080/"
        },
        "outputId": "98f1bd25-35fd-4e40-d46b-5e32eb36ec54"
      },
      "outputs": [
        {
          "output_type": "stream",
          "name": "stdout",
          "text": [
            "bad      1836\n",
            "good     1749\n",
            "worse     432\n",
            "Name: rating, dtype: int64\n"
          ]
        }
      ],
      "source": [
        "# Create a dictionary that maps integers to strings\n",
        "mapping = {0: 'good', 1:'bad', 2:'bad', 3:'bad', 4:'bad', 5:'worse', 6:'worse', 7:'worse', 8:'worse', 9: 'worse'}\n",
        "\n",
        "# Convert the 'bad_conditions' integers to strings using the 'mapping'\n",
        "weather['rating'] = weather.bad_conditions.map(mapping)\n",
        "\n",
        "# Count the unique values in 'rating'\n",
        "print(weather['rating'].value_counts())"
      ],
      "id": "bZGZCISf0kAZ"
    },
    {
      "cell_type": "code",
      "execution_count": 69,
      "metadata": {
        "id": "PFTroUUfwl5E",
        "colab": {
          "base_uri": "https://localhost:8080/"
        },
        "outputId": "b7030dcd-133b-4e5d-f509-ab79636512ef"
      },
      "outputs": [
        {
          "output_type": "execute_result",
          "data": {
            "text/plain": [
              "dtype('O')"
            ]
          },
          "metadata": {},
          "execution_count": 69
        }
      ],
      "source": [
        "# check the data type\n",
        "weather['rating'].dtype"
      ],
      "id": "PFTroUUfwl5E"
    },
    {
      "cell_type": "markdown",
      "metadata": {
        "id": "hWSixbVP-Rg6"
      },
      "source": [
        "Since the rating column only has a few possible values, we will change its data type to category in order to store the data more efficiently. Then we'll also specify a logical order for the categories."
      ],
      "id": "hWSixbVP-Rg6"
    },
    {
      "cell_type": "code",
      "execution_count": 70,
      "metadata": {
        "id": "poct-Cuq-IXj",
        "colab": {
          "base_uri": "https://localhost:8080/"
        },
        "outputId": "baf131dc-4ae0-4305-e633-ec61ed334284"
      },
      "outputs": [
        {
          "output_type": "stream",
          "name": "stdout",
          "text": [
            "0    bad\n",
            "1    bad\n",
            "2    bad\n",
            "3    bad\n",
            "4    bad\n",
            "Name: rating, dtype: category\n",
            "Categories (3, object): ['good' < 'bad' < 'worse']\n"
          ]
        }
      ],
      "source": [
        "# Specify the logical order of the weather ratings\n",
        "cats = pd.CategoricalDtype(['good', 'bad', 'worse'], ordered=True)\n",
        "\n",
        "# Change the data type of 'rating' to category\n",
        "weather['rating'] = weather.rating.astype(cats)\n",
        "\n",
        "# Examine the head of 'rating'\n",
        "print(weather['rating'].head())"
      ],
      "id": "poct-Cuq-IXj"
    },
    {
      "cell_type": "markdown",
      "metadata": {
        "id": "D_sUu5tWM2et"
      },
      "source": [
        "Since the two dataframes **(ri and weather)** are ready, lets join them to analyze the effect of weather condition on police behaviour during traffic stops. We will check to see how is the arrest rate affected during different weather conditions."
      ],
      "id": "D_sUu5tWM2et"
    },
    {
      "cell_type": "code",
      "source": [
        "# first reset the index of ri dataframe as column\n",
        "ri.reset_index(inplace=True)"
      ],
      "metadata": {
        "id": "dLGBP1T1QBGY"
      },
      "id": "dLGBP1T1QBGY",
      "execution_count": 71,
      "outputs": []
    },
    {
      "cell_type": "code",
      "source": [
        "# Create a DataFrame from the 'DATE' and 'rating' columns of weather\n",
        "weather_rating = weather[['DATE', 'rating']]\n",
        "\n",
        "# Examine the head of 'weather_rating'\n",
        "print(weather_rating.head())"
      ],
      "metadata": {
        "id": "99iSzVafQUx7",
        "colab": {
          "base_uri": "https://localhost:8080/"
        },
        "outputId": "cac44687-85bc-48d9-d221-b3b2556c452c"
      },
      "id": "99iSzVafQUx7",
      "execution_count": 72,
      "outputs": [
        {
          "output_type": "stream",
          "name": "stdout",
          "text": [
            "         DATE rating\n",
            "0  2005-01-01    bad\n",
            "1  2005-01-02    bad\n",
            "2  2005-01-03    bad\n",
            "3  2005-01-04    bad\n",
            "4  2005-01-05    bad\n"
          ]
        }
      ]
    },
    {
      "cell_type": "markdown",
      "source": [
        "Merge \"weather_rating\" with the \"ri\" on stop_date and DATE columns"
      ],
      "metadata": {
        "id": "J_Mpl6CGQvSp"
      },
      "id": "J_Mpl6CGQvSp"
    },
    {
      "cell_type": "code",
      "source": [
        "ri_weather = pd.merge(left=ri, right=weather_rating, left_on='stop_date', right_on='DATE', how='left')\n",
        "ri_weather.head(3)"
      ],
      "metadata": {
        "id": "XG9KCdjJQtL4",
        "colab": {
          "base_uri": "https://localhost:8080/",
          "height": 289
        },
        "outputId": "49d6ccec-df7a-421d-da8a-7c04e31d68e3"
      },
      "id": "XG9KCdjJQtL4",
      "execution_count": 73,
      "outputs": [
        {
          "output_type": "execute_result",
          "data": {
            "text/plain": [
              "        date_and_time state   stop_date stop_time driver_gender driver_race  \\\n",
              "0 2005-01-04 12:55:00    RI  2005-01-04     12:55             M       White   \n",
              "1 2005-01-23 23:15:00    RI  2005-01-23     23:15             M       White   \n",
              "2 2005-02-17 04:15:00    RI  2005-02-17     04:15             M       White   \n",
              "\n",
              "                    violation_raw  violation  search_conducted search_type  \\\n",
              "0  Equipment/Inspection Violation  Equipment             False         NaN   \n",
              "1                        Speeding   Speeding             False         NaN   \n",
              "2                        Speeding   Speeding             False         NaN   \n",
              "\n",
              "   ... is_arrested stop_duration drugs_related_stop  district inventory  \\\n",
              "0  ...       False      0-15 Min              False   Zone X4     False   \n",
              "1  ...       False      0-15 Min              False   Zone K3     False   \n",
              "2  ...       False      0-15 Min              False   Zone X4     False   \n",
              "\n",
              "   frisk  stop_mins  stop_length        DATE rating  \n",
              "0  False          8        short  2005-01-04    bad  \n",
              "1  False          8        short  2005-01-23  worse  \n",
              "2  False          8        short  2005-02-17   good  \n",
              "\n",
              "[3 rows x 21 columns]"
            ],
            "text/html": [
              "\n",
              "  <div id=\"df-3e7f0cd2-b401-4877-b5e6-d04543f66a3b\">\n",
              "    <div class=\"colab-df-container\">\n",
              "      <div>\n",
              "<style scoped>\n",
              "    .dataframe tbody tr th:only-of-type {\n",
              "        vertical-align: middle;\n",
              "    }\n",
              "\n",
              "    .dataframe tbody tr th {\n",
              "        vertical-align: top;\n",
              "    }\n",
              "\n",
              "    .dataframe thead th {\n",
              "        text-align: right;\n",
              "    }\n",
              "</style>\n",
              "<table border=\"1\" class=\"dataframe\">\n",
              "  <thead>\n",
              "    <tr style=\"text-align: right;\">\n",
              "      <th></th>\n",
              "      <th>date_and_time</th>\n",
              "      <th>state</th>\n",
              "      <th>stop_date</th>\n",
              "      <th>stop_time</th>\n",
              "      <th>driver_gender</th>\n",
              "      <th>driver_race</th>\n",
              "      <th>violation_raw</th>\n",
              "      <th>violation</th>\n",
              "      <th>search_conducted</th>\n",
              "      <th>search_type</th>\n",
              "      <th>...</th>\n",
              "      <th>is_arrested</th>\n",
              "      <th>stop_duration</th>\n",
              "      <th>drugs_related_stop</th>\n",
              "      <th>district</th>\n",
              "      <th>inventory</th>\n",
              "      <th>frisk</th>\n",
              "      <th>stop_mins</th>\n",
              "      <th>stop_length</th>\n",
              "      <th>DATE</th>\n",
              "      <th>rating</th>\n",
              "    </tr>\n",
              "  </thead>\n",
              "  <tbody>\n",
              "    <tr>\n",
              "      <th>0</th>\n",
              "      <td>2005-01-04 12:55:00</td>\n",
              "      <td>RI</td>\n",
              "      <td>2005-01-04</td>\n",
              "      <td>12:55</td>\n",
              "      <td>M</td>\n",
              "      <td>White</td>\n",
              "      <td>Equipment/Inspection Violation</td>\n",
              "      <td>Equipment</td>\n",
              "      <td>False</td>\n",
              "      <td>NaN</td>\n",
              "      <td>...</td>\n",
              "      <td>False</td>\n",
              "      <td>0-15 Min</td>\n",
              "      <td>False</td>\n",
              "      <td>Zone X4</td>\n",
              "      <td>False</td>\n",
              "      <td>False</td>\n",
              "      <td>8</td>\n",
              "      <td>short</td>\n",
              "      <td>2005-01-04</td>\n",
              "      <td>bad</td>\n",
              "    </tr>\n",
              "    <tr>\n",
              "      <th>1</th>\n",
              "      <td>2005-01-23 23:15:00</td>\n",
              "      <td>RI</td>\n",
              "      <td>2005-01-23</td>\n",
              "      <td>23:15</td>\n",
              "      <td>M</td>\n",
              "      <td>White</td>\n",
              "      <td>Speeding</td>\n",
              "      <td>Speeding</td>\n",
              "      <td>False</td>\n",
              "      <td>NaN</td>\n",
              "      <td>...</td>\n",
              "      <td>False</td>\n",
              "      <td>0-15 Min</td>\n",
              "      <td>False</td>\n",
              "      <td>Zone K3</td>\n",
              "      <td>False</td>\n",
              "      <td>False</td>\n",
              "      <td>8</td>\n",
              "      <td>short</td>\n",
              "      <td>2005-01-23</td>\n",
              "      <td>worse</td>\n",
              "    </tr>\n",
              "    <tr>\n",
              "      <th>2</th>\n",
              "      <td>2005-02-17 04:15:00</td>\n",
              "      <td>RI</td>\n",
              "      <td>2005-02-17</td>\n",
              "      <td>04:15</td>\n",
              "      <td>M</td>\n",
              "      <td>White</td>\n",
              "      <td>Speeding</td>\n",
              "      <td>Speeding</td>\n",
              "      <td>False</td>\n",
              "      <td>NaN</td>\n",
              "      <td>...</td>\n",
              "      <td>False</td>\n",
              "      <td>0-15 Min</td>\n",
              "      <td>False</td>\n",
              "      <td>Zone X4</td>\n",
              "      <td>False</td>\n",
              "      <td>False</td>\n",
              "      <td>8</td>\n",
              "      <td>short</td>\n",
              "      <td>2005-02-17</td>\n",
              "      <td>good</td>\n",
              "    </tr>\n",
              "  </tbody>\n",
              "</table>\n",
              "<p>3 rows × 21 columns</p>\n",
              "</div>\n",
              "      <button class=\"colab-df-convert\" onclick=\"convertToInteractive('df-3e7f0cd2-b401-4877-b5e6-d04543f66a3b')\"\n",
              "              title=\"Convert this dataframe to an interactive table.\"\n",
              "              style=\"display:none;\">\n",
              "        \n",
              "  <svg xmlns=\"http://www.w3.org/2000/svg\" height=\"24px\"viewBox=\"0 0 24 24\"\n",
              "       width=\"24px\">\n",
              "    <path d=\"M0 0h24v24H0V0z\" fill=\"none\"/>\n",
              "    <path d=\"M18.56 5.44l.94 2.06.94-2.06 2.06-.94-2.06-.94-.94-2.06-.94 2.06-2.06.94zm-11 1L8.5 8.5l.94-2.06 2.06-.94-2.06-.94L8.5 2.5l-.94 2.06-2.06.94zm10 10l.94 2.06.94-2.06 2.06-.94-2.06-.94-.94-2.06-.94 2.06-2.06.94z\"/><path d=\"M17.41 7.96l-1.37-1.37c-.4-.4-.92-.59-1.43-.59-.52 0-1.04.2-1.43.59L10.3 9.45l-7.72 7.72c-.78.78-.78 2.05 0 2.83L4 21.41c.39.39.9.59 1.41.59.51 0 1.02-.2 1.41-.59l7.78-7.78 2.81-2.81c.8-.78.8-2.07 0-2.86zM5.41 20L4 18.59l7.72-7.72 1.47 1.35L5.41 20z\"/>\n",
              "  </svg>\n",
              "      </button>\n",
              "      \n",
              "  <style>\n",
              "    .colab-df-container {\n",
              "      display:flex;\n",
              "      flex-wrap:wrap;\n",
              "      gap: 12px;\n",
              "    }\n",
              "\n",
              "    .colab-df-convert {\n",
              "      background-color: #E8F0FE;\n",
              "      border: none;\n",
              "      border-radius: 50%;\n",
              "      cursor: pointer;\n",
              "      display: none;\n",
              "      fill: #1967D2;\n",
              "      height: 32px;\n",
              "      padding: 0 0 0 0;\n",
              "      width: 32px;\n",
              "    }\n",
              "\n",
              "    .colab-df-convert:hover {\n",
              "      background-color: #E2EBFA;\n",
              "      box-shadow: 0px 1px 2px rgba(60, 64, 67, 0.3), 0px 1px 3px 1px rgba(60, 64, 67, 0.15);\n",
              "      fill: #174EA6;\n",
              "    }\n",
              "\n",
              "    [theme=dark] .colab-df-convert {\n",
              "      background-color: #3B4455;\n",
              "      fill: #D2E3FC;\n",
              "    }\n",
              "\n",
              "    [theme=dark] .colab-df-convert:hover {\n",
              "      background-color: #434B5C;\n",
              "      box-shadow: 0px 1px 3px 1px rgba(0, 0, 0, 0.15);\n",
              "      filter: drop-shadow(0px 1px 2px rgba(0, 0, 0, 0.3));\n",
              "      fill: #FFFFFF;\n",
              "    }\n",
              "  </style>\n",
              "\n",
              "      <script>\n",
              "        const buttonEl =\n",
              "          document.querySelector('#df-3e7f0cd2-b401-4877-b5e6-d04543f66a3b button.colab-df-convert');\n",
              "        buttonEl.style.display =\n",
              "          google.colab.kernel.accessAllowed ? 'block' : 'none';\n",
              "\n",
              "        async function convertToInteractive(key) {\n",
              "          const element = document.querySelector('#df-3e7f0cd2-b401-4877-b5e6-d04543f66a3b');\n",
              "          const dataTable =\n",
              "            await google.colab.kernel.invokeFunction('convertToInteractive',\n",
              "                                                     [key], {});\n",
              "          if (!dataTable) return;\n",
              "\n",
              "          const docLinkHtml = 'Like what you see? Visit the ' +\n",
              "            '<a target=\"_blank\" href=https://colab.research.google.com/notebooks/data_table.ipynb>data table notebook</a>'\n",
              "            + ' to learn more about interactive tables.';\n",
              "          element.innerHTML = '';\n",
              "          dataTable['output_type'] = 'display_data';\n",
              "          await google.colab.output.renderOutput(dataTable, element);\n",
              "          const docLink = document.createElement('div');\n",
              "          docLink.innerHTML = docLinkHtml;\n",
              "          element.appendChild(docLink);\n",
              "        }\n",
              "      </script>\n",
              "    </div>\n",
              "  </div>\n",
              "  "
            ]
          },
          "metadata": {},
          "execution_count": 73
        }
      ]
    },
    {
      "cell_type": "code",
      "source": [
        "# view the last 3 rows\n",
        "ri_weather.tail(3)"
      ],
      "metadata": {
        "id": "iBx0K3LzSBTP",
        "colab": {
          "base_uri": "https://localhost:8080/",
          "height": 289
        },
        "outputId": "9399bd27-4d26-4f21-84e0-1ed4241d8692"
      },
      "id": "iBx0K3LzSBTP",
      "execution_count": 74,
      "outputs": [
        {
          "output_type": "execute_result",
          "data": {
            "text/plain": [
              "            date_and_time state   stop_date stop_time driver_gender  \\\n",
              "86533 2015-12-31 22:04:00    RI  2015-12-31     22:04             M   \n",
              "86534 2015-12-31 22:09:00    RI  2015-12-31     22:09             F   \n",
              "86535 2015-12-31 22:47:00    RI  2015-12-31     22:47             M   \n",
              "\n",
              "      driver_race                   violation_raw            violation  \\\n",
              "86533       White         Other Traffic Violation     Moving violation   \n",
              "86534    Hispanic  Equipment/Inspection Violation            Equipment   \n",
              "86535       White          Registration Violation  Registration/plates   \n",
              "\n",
              "       search_conducted search_type  ... is_arrested stop_duration  \\\n",
              "86533             False         NaN  ...       False      0-15 Min   \n",
              "86534             False         NaN  ...       False      0-15 Min   \n",
              "86535             False         NaN  ...       False      0-15 Min   \n",
              "\n",
              "      drugs_related_stop  district inventory  frisk  stop_mins  stop_length  \\\n",
              "86533              False   Zone X3     False  False          8        short   \n",
              "86534              False   Zone K3     False  False          8        short   \n",
              "86535              False   Zone X4     False  False          8        short   \n",
              "\n",
              "             DATE rating  \n",
              "86533  2015-12-31    bad  \n",
              "86534  2015-12-31    bad  \n",
              "86535  2015-12-31    bad  \n",
              "\n",
              "[3 rows x 21 columns]"
            ],
            "text/html": [
              "\n",
              "  <div id=\"df-ac201680-8044-4163-b3a8-01450cacc76b\">\n",
              "    <div class=\"colab-df-container\">\n",
              "      <div>\n",
              "<style scoped>\n",
              "    .dataframe tbody tr th:only-of-type {\n",
              "        vertical-align: middle;\n",
              "    }\n",
              "\n",
              "    .dataframe tbody tr th {\n",
              "        vertical-align: top;\n",
              "    }\n",
              "\n",
              "    .dataframe thead th {\n",
              "        text-align: right;\n",
              "    }\n",
              "</style>\n",
              "<table border=\"1\" class=\"dataframe\">\n",
              "  <thead>\n",
              "    <tr style=\"text-align: right;\">\n",
              "      <th></th>\n",
              "      <th>date_and_time</th>\n",
              "      <th>state</th>\n",
              "      <th>stop_date</th>\n",
              "      <th>stop_time</th>\n",
              "      <th>driver_gender</th>\n",
              "      <th>driver_race</th>\n",
              "      <th>violation_raw</th>\n",
              "      <th>violation</th>\n",
              "      <th>search_conducted</th>\n",
              "      <th>search_type</th>\n",
              "      <th>...</th>\n",
              "      <th>is_arrested</th>\n",
              "      <th>stop_duration</th>\n",
              "      <th>drugs_related_stop</th>\n",
              "      <th>district</th>\n",
              "      <th>inventory</th>\n",
              "      <th>frisk</th>\n",
              "      <th>stop_mins</th>\n",
              "      <th>stop_length</th>\n",
              "      <th>DATE</th>\n",
              "      <th>rating</th>\n",
              "    </tr>\n",
              "  </thead>\n",
              "  <tbody>\n",
              "    <tr>\n",
              "      <th>86533</th>\n",
              "      <td>2015-12-31 22:04:00</td>\n",
              "      <td>RI</td>\n",
              "      <td>2015-12-31</td>\n",
              "      <td>22:04</td>\n",
              "      <td>M</td>\n",
              "      <td>White</td>\n",
              "      <td>Other Traffic Violation</td>\n",
              "      <td>Moving violation</td>\n",
              "      <td>False</td>\n",
              "      <td>NaN</td>\n",
              "      <td>...</td>\n",
              "      <td>False</td>\n",
              "      <td>0-15 Min</td>\n",
              "      <td>False</td>\n",
              "      <td>Zone X3</td>\n",
              "      <td>False</td>\n",
              "      <td>False</td>\n",
              "      <td>8</td>\n",
              "      <td>short</td>\n",
              "      <td>2015-12-31</td>\n",
              "      <td>bad</td>\n",
              "    </tr>\n",
              "    <tr>\n",
              "      <th>86534</th>\n",
              "      <td>2015-12-31 22:09:00</td>\n",
              "      <td>RI</td>\n",
              "      <td>2015-12-31</td>\n",
              "      <td>22:09</td>\n",
              "      <td>F</td>\n",
              "      <td>Hispanic</td>\n",
              "      <td>Equipment/Inspection Violation</td>\n",
              "      <td>Equipment</td>\n",
              "      <td>False</td>\n",
              "      <td>NaN</td>\n",
              "      <td>...</td>\n",
              "      <td>False</td>\n",
              "      <td>0-15 Min</td>\n",
              "      <td>False</td>\n",
              "      <td>Zone K3</td>\n",
              "      <td>False</td>\n",
              "      <td>False</td>\n",
              "      <td>8</td>\n",
              "      <td>short</td>\n",
              "      <td>2015-12-31</td>\n",
              "      <td>bad</td>\n",
              "    </tr>\n",
              "    <tr>\n",
              "      <th>86535</th>\n",
              "      <td>2015-12-31 22:47:00</td>\n",
              "      <td>RI</td>\n",
              "      <td>2015-12-31</td>\n",
              "      <td>22:47</td>\n",
              "      <td>M</td>\n",
              "      <td>White</td>\n",
              "      <td>Registration Violation</td>\n",
              "      <td>Registration/plates</td>\n",
              "      <td>False</td>\n",
              "      <td>NaN</td>\n",
              "      <td>...</td>\n",
              "      <td>False</td>\n",
              "      <td>0-15 Min</td>\n",
              "      <td>False</td>\n",
              "      <td>Zone X4</td>\n",
              "      <td>False</td>\n",
              "      <td>False</td>\n",
              "      <td>8</td>\n",
              "      <td>short</td>\n",
              "      <td>2015-12-31</td>\n",
              "      <td>bad</td>\n",
              "    </tr>\n",
              "  </tbody>\n",
              "</table>\n",
              "<p>3 rows × 21 columns</p>\n",
              "</div>\n",
              "      <button class=\"colab-df-convert\" onclick=\"convertToInteractive('df-ac201680-8044-4163-b3a8-01450cacc76b')\"\n",
              "              title=\"Convert this dataframe to an interactive table.\"\n",
              "              style=\"display:none;\">\n",
              "        \n",
              "  <svg xmlns=\"http://www.w3.org/2000/svg\" height=\"24px\"viewBox=\"0 0 24 24\"\n",
              "       width=\"24px\">\n",
              "    <path d=\"M0 0h24v24H0V0z\" fill=\"none\"/>\n",
              "    <path d=\"M18.56 5.44l.94 2.06.94-2.06 2.06-.94-2.06-.94-.94-2.06-.94 2.06-2.06.94zm-11 1L8.5 8.5l.94-2.06 2.06-.94-2.06-.94L8.5 2.5l-.94 2.06-2.06.94zm10 10l.94 2.06.94-2.06 2.06-.94-2.06-.94-.94-2.06-.94 2.06-2.06.94z\"/><path d=\"M17.41 7.96l-1.37-1.37c-.4-.4-.92-.59-1.43-.59-.52 0-1.04.2-1.43.59L10.3 9.45l-7.72 7.72c-.78.78-.78 2.05 0 2.83L4 21.41c.39.39.9.59 1.41.59.51 0 1.02-.2 1.41-.59l7.78-7.78 2.81-2.81c.8-.78.8-2.07 0-2.86zM5.41 20L4 18.59l7.72-7.72 1.47 1.35L5.41 20z\"/>\n",
              "  </svg>\n",
              "      </button>\n",
              "      \n",
              "  <style>\n",
              "    .colab-df-container {\n",
              "      display:flex;\n",
              "      flex-wrap:wrap;\n",
              "      gap: 12px;\n",
              "    }\n",
              "\n",
              "    .colab-df-convert {\n",
              "      background-color: #E8F0FE;\n",
              "      border: none;\n",
              "      border-radius: 50%;\n",
              "      cursor: pointer;\n",
              "      display: none;\n",
              "      fill: #1967D2;\n",
              "      height: 32px;\n",
              "      padding: 0 0 0 0;\n",
              "      width: 32px;\n",
              "    }\n",
              "\n",
              "    .colab-df-convert:hover {\n",
              "      background-color: #E2EBFA;\n",
              "      box-shadow: 0px 1px 2px rgba(60, 64, 67, 0.3), 0px 1px 3px 1px rgba(60, 64, 67, 0.15);\n",
              "      fill: #174EA6;\n",
              "    }\n",
              "\n",
              "    [theme=dark] .colab-df-convert {\n",
              "      background-color: #3B4455;\n",
              "      fill: #D2E3FC;\n",
              "    }\n",
              "\n",
              "    [theme=dark] .colab-df-convert:hover {\n",
              "      background-color: #434B5C;\n",
              "      box-shadow: 0px 1px 3px 1px rgba(0, 0, 0, 0.15);\n",
              "      filter: drop-shadow(0px 1px 2px rgba(0, 0, 0, 0.3));\n",
              "      fill: #FFFFFF;\n",
              "    }\n",
              "  </style>\n",
              "\n",
              "      <script>\n",
              "        const buttonEl =\n",
              "          document.querySelector('#df-ac201680-8044-4163-b3a8-01450cacc76b button.colab-df-convert');\n",
              "        buttonEl.style.display =\n",
              "          google.colab.kernel.accessAllowed ? 'block' : 'none';\n",
              "\n",
              "        async function convertToInteractive(key) {\n",
              "          const element = document.querySelector('#df-ac201680-8044-4163-b3a8-01450cacc76b');\n",
              "          const dataTable =\n",
              "            await google.colab.kernel.invokeFunction('convertToInteractive',\n",
              "                                                     [key], {});\n",
              "          if (!dataTable) return;\n",
              "\n",
              "          const docLinkHtml = 'Like what you see? Visit the ' +\n",
              "            '<a target=\"_blank\" href=https://colab.research.google.com/notebooks/data_table.ipynb>data table notebook</a>'\n",
              "            + ' to learn more about interactive tables.';\n",
              "          element.innerHTML = '';\n",
              "          dataTable['output_type'] = 'display_data';\n",
              "          await google.colab.output.renderOutput(dataTable, element);\n",
              "          const docLink = document.createElement('div');\n",
              "          docLink.innerHTML = docLinkHtml;\n",
              "          element.appendChild(docLink);\n",
              "        }\n",
              "      </script>\n",
              "    </div>\n",
              "  </div>\n",
              "  "
            ]
          },
          "metadata": {},
          "execution_count": 74
        }
      ]
    },
    {
      "cell_type": "code",
      "source": [
        "# Now set the 'stop_datetime' as the index of 'ri_weather'\n",
        "ri_weather.set_index('date_and_time', inplace=True)"
      ],
      "metadata": {
        "id": "PNB15TAfSY2s"
      },
      "id": "PNB15TAfSY2s",
      "execution_count": 75,
      "outputs": []
    },
    {
      "cell_type": "markdown",
      "source": [
        "### 4.7 Does weather affect the arrest rate?"
      ],
      "metadata": {
        "id": "zkP7YjDxnWcP"
      },
      "id": "zkP7YjDxnWcP"
    },
    {
      "cell_type": "code",
      "source": [
        "# driver gender and vehicle searches\n",
        "search_rate = ri_weather.groupby(['violation','driver_gender']).search_conducted.mean()\n",
        "search_rate"
      ],
      "metadata": {
        "id": "Tc_FBV-Sjy9_",
        "colab": {
          "base_uri": "https://localhost:8080/"
        },
        "outputId": "02d1c88d-073b-470b-fa04-d88ed506797b"
      },
      "id": "Tc_FBV-Sjy9_",
      "execution_count": 76,
      "outputs": [
        {
          "output_type": "execute_result",
          "data": {
            "text/plain": [
              "violation            driver_gender\n",
              "Equipment            F                0.039984\n",
              "                     M                0.071496\n",
              "Moving violation     F                0.039257\n",
              "                     M                0.061524\n",
              "Other                F                0.041018\n",
              "                     M                0.046191\n",
              "Registration/plates  F                0.054924\n",
              "                     M                0.108802\n",
              "Seat belt            F                0.017301\n",
              "                     M                0.035119\n",
              "Speeding             F                0.008309\n",
              "                     M                0.027885\n",
              "Name: search_conducted, dtype: float64"
            ]
          },
          "metadata": {},
          "execution_count": 76
        }
      ]
    },
    {
      "cell_type": "markdown",
      "source": [
        "This is not a dataframe. Instead, it's a Pandas series with two level indexes (outer index = violation, inner index = driver_gender). Let's convert this series into a Pandas dataframe. "
      ],
      "metadata": {
        "id": "Rj-sn_PVpNh3"
      },
      "id": "Rj-sn_PVpNh3"
    },
    {
      "cell_type": "code",
      "source": [
        "type(search_rate)"
      ],
      "metadata": {
        "id": "RG1DY-OOm7Vm",
        "colab": {
          "base_uri": "https://localhost:8080/"
        },
        "outputId": "89c411e7-8982-4b93-a42a-fbfae28b62e7"
      },
      "id": "RG1DY-OOm7Vm",
      "execution_count": 77,
      "outputs": [
        {
          "output_type": "execute_result",
          "data": {
            "text/plain": [
              "pandas.core.series.Series"
            ]
          },
          "metadata": {},
          "execution_count": 77
        }
      ]
    },
    {
      "cell_type": "code",
      "source": [
        "type(search_rate.index)"
      ],
      "metadata": {
        "id": "xH1Q-oyam7nW",
        "colab": {
          "base_uri": "https://localhost:8080/"
        },
        "outputId": "dd4062e6-94f0-4de5-c7af-dc12c4470443"
      },
      "id": "xH1Q-oyam7nW",
      "execution_count": 78,
      "outputs": [
        {
          "output_type": "execute_result",
          "data": {
            "text/plain": [
              "pandas.core.indexes.multi.MultiIndex"
            ]
          },
          "metadata": {},
          "execution_count": 78
        }
      ]
    },
    {
      "cell_type": "code",
      "source": [
        "# Converting a multi-indexed Series to a DataFrame\n",
        "search_rate.unstack()"
      ],
      "metadata": {
        "id": "1-LZ2qgXm70w",
        "colab": {
          "base_uri": "https://localhost:8080/",
          "height": 269
        },
        "outputId": "a2e715ba-0c81-46cc-859c-ba287f985513"
      },
      "id": "1-LZ2qgXm70w",
      "execution_count": 79,
      "outputs": [
        {
          "output_type": "execute_result",
          "data": {
            "text/plain": [
              "driver_gender               F         M\n",
              "violation                              \n",
              "Equipment            0.039984  0.071496\n",
              "Moving violation     0.039257  0.061524\n",
              "Other                0.041018  0.046191\n",
              "Registration/plates  0.054924  0.108802\n",
              "Seat belt            0.017301  0.035119\n",
              "Speeding             0.008309  0.027885"
            ],
            "text/html": [
              "\n",
              "  <div id=\"df-103bdb66-b9ec-436b-924c-c55dabe8f09a\">\n",
              "    <div class=\"colab-df-container\">\n",
              "      <div>\n",
              "<style scoped>\n",
              "    .dataframe tbody tr th:only-of-type {\n",
              "        vertical-align: middle;\n",
              "    }\n",
              "\n",
              "    .dataframe tbody tr th {\n",
              "        vertical-align: top;\n",
              "    }\n",
              "\n",
              "    .dataframe thead th {\n",
              "        text-align: right;\n",
              "    }\n",
              "</style>\n",
              "<table border=\"1\" class=\"dataframe\">\n",
              "  <thead>\n",
              "    <tr style=\"text-align: right;\">\n",
              "      <th>driver_gender</th>\n",
              "      <th>F</th>\n",
              "      <th>M</th>\n",
              "    </tr>\n",
              "    <tr>\n",
              "      <th>violation</th>\n",
              "      <th></th>\n",
              "      <th></th>\n",
              "    </tr>\n",
              "  </thead>\n",
              "  <tbody>\n",
              "    <tr>\n",
              "      <th>Equipment</th>\n",
              "      <td>0.039984</td>\n",
              "      <td>0.071496</td>\n",
              "    </tr>\n",
              "    <tr>\n",
              "      <th>Moving violation</th>\n",
              "      <td>0.039257</td>\n",
              "      <td>0.061524</td>\n",
              "    </tr>\n",
              "    <tr>\n",
              "      <th>Other</th>\n",
              "      <td>0.041018</td>\n",
              "      <td>0.046191</td>\n",
              "    </tr>\n",
              "    <tr>\n",
              "      <th>Registration/plates</th>\n",
              "      <td>0.054924</td>\n",
              "      <td>0.108802</td>\n",
              "    </tr>\n",
              "    <tr>\n",
              "      <th>Seat belt</th>\n",
              "      <td>0.017301</td>\n",
              "      <td>0.035119</td>\n",
              "    </tr>\n",
              "    <tr>\n",
              "      <th>Speeding</th>\n",
              "      <td>0.008309</td>\n",
              "      <td>0.027885</td>\n",
              "    </tr>\n",
              "  </tbody>\n",
              "</table>\n",
              "</div>\n",
              "      <button class=\"colab-df-convert\" onclick=\"convertToInteractive('df-103bdb66-b9ec-436b-924c-c55dabe8f09a')\"\n",
              "              title=\"Convert this dataframe to an interactive table.\"\n",
              "              style=\"display:none;\">\n",
              "        \n",
              "  <svg xmlns=\"http://www.w3.org/2000/svg\" height=\"24px\"viewBox=\"0 0 24 24\"\n",
              "       width=\"24px\">\n",
              "    <path d=\"M0 0h24v24H0V0z\" fill=\"none\"/>\n",
              "    <path d=\"M18.56 5.44l.94 2.06.94-2.06 2.06-.94-2.06-.94-.94-2.06-.94 2.06-2.06.94zm-11 1L8.5 8.5l.94-2.06 2.06-.94-2.06-.94L8.5 2.5l-.94 2.06-2.06.94zm10 10l.94 2.06.94-2.06 2.06-.94-2.06-.94-.94-2.06-.94 2.06-2.06.94z\"/><path d=\"M17.41 7.96l-1.37-1.37c-.4-.4-.92-.59-1.43-.59-.52 0-1.04.2-1.43.59L10.3 9.45l-7.72 7.72c-.78.78-.78 2.05 0 2.83L4 21.41c.39.39.9.59 1.41.59.51 0 1.02-.2 1.41-.59l7.78-7.78 2.81-2.81c.8-.78.8-2.07 0-2.86zM5.41 20L4 18.59l7.72-7.72 1.47 1.35L5.41 20z\"/>\n",
              "  </svg>\n",
              "      </button>\n",
              "      \n",
              "  <style>\n",
              "    .colab-df-container {\n",
              "      display:flex;\n",
              "      flex-wrap:wrap;\n",
              "      gap: 12px;\n",
              "    }\n",
              "\n",
              "    .colab-df-convert {\n",
              "      background-color: #E8F0FE;\n",
              "      border: none;\n",
              "      border-radius: 50%;\n",
              "      cursor: pointer;\n",
              "      display: none;\n",
              "      fill: #1967D2;\n",
              "      height: 32px;\n",
              "      padding: 0 0 0 0;\n",
              "      width: 32px;\n",
              "    }\n",
              "\n",
              "    .colab-df-convert:hover {\n",
              "      background-color: #E2EBFA;\n",
              "      box-shadow: 0px 1px 2px rgba(60, 64, 67, 0.3), 0px 1px 3px 1px rgba(60, 64, 67, 0.15);\n",
              "      fill: #174EA6;\n",
              "    }\n",
              "\n",
              "    [theme=dark] .colab-df-convert {\n",
              "      background-color: #3B4455;\n",
              "      fill: #D2E3FC;\n",
              "    }\n",
              "\n",
              "    [theme=dark] .colab-df-convert:hover {\n",
              "      background-color: #434B5C;\n",
              "      box-shadow: 0px 1px 3px 1px rgba(0, 0, 0, 0.15);\n",
              "      filter: drop-shadow(0px 1px 2px rgba(0, 0, 0, 0.3));\n",
              "      fill: #FFFFFF;\n",
              "    }\n",
              "  </style>\n",
              "\n",
              "      <script>\n",
              "        const buttonEl =\n",
              "          document.querySelector('#df-103bdb66-b9ec-436b-924c-c55dabe8f09a button.colab-df-convert');\n",
              "        buttonEl.style.display =\n",
              "          google.colab.kernel.accessAllowed ? 'block' : 'none';\n",
              "\n",
              "        async function convertToInteractive(key) {\n",
              "          const element = document.querySelector('#df-103bdb66-b9ec-436b-924c-c55dabe8f09a');\n",
              "          const dataTable =\n",
              "            await google.colab.kernel.invokeFunction('convertToInteractive',\n",
              "                                                     [key], {});\n",
              "          if (!dataTable) return;\n",
              "\n",
              "          const docLinkHtml = 'Like what you see? Visit the ' +\n",
              "            '<a target=\"_blank\" href=https://colab.research.google.com/notebooks/data_table.ipynb>data table notebook</a>'\n",
              "            + ' to learn more about interactive tables.';\n",
              "          element.innerHTML = '';\n",
              "          dataTable['output_type'] = 'display_data';\n",
              "          await google.colab.output.renderOutput(dataTable, element);\n",
              "          const docLink = document.createElement('div');\n",
              "          docLink.innerHTML = docLinkHtml;\n",
              "          element.appendChild(docLink);\n",
              "        }\n",
              "      </script>\n",
              "    </div>\n",
              "  </div>\n",
              "  "
            ]
          },
          "metadata": {},
          "execution_count": 79
        }
      ]
    },
    {
      "cell_type": "code",
      "source": [
        "type(search_rate.unstack())"
      ],
      "metadata": {
        "id": "FZQceW0mqxgi",
        "colab": {
          "base_uri": "https://localhost:8080/"
        },
        "outputId": "f091c940-0b03-43d5-f9da-bf0fef35ca8a"
      },
      "id": "FZQceW0mqxgi",
      "execution_count": 80,
      "outputs": [
        {
          "output_type": "execute_result",
          "data": {
            "text/plain": [
              "pandas.core.frame.DataFrame"
            ]
          },
          "metadata": {},
          "execution_count": 80
        }
      ]
    },
    {
      "cell_type": "markdown",
      "source": [
        "### 4.8 Do police officers arrest drivers more often when the weather is bad?"
      ],
      "metadata": {
        "id": "w4aneSDibxBS"
      },
      "id": "w4aneSDibxBS"
    },
    {
      "cell_type": "code",
      "source": [
        "# Calculate the arrest rate for each 'violation' and 'rating'\n",
        "arrest_rate_ = round(ri_weather.groupby(['violation', 'rating']).is_arrested.mean()*100, ndigits=2)\n",
        "arrest_rate_"
      ],
      "metadata": {
        "id": "75ky22jjbow_",
        "colab": {
          "base_uri": "https://localhost:8080/"
        },
        "outputId": "1c258fe0-7e13-4a42-da97-81fbccec98c2"
      },
      "id": "75ky22jjbow_",
      "execution_count": 81,
      "outputs": [
        {
          "output_type": "execute_result",
          "data": {
            "text/plain": [
              "violation            rating\n",
              "Equipment            good       5.90\n",
              "                     bad        6.63\n",
              "                     worse      9.74\n",
              "Moving violation     good       5.62\n",
              "                     bad        5.80\n",
              "                     worse      6.59\n",
              "Other                good       7.70\n",
              "                     bad        8.74\n",
              "                     worse      6.29\n",
              "Registration/plates  good       8.16\n",
              "                     bad        9.82\n",
              "                     worse     11.56\n",
              "Seat belt            good       2.86\n",
              "                     bad        2.25\n",
              "                     worse      0.00\n",
              "Speeding             good       1.34\n",
              "                     bad        1.33\n",
              "                     worse      1.69\n",
              "Name: is_arrested, dtype: float64"
            ]
          },
          "metadata": {},
          "execution_count": 81
        }
      ]
    },
    {
      "cell_type": "code",
      "source": [
        "# convert the above series into a dataframe\n",
        "arrest_rate_df = arrest_rate_.unstack()\n",
        "arrest_rate_df"
      ],
      "metadata": {
        "id": "W-XXaqxBdXmD",
        "colab": {
          "base_uri": "https://localhost:8080/",
          "height": 269
        },
        "outputId": "5ab380e4-71db-4ab8-8a27-c9db19ca843d"
      },
      "id": "W-XXaqxBdXmD",
      "execution_count": 82,
      "outputs": [
        {
          "output_type": "execute_result",
          "data": {
            "text/plain": [
              "rating               good   bad  worse\n",
              "violation                             \n",
              "Equipment            5.90  6.63   9.74\n",
              "Moving violation     5.62  5.80   6.59\n",
              "Other                7.70  8.74   6.29\n",
              "Registration/plates  8.16  9.82  11.56\n",
              "Seat belt            2.86  2.25   0.00\n",
              "Speeding             1.34  1.33   1.69"
            ],
            "text/html": [
              "\n",
              "  <div id=\"df-daa3101c-bb78-4972-ad2b-d7a8790e9d36\">\n",
              "    <div class=\"colab-df-container\">\n",
              "      <div>\n",
              "<style scoped>\n",
              "    .dataframe tbody tr th:only-of-type {\n",
              "        vertical-align: middle;\n",
              "    }\n",
              "\n",
              "    .dataframe tbody tr th {\n",
              "        vertical-align: top;\n",
              "    }\n",
              "\n",
              "    .dataframe thead th {\n",
              "        text-align: right;\n",
              "    }\n",
              "</style>\n",
              "<table border=\"1\" class=\"dataframe\">\n",
              "  <thead>\n",
              "    <tr style=\"text-align: right;\">\n",
              "      <th>rating</th>\n",
              "      <th>good</th>\n",
              "      <th>bad</th>\n",
              "      <th>worse</th>\n",
              "    </tr>\n",
              "    <tr>\n",
              "      <th>violation</th>\n",
              "      <th></th>\n",
              "      <th></th>\n",
              "      <th></th>\n",
              "    </tr>\n",
              "  </thead>\n",
              "  <tbody>\n",
              "    <tr>\n",
              "      <th>Equipment</th>\n",
              "      <td>5.90</td>\n",
              "      <td>6.63</td>\n",
              "      <td>9.74</td>\n",
              "    </tr>\n",
              "    <tr>\n",
              "      <th>Moving violation</th>\n",
              "      <td>5.62</td>\n",
              "      <td>5.80</td>\n",
              "      <td>6.59</td>\n",
              "    </tr>\n",
              "    <tr>\n",
              "      <th>Other</th>\n",
              "      <td>7.70</td>\n",
              "      <td>8.74</td>\n",
              "      <td>6.29</td>\n",
              "    </tr>\n",
              "    <tr>\n",
              "      <th>Registration/plates</th>\n",
              "      <td>8.16</td>\n",
              "      <td>9.82</td>\n",
              "      <td>11.56</td>\n",
              "    </tr>\n",
              "    <tr>\n",
              "      <th>Seat belt</th>\n",
              "      <td>2.86</td>\n",
              "      <td>2.25</td>\n",
              "      <td>0.00</td>\n",
              "    </tr>\n",
              "    <tr>\n",
              "      <th>Speeding</th>\n",
              "      <td>1.34</td>\n",
              "      <td>1.33</td>\n",
              "      <td>1.69</td>\n",
              "    </tr>\n",
              "  </tbody>\n",
              "</table>\n",
              "</div>\n",
              "      <button class=\"colab-df-convert\" onclick=\"convertToInteractive('df-daa3101c-bb78-4972-ad2b-d7a8790e9d36')\"\n",
              "              title=\"Convert this dataframe to an interactive table.\"\n",
              "              style=\"display:none;\">\n",
              "        \n",
              "  <svg xmlns=\"http://www.w3.org/2000/svg\" height=\"24px\"viewBox=\"0 0 24 24\"\n",
              "       width=\"24px\">\n",
              "    <path d=\"M0 0h24v24H0V0z\" fill=\"none\"/>\n",
              "    <path d=\"M18.56 5.44l.94 2.06.94-2.06 2.06-.94-2.06-.94-.94-2.06-.94 2.06-2.06.94zm-11 1L8.5 8.5l.94-2.06 2.06-.94-2.06-.94L8.5 2.5l-.94 2.06-2.06.94zm10 10l.94 2.06.94-2.06 2.06-.94-2.06-.94-.94-2.06-.94 2.06-2.06.94z\"/><path d=\"M17.41 7.96l-1.37-1.37c-.4-.4-.92-.59-1.43-.59-.52 0-1.04.2-1.43.59L10.3 9.45l-7.72 7.72c-.78.78-.78 2.05 0 2.83L4 21.41c.39.39.9.59 1.41.59.51 0 1.02-.2 1.41-.59l7.78-7.78 2.81-2.81c.8-.78.8-2.07 0-2.86zM5.41 20L4 18.59l7.72-7.72 1.47 1.35L5.41 20z\"/>\n",
              "  </svg>\n",
              "      </button>\n",
              "      \n",
              "  <style>\n",
              "    .colab-df-container {\n",
              "      display:flex;\n",
              "      flex-wrap:wrap;\n",
              "      gap: 12px;\n",
              "    }\n",
              "\n",
              "    .colab-df-convert {\n",
              "      background-color: #E8F0FE;\n",
              "      border: none;\n",
              "      border-radius: 50%;\n",
              "      cursor: pointer;\n",
              "      display: none;\n",
              "      fill: #1967D2;\n",
              "      height: 32px;\n",
              "      padding: 0 0 0 0;\n",
              "      width: 32px;\n",
              "    }\n",
              "\n",
              "    .colab-df-convert:hover {\n",
              "      background-color: #E2EBFA;\n",
              "      box-shadow: 0px 1px 2px rgba(60, 64, 67, 0.3), 0px 1px 3px 1px rgba(60, 64, 67, 0.15);\n",
              "      fill: #174EA6;\n",
              "    }\n",
              "\n",
              "    [theme=dark] .colab-df-convert {\n",
              "      background-color: #3B4455;\n",
              "      fill: #D2E3FC;\n",
              "    }\n",
              "\n",
              "    [theme=dark] .colab-df-convert:hover {\n",
              "      background-color: #434B5C;\n",
              "      box-shadow: 0px 1px 3px 1px rgba(0, 0, 0, 0.15);\n",
              "      filter: drop-shadow(0px 1px 2px rgba(0, 0, 0, 0.3));\n",
              "      fill: #FFFFFF;\n",
              "    }\n",
              "  </style>\n",
              "\n",
              "      <script>\n",
              "        const buttonEl =\n",
              "          document.querySelector('#df-daa3101c-bb78-4972-ad2b-d7a8790e9d36 button.colab-df-convert');\n",
              "        buttonEl.style.display =\n",
              "          google.colab.kernel.accessAllowed ? 'block' : 'none';\n",
              "\n",
              "        async function convertToInteractive(key) {\n",
              "          const element = document.querySelector('#df-daa3101c-bb78-4972-ad2b-d7a8790e9d36');\n",
              "          const dataTable =\n",
              "            await google.colab.kernel.invokeFunction('convertToInteractive',\n",
              "                                                     [key], {});\n",
              "          if (!dataTable) return;\n",
              "\n",
              "          const docLinkHtml = 'Like what you see? Visit the ' +\n",
              "            '<a target=\"_blank\" href=https://colab.research.google.com/notebooks/data_table.ipynb>data table notebook</a>'\n",
              "            + ' to learn more about interactive tables.';\n",
              "          element.innerHTML = '';\n",
              "          dataTable['output_type'] = 'display_data';\n",
              "          await google.colab.output.renderOutput(dataTable, element);\n",
              "          const docLink = document.createElement('div');\n",
              "          docLink.innerHTML = docLinkHtml;\n",
              "          element.appendChild(docLink);\n",
              "        }\n",
              "      </script>\n",
              "    </div>\n",
              "  </div>\n",
              "  "
            ]
          },
          "metadata": {},
          "execution_count": 82
        }
      ]
    },
    {
      "cell_type": "code",
      "source": [
        "# visualize arrest rate\n",
        "arrest_rate_df.plot(kind='barh', figsize=(8,8))\n",
        "\n",
        "# set x-axis label\n",
        "plt.xlabel('Arrest Rate')\n",
        "\n",
        "# remove the y-axis label\n",
        "plt.ylabel(None)"
      ],
      "metadata": {
        "id": "IKLMeaT8fN08",
        "colab": {
          "base_uri": "https://localhost:8080/",
          "height": 519
        },
        "outputId": "1a5f57ae-c9e9-4720-b927-224b40897f1e"
      },
      "id": "IKLMeaT8fN08",
      "execution_count": 83,
      "outputs": [
        {
          "output_type": "execute_result",
          "data": {
            "text/plain": [
              "Text(0, 0.5, '')"
            ]
          },
          "metadata": {},
          "execution_count": 83
        },
        {
          "output_type": "display_data",
          "data": {
            "text/plain": [
              "<Figure size 576x576 with 1 Axes>"
            ],
            "image/png": "[encoded data removed]"
          },
          "metadata": {}
        }
      ]
    },
    {
      "cell_type": "markdown",
      "source": [
        "In most of the violations, the arrest rate is surprisingly highest during the worst weather conditions."
      ],
      "metadata": {
        "id": "6TzGR15bfkNF"
      },
      "id": "6TzGR15bfkNF"
    },
    {
      "cell_type": "markdown",
      "source": [
        "## 5 - Key Insights"
      ],
      "metadata": {
        "id": "CDIuVXWsuKUo"
      },
      "id": "CDIuVXWsuKUo"
    },
    {
      "cell_type": "markdown",
      "source": [
        "In this project, police activity in the US sate of Rhode Island was analyzed thoroughly. Mainly the following insights were gathered:\n",
        "\n",
        "- Affect of driver gender on search rate: male drivers were searched more frequently than the female drivers in the drug related stops, it could be believed that mostly men carry the drugs.\n",
        "\n",
        "- Types of violations committed by male and female drivers were almost in the same proportion. Speeding was the most commited violation by both genders (around **55%** to **65%)**.\n",
        "\n",
        "- Surprisingly, the rate of **drugs related stops** surged during this time period provided that the **search rate** significantly decreased by each year.\n",
        "\n",
        "- Speeding traffic violation was mostly commited by both driver genders.\n",
        "\n",
        "- The firsk rate was higher amongst the male drivers. It might be that mostly men are thought to be higher risk.\n",
        "\n",
        "- Moreover, long stop durations corresponded to higher arrest rate. \n",
        "\n",
        "- Finally, the weather data stated that during worst weather conditions the arrest rate was significantly higher in **90 %** of the violations."
      ],
      "metadata": {
        "id": "rBMkrLXjrWnC"
      },
      "id": "rBMkrLXjrWnC"
    }
  ],
  "metadata": {
    "colab": {
      "collapsed_sections": [
        "eBQyNIZcvMbF",
        "5afe402d-7645-409a-8d4a-093398cf083b",
        "myn5ZyXkohCw",
        "a3e71694-9b83-4832-9245-fcb4387dfb56",
        "6a458fc0-ff39-4e49-a8fd-a46f1680001a",
        "osz9tMaidAWB",
        "yh2CbrEl2o-R",
        "n1PFCjhM3oWe",
        "vBJ-eQh4PFJY",
        "5zg7fVImQ2w7",
        "6fc543c4-159a-4387-a574-8ba710cf8dd2",
        "ef5a3a76-4c6a-46f4-bbc6-d68f996fa73b",
        "859de188-73b5-4528-a2d0-b9215a1ad7df",
        "9515bd40-995e-48d6-917b-6b47c08bbd4f",
        "b690ffe6-cef4-4993-8a20-ea52ccf074f2",
        "UKQ9I8nW5K0n"
      ],
      "name": "Analyzing_Police_Activity_in_Rhode_Island.ipynb",
      "provenance": [],
      "toc_visible": true,
      "include_colab_link": true
    },
    "editor": "DataCamp Workspace",
    "kernelspec": {
      "display_name": "Python 3 (ipykernel)",
      "language": "python",
      "name": "python3"
    },
    "language_info": {
      "codemirror_mode": {
        "name": "ipython",
        "version": 3
      },
      "file_extension": ".py",
      "mimetype": "text/x-python",
      "name": "python",
      "nbconvert_exporter": "python",
      "pygments_lexer": "ipython3",
      "version": "3.8.10"
    }
  },
  "nbformat": 4,
  "nbformat_minor": 5
}